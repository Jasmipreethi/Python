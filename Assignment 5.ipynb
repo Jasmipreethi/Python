{
 "cells": [
  {
   "cell_type": "code",
   "execution_count": 26,
   "id": "9ac49466",
   "metadata": {},
   "outputs": [
    {
     "name": "stdout",
     "output_type": "stream",
     "text": [
      "Enter the length of the list: 12\n",
      "Enter an integer value: 2\n",
      "Enter an integer value: 1\n",
      "Enter an integer value: 3\n",
      "Enter an integer value: 4\n",
      "Enter an integer value: 2\n",
      "Enter an integer value: 3\n",
      "Enter an integer value: 3\n",
      "Enter an integer value: 2\n",
      "Enter an integer value: 7\n",
      "Enter an integer value: 9\n",
      "Enter an integer value: 8\n",
      "Enter an integer value: 7\n",
      "[2, 1, 3, 4, 2, 3, 3, 2, 7, 9, 8, 7]\n",
      "[1, 2, 3, 4, 7, 8, 9]\n"
     ]
    }
   ],
   "source": [
    "#1. Given a list of numbers, write a python program that returns a new list which Has all duplicate elements removed. \n",
    "#And is sorted in an increasing order.\n",
    "#Ex: Input: [2,1,3,4,2,3,3,2,7,9,8,7]\n",
    "#Output: [1,2,3,4,7,8,9]\n",
    "\n",
    "l=[];\n",
    "a=int(input(\"Enter the length of the list: \"))\n",
    "for x in range(0,a):\n",
    "    l.append(int(input(\"Enter an integer value: \")))\n",
    "print(l)\n",
    "for y in l:\n",
    "    if l.count(y)>1:\n",
    "        l.remove(y) \n",
    "    else:\n",
    "        continue\n",
    "l.sort()\n",
    "print(l)"
   ]
  },
  {
   "cell_type": "code",
   "execution_count": 1,
   "id": "8ee0bfd2",
   "metadata": {},
   "outputs": [
    {
     "name": "stdout",
     "output_type": "stream",
     "text": [
      "Enter the length of the dictionary: 4\n",
      "Enter the key: 1\n",
      "Enter the value: abcd\n",
      "Enter the key: 2\n",
      "Enter the value: 90\n",
      "Enter the key: 3\n",
      "Enter the value: hi\n",
      "Enter the key: 4\n",
      "Enter the value: 67\n",
      "\n",
      "Key:  1 \tValue:  abcd\n",
      "Key:  2 \tValue:  90\n",
      "Key:  3 \tValue:  hi\n",
      "Key:  4 \tValue:  67\n"
     ]
    }
   ],
   "source": [
    "#2. Write a Python program where you will iterate over both keys and values in dictionaries.\n",
    "\n",
    "a=int(input(\"Enter the length of the dictionary: \"))\n",
    "d={}\n",
    "for x in range(0,a):\n",
    "    k=input(\"Enter the key: \")\n",
    "    v=input(\"Enter the value: \")\n",
    "    d.update({k:v})\n",
    "print()\n",
    "for p,q in d.items():\n",
    "    print(\"Key: \",p,\"\\tValue: \",q)"
   ]
  },
  {
   "cell_type": "code",
   "execution_count": 4,
   "id": "f9c2299c",
   "metadata": {},
   "outputs": [
    {
     "name": "stdout",
     "output_type": "stream",
     "text": [
      "Enter the number of students: 3\n",
      "Enter the student name : Tarun\n",
      "Enter the student name : Manoj\n",
      "Enter the student name : Gephi\n",
      "Input:  {'Student1': 'Tarun', 'Student2': 'Manoj', 'Student3': 'Gephi'} \n",
      "\n",
      "['Gephi', 'Manoj', 'Tarun']\n"
     ]
    }
   ],
   "source": [
    "#3. Write a Python program that takes a dictionary of student names and returns a list of student names in alphabetical order\n",
    "#Ex: Input: {“Student 1”: \"Tarun\", \"Student 2”: \"Manoj\", \"Student 3”: \"Gephi”}\n",
    "#Output:[“Gephi”,”Manoj”,” Tarun”]\n",
    "\n",
    "a=int(input(\"Enter the number of students: \"))\n",
    "d={};l=[]\n",
    "for x in range(0,a):\n",
    "    k=\"Student\"+str(x+1)\n",
    "    v=input(\"Enter the student name : \")\n",
    "    d.update({k:v})\n",
    "print(\"Input: \",d,\"\\n\")\n",
    "for p in d.values():\n",
    "    l.append(p)\n",
    "l.sort()\n",
    "print(l)"
   ]
  },
  {
   "cell_type": "code",
   "execution_count": 7,
   "id": "24e3e80c",
   "metadata": {},
   "outputs": [
    {
     "name": "stdout",
     "output_type": "stream",
     "text": [
      "Enter a string containing 0's and 1's: 0100101\n",
      "['False', 'True', 'False', 'False', 'True', 'False', 'True']\n"
     ]
    }
   ],
   "source": [
    "#4.Write a Python which returns a new list of Booleans, from a given number. Iterating through the number one digit at a time, append True if the digit is 1 and False if it is 0.\n",
    "#Ex: Input: “01001”\n",
    "#Output: [“False”, “True”, “False”,” False”,” True”]\n",
    "\n",
    "l=[]\n",
    "a=input(\"Enter a string containing 0's and 1's: \")\n",
    "for x in a:\n",
    "    if x==\"1\":\n",
    "        l.append(\"True\")\n",
    "    else:\n",
    "        l.append(\"False\")\n",
    "print(l)"
   ]
  },
  {
   "cell_type": "code",
   "execution_count": 5,
   "id": "c260b0a2",
   "metadata": {},
   "outputs": [
    {
     "name": "stdout",
     "output_type": "stream",
     "text": [
      "Enter a string: my name is ame\n",
      "{'m': 3, 'y': 1, 'n': 1, 'a': 2, 'e': 2, 'i': 1, 's': 1}\n"
     ]
    }
   ],
   "source": [
    "#5. Write a Python program where you will return a dictionary where the keys will be the character and \n",
    "#the values will be the occurrence of the character in the string, and it should for any string inputs (dynamic).\n",
    "#Ex: Input: “my name is ame”\n",
    "#Output: {“m”:3,” y”:1,” n”:1,” a”:2,” e”:2,” i”:1,” s”:1}\n",
    "\n",
    "d={};\n",
    "a=input(\"Enter a string: \")\n",
    "for x in a:\n",
    "    if not(x==\" \"):\n",
    "        d.update({x:a.count(x)})\n",
    "    else:\n",
    "        continue\n",
    "print(d)"
   ]
  },
  {
   "cell_type": "code",
   "execution_count": 12,
   "id": "4938ddd7",
   "metadata": {},
   "outputs": [
    {
     "name": "stdout",
     "output_type": "stream",
     "text": [
      "Enter the length of the dictionary: 4\n",
      "Enter name: Tmma\n",
      "Enter age: 41\n",
      "Enter name: Ackes\n",
      "Enter age: 45\n",
      "Enter name: myna\n",
      "Enter age: 15\n",
      "Enter name: Benthon\n",
      "Enter age: 29\n",
      "\n",
      "Input:  {'Tmma': 41, 'Ackes': 45, 'myna': 15, 'Benthon': 29}\n",
      "Ackes\n"
     ]
    }
   ],
   "source": [
    "#6.Given a dictionary containing the names and ages of a group of people, return the name of the oldest person.\n",
    "#Ex: Input:{\"Tmma\": 41, \"Ackes\": 45, \"myna\": 15, \"Benthon\": 29}\n",
    "#Output:\"Ackes\"\n",
    "\n",
    "d={};e=0;f=''\n",
    "a=int(input(\"Enter the length of the dictionary: \"))\n",
    "for x in range(0,a):\n",
    "    k=input(\"Enter name: \")\n",
    "    v=int(input(\"Enter age: \"))\n",
    "    d.update({k:v})\n",
    "print(\"\\nInput: \",d)\n",
    "for m,n in d.items():\n",
    "    if e<n:\n",
    "        e=n\n",
    "        f=m\n",
    "print(f)"
   ]
  },
  {
   "cell_type": "code",
   "execution_count": 7,
   "id": "31c5158d",
   "metadata": {},
   "outputs": [
    {
     "name": "stdout",
     "output_type": "stream",
     "text": [
      "Press s to start the game: s\n",
      "Player1\n",
      "Choose from rock,paper and scissor: rock\n",
      "Player2\n",
      "Choose from rock,paper and scissor: scissor\n",
      "Player 2 won!\n",
      "Press s to continue the game s\n",
      "Player1\n",
      "Choose from rock,paper and scissor: paper\n",
      "Player2\n",
      "Choose from rock,paper and scissor: paper\n",
      "It is tie\n",
      "Press s to continue the game s\n",
      "Player1\n",
      "Choose from rock,paper and scissor: rock\n",
      "Player2\n",
      "Choose from rock,paper and scissor: paper\n",
      "Player 1 won!\n",
      "Press s to continue the game n\n"
     ]
    }
   ],
   "source": [
    "#7.Write a Python program to create a Rock, Paper, Scissor game, use two inputs for two players:\n",
    "#Conditions: -Rock beats Scissors, Scissors beats Paper, Paper beats Rock\n",
    "\n",
    "y=input(\"Press s to start the game: \")\n",
    "while y==\"s\" or y==\"S\":\n",
    "    p1=input(\"Player1\\nChoose from rock,paper and scissor: \")\n",
    "    p2=input(\"Player2\\nChoose from rock,paper and scissor: \")\n",
    "    if (p1==\"rock\" and p2==\"paper\") or (p1==\"paper\" and p2==\"scissors\") or (p1==\"scissors\" and p2==\"rock\"):\n",
    "        print(\"Player 1 won!\")\n",
    "    elif p1==p2:\n",
    "        print(\"It is tie\")\n",
    "    else:\n",
    "        print(\"Player 2 won!\")\n",
    "    y=input(\"Press s to continue the game \")\n"
   ]
  },
  {
   "cell_type": "code",
   "execution_count": 6,
   "id": "be5ea63a",
   "metadata": {},
   "outputs": [
    {
     "name": "stdout",
     "output_type": "stream",
     "text": [
      "Enter the money you have in wallet: 50\n",
      "\n",
      "Your wallet balance:  50\n",
      "['water bottles', 'Chips']\n"
     ]
    }
   ],
   "source": [
    "#8. Create a program that returns a list of items that you can afford in the store with the money you have in your wallet. \n",
    "#Create a dictionary with items as key and price as values.\n",
    "#Ex: Input: {\"water bottles\":20,\"Chips\":10,\"Iphone\":49000,\"towel\":90,\"pens\":58,\"cake\":400}\n",
    "#Your wallet balance:- 50\n",
    "#Output: [“water bottles”, “chips”]\n",
    "\n",
    "store={\"water bottles\":20,\"Chips\":10,\"Iphone\":49000,\"towel\":90,\"pens\":58,\"cake\":400}\n",
    "wallet=int(input(\"Enter the money you have in wallet: \"))\n",
    "s=0;l=[]\n",
    "for x,y in store.items():\n",
    "    s+=y\n",
    "    if s<wallet:\n",
    "        l.append(x)\n",
    "print(\"\\nYour wallet balance: \",wallet)\n",
    "print(l)"
   ]
  },
  {
   "cell_type": "code",
   "execution_count": 9,
   "id": "aeba6919",
   "metadata": {},
   "outputs": [
    {
     "name": "stdout",
     "output_type": "stream",
     "text": [
      "Enter the length of set1 2\n",
      "Enter a value: 5\n",
      "Enter a value: 4\n",
      "Enter the length of set2 7\n",
      "Enter a value: abc\n",
      "Enter a value: 2\n",
      "Enter a value: 7\n",
      "Enter a value: b\n",
      "Enter a value: 56\n",
      "Enter a value: 2.9\n",
      "Enter a value: 2+3j\n",
      "{'b', '7', '4', '2.9', 'abc', '56', '2', '2+3j', '5'}\n"
     ]
    }
   ],
   "source": [
    "#9. Write a Python program to create a union of sets.\n",
    "\n",
    "set1=set();set2=set()\n",
    "a=int(input(\"Enter the length of set1 \"))\n",
    "for x in range(0,a):\n",
    "    p=input(\"Enter a value: \")\n",
    "    set1.add(p)\n",
    "b=int(input(\"Enter the length of set2 \"))\n",
    "for y in range(0,b):\n",
    "    q=input(\"Enter a value: \")\n",
    "    set2.add(q)\n",
    "print(set1.union(set2))"
   ]
  },
  {
   "cell_type": "code",
   "execution_count": 11,
   "id": "44733b8c",
   "metadata": {},
   "outputs": [
    {
     "name": "stdout",
     "output_type": "stream",
     "text": [
      "Enter the length of the set: 3\n",
      "Enter a value: ab\n",
      "Enter a value: 2\n",
      "Enter a value: 1\n",
      "\n",
      "Enter the value you want to check: c\n",
      "c not found.\n"
     ]
    }
   ],
   "source": [
    "#10.Write a Python program to check if a given value is present in a set or not(Dynamic)\n",
    "\n",
    "set1=set()\n",
    "a=int(input(\"Enter the length of the set: \"))\n",
    "for x in range(0,a):\n",
    "    p=input(\"Enter a value: \")\n",
    "    set1.update(p)\n",
    "b=input(\"\\nEnter the value you want to check: \")\n",
    "if b in set1:\n",
    "    print(b,\"is presnt.\")\n",
    "else:\n",
    "    print(b,\"not found.\")"
   ]
  },
  {
   "cell_type": "code",
   "execution_count": 33,
   "id": "14e65d1e",
   "metadata": {},
   "outputs": [
    {
     "name": "stdout",
     "output_type": "stream",
     "text": [
      "Enter a string: cat dog dog cat horse dog dog mouse horse dog mouse tiger lion tiger cat mouse snail\n",
      "{'dog': 5, 'cat': 3, 'mouse': 3}\n"
     ]
    }
   ],
   "source": [
    "#11.Write a Python program to find the occurrences of 3 most common words in a given text.\n",
    "#And make it as a dictionaries\n",
    "#Ex: Input: ”cat dog dog cat horse dog dog mouse horse dog mouse tiger lion tiger cat mouse snail”\n",
    "#Output: (“dog”:5,”cat”:3,” mouse”;3)\n",
    "\n",
    "x=input(\"Enter a string: \")\n",
    "l=x.split()\n",
    "a=0;b=0;c=0;d={};a1=\"\";b1=\"\";c1=\"\"\n",
    "for x in l:\n",
    "    if l.count(x)>a:\n",
    "        a=l.count(x)\n",
    "        a1=x\n",
    "for x in range(1,a):\n",
    "    l.remove(a1)\n",
    "for y in l:\n",
    "    if l.count(y)>b:\n",
    "        b=l.count(y)\n",
    "        b1=y\n",
    "for y in range(1,b):\n",
    "    l.remove(b1)\n",
    "for z in l:\n",
    "    if l.count(z)>c:\n",
    "        c=l.count(z)\n",
    "        c1=z\n",
    "d.update({a1:a,b1:b,c1:c})\n",
    "print(d)"
   ]
  },
  {
   "cell_type": "code",
   "execution_count": 17,
   "id": "85c1fa56",
   "metadata": {},
   "outputs": [
    {
     "name": "stdout",
     "output_type": "stream",
     "text": [
      "Enter the length of the dictionary: 3\n",
      "Enter the subject: math\n",
      "Enter the marks: 90\n",
      "Enter the subject: sci\n",
      "Enter the marks: 88\n",
      "Enter the subject: hindi\n",
      "Enter the marks: 65\n",
      "Subject: \tMarks:\n",
      "\n",
      "math \t\t 90\n",
      "sci \t\t 88\n",
      "hindi \t\t 65\n"
     ]
    }
   ],
   "source": [
    "#12. Write a python program that accepts name of given subject and mark, and make subject as keys in dictionaries \n",
    "#and marks as values and print the final dictionary with subjects and marks.\n",
    "\n",
    "d={}\n",
    "l=int(input(\"Enter the length of the dictionary: \"))\n",
    "for z in range(0,l):\n",
    "    k=input(\"Enter the subject: \")\n",
    "    v=int(input(\"Enter the marks: \"))\n",
    "    d.update({k:v})\n",
    "print(\"Subject:\",\"\\tMarks:\\n\")\n",
    "for x,y in d.items():\n",
    "    print(x,\"\\t\\t\",y)"
   ]
  },
  {
   "cell_type": "code",
   "execution_count": null,
   "id": "8aca9a2a",
   "metadata": {},
   "outputs": [],
   "source": []
  }
 ],
 "metadata": {
  "kernelspec": {
   "display_name": "Python 3 (ipykernel)",
   "language": "python",
   "name": "python3"
  },
  "language_info": {
   "codemirror_mode": {
    "name": "ipython",
    "version": 3
   },
   "file_extension": ".py",
   "mimetype": "text/x-python",
   "name": "python",
   "nbconvert_exporter": "python",
   "pygments_lexer": "ipython3",
   "version": "3.10.9"
  }
 },
 "nbformat": 4,
 "nbformat_minor": 5
}
