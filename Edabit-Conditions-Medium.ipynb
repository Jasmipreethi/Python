{
 "cells": [
  {
   "cell_type": "code",
   "execution_count": 1,
   "id": "a9c99b71",
   "metadata": {},
   "outputs": [],
   "source": [
    "#1 Create a function that takes two number strings and returns their sum as a string.\n",
    "\n",
    "def add(a,b):\n",
    "    try:\n",
    "        x=int(a);y=int(b)\n",
    "    except ValueError:\n",
    "        return \"Invalid input\"\n",
    "    else:\n",
    "        return str(x+y)"
   ]
  },
  {
   "cell_type": "code",
   "execution_count": 2,
   "id": "9ecf172e",
   "metadata": {},
   "outputs": [
    {
     "data": {
      "text/plain": [
       "'222'"
      ]
     },
     "execution_count": 2,
     "metadata": {},
     "output_type": "execute_result"
    }
   ],
   "source": [
    "add(\"111\", \"111\")"
   ]
  },
  {
   "cell_type": "code",
   "execution_count": 3,
   "id": "275731d7",
   "metadata": {},
   "outputs": [
    {
     "data": {
      "text/plain": [
       "'90'"
      ]
     },
     "execution_count": 3,
     "metadata": {},
     "output_type": "execute_result"
    }
   ],
   "source": [
    "add(\"10\", \"80\")"
   ]
  },
  {
   "cell_type": "code",
   "execution_count": 4,
   "id": "d4b2998f",
   "metadata": {},
   "outputs": [
    {
     "data": {
      "text/plain": [
       "'Invalid input'"
      ]
     },
     "execution_count": 4,
     "metadata": {},
     "output_type": "execute_result"
    }
   ],
   "source": [
    "add(\"\", \"20\")"
   ]
  },
  {
   "cell_type": "code",
   "execution_count": 5,
   "id": "5106d005",
   "metadata": {},
   "outputs": [],
   "source": [
    "#2 Create a function to find only the root value of x in any quadratic equation ax^2 + bx + c. The function will\n",
    "#take three arguments:\n",
    "#a as the coefficient of x^2\n",
    "#b as the coefficient of x\n",
    "#c as the constant term\n",
    "\n",
    "def quadratic_equation(a,b,c):\n",
    "    return int((-b+(b**2-4*a*c)**0.5)/(2*a))"
   ]
  },
  {
   "cell_type": "code",
   "execution_count": 6,
   "id": "b63fe26f",
   "metadata": {},
   "outputs": [
    {
     "data": {
      "text/plain": [
       "14"
      ]
     },
     "execution_count": 6,
     "metadata": {},
     "output_type": "execute_result"
    }
   ],
   "source": [
    "quadratic_equation(1, -12, -28)"
   ]
  },
  {
   "cell_type": "code",
   "execution_count": 7,
   "id": "e3385119",
   "metadata": {},
   "outputs": [
    {
     "data": {
      "text/plain": [
       "1"
      ]
     },
     "execution_count": 7,
     "metadata": {},
     "output_type": "execute_result"
    }
   ],
   "source": [
    "quadratic_equation(1, 2, -3)"
   ]
  },
  {
   "cell_type": "code",
   "execution_count": 8,
   "id": "10c5816e",
   "metadata": {},
   "outputs": [
    {
     "data": {
      "text/plain": [
       "3"
      ]
     },
     "execution_count": 8,
     "metadata": {},
     "output_type": "execute_result"
    }
   ],
   "source": [
    "quadratic_equation(2, -7, 3)"
   ]
  },
  {
   "cell_type": "code",
   "execution_count": 9,
   "id": "76cc4122",
   "metadata": {},
   "outputs": [],
   "source": [
    "#3 In each input list, every number repeats at least once, except for two. Write a function that returns the two\n",
    "# unique numbers.\n",
    "\n",
    "def return_unique(lst):\n",
    "    l=[]\n",
    "    for x in lst:\n",
    "        if lst.count(x)==1:\n",
    "            l.append(x)\n",
    "        else:\n",
    "            continue\n",
    "    return l"
   ]
  },
  {
   "cell_type": "code",
   "execution_count": 10,
   "id": "6b70b7a5",
   "metadata": {},
   "outputs": [
    {
     "data": {
      "text/plain": [
       "[9, 7]"
      ]
     },
     "execution_count": 10,
     "metadata": {},
     "output_type": "execute_result"
    }
   ],
   "source": [
    "return_unique([1, 9, 8, 8, 7, 6, 1, 6])"
   ]
  },
  {
   "cell_type": "code",
   "execution_count": 11,
   "id": "bf991403",
   "metadata": {},
   "outputs": [
    {
     "data": {
      "text/plain": [
       "[2, 1]"
      ]
     },
     "execution_count": 11,
     "metadata": {},
     "output_type": "execute_result"
    }
   ],
   "source": [
    "return_unique([5, 5, 2, 4, 4, 4, 9, 9, 9, 1])"
   ]
  },
  {
   "cell_type": "code",
   "execution_count": 12,
   "id": "c9b9febd",
   "metadata": {},
   "outputs": [
    {
     "data": {
      "text/plain": [
       "[5, 6]"
      ]
     },
     "execution_count": 12,
     "metadata": {},
     "output_type": "execute_result"
    }
   ],
   "source": [
    "return_unique([9, 5, 6, 8, 7, 7, 1, 1, 1, 1, 1, 9, 8])"
   ]
  },
  {
   "cell_type": "code",
   "execution_count": 17,
   "id": "56e530ff",
   "metadata": {},
   "outputs": [],
   "source": [
    "#4 Create a function that takes two parameters and, if both parameters are strings, add them as if they were\n",
    "#integers or if the two parameters are integers, concatenate them.\n",
    "\n",
    "def stupid_addition(a,b):\n",
    "    if type(a)==str and type(b)==str:\n",
    "        return int(a)+int(b)\n",
    "    elif type(a)==int and type(b)==int:\n",
    "        return str(a)+str(b)\n",
    "    else:\n",
    "        return \"None\""
   ]
  },
  {
   "cell_type": "code",
   "execution_count": 18,
   "id": "e472c747",
   "metadata": {},
   "outputs": [
    {
     "data": {
      "text/plain": [
       "'12'"
      ]
     },
     "execution_count": 18,
     "metadata": {},
     "output_type": "execute_result"
    }
   ],
   "source": [
    "stupid_addition(1, 2)"
   ]
  },
  {
   "cell_type": "code",
   "execution_count": 19,
   "id": "a021135c",
   "metadata": {},
   "outputs": [
    {
     "data": {
      "text/plain": [
       "3"
      ]
     },
     "execution_count": 19,
     "metadata": {},
     "output_type": "execute_result"
    }
   ],
   "source": [
    "stupid_addition(\"1\", \"2\")"
   ]
  },
  {
   "cell_type": "code",
   "execution_count": 20,
   "id": "5e62979f",
   "metadata": {},
   "outputs": [
    {
     "data": {
      "text/plain": [
       "'None'"
      ]
     },
     "execution_count": 20,
     "metadata": {},
     "output_type": "execute_result"
    }
   ],
   "source": [
    "stupid_addition(\"1\", 2)"
   ]
  },
  {
   "cell_type": "code",
   "execution_count": 21,
   "id": "44a889dd",
   "metadata": {},
   "outputs": [],
   "source": [
    "#5 Transcribe the given DNA strand into corresponding mRNA - a type of RNA, that will be formed from it after \n",
    "#transcription. DNA has the bases A, T, G and C, while RNA converts to U, A, C and G respectively.\n",
    "#Transcription is the process of making complementary strand.\n",
    "#A, T, G and C in DNA converts to U, A, C and G respectively, when in mRNA.\n",
    "\n",
    "def dna_to_rna(s):\n",
    "    table=s.maketrans(\"ATGC\",\"UACG\")\n",
    "    return s.translate(table)"
   ]
  },
  {
   "cell_type": "code",
   "execution_count": 22,
   "id": "42fa35ea",
   "metadata": {},
   "outputs": [
    {
     "data": {
      "text/plain": [
       "'UAAUCGCGCUAUAUGCGCAUG'"
      ]
     },
     "execution_count": 22,
     "metadata": {},
     "output_type": "execute_result"
    }
   ],
   "source": [
    "dna_to_rna(\"ATTAGCGCGATATACGCGTAC\")"
   ]
  },
  {
   "cell_type": "code",
   "execution_count": 23,
   "id": "9b89b43d",
   "metadata": {},
   "outputs": [
    {
     "data": {
      "text/plain": [
       "'GCUAUAU'"
      ]
     },
     "execution_count": 23,
     "metadata": {},
     "output_type": "execute_result"
    }
   ],
   "source": [
    "dna_to_rna(\"CGATATA\")"
   ]
  },
  {
   "cell_type": "code",
   "execution_count": 24,
   "id": "8d01cbcf",
   "metadata": {},
   "outputs": [
    {
     "data": {
      "text/plain": [
       "'CAGUAUGCUGCAU'"
      ]
     },
     "execution_count": 24,
     "metadata": {},
     "output_type": "execute_result"
    }
   ],
   "source": [
    "dna_to_rna(\"GTCATACGACGTA\")"
   ]
  },
  {
   "cell_type": "code",
   "execution_count": 27,
   "id": "3f62fa35",
   "metadata": {},
   "outputs": [],
   "source": [
    "#6 Create a function that takes three values:\n",
    "#h hours\n",
    "#m minutes\n",
    "#s seconds\n",
    "#Return the value that's the longest duration.\n",
    "\n",
    "def longest_time(h,m,s):\n",
    "    hr=h*3600\n",
    "    mi=m*60\n",
    "    x=max(hr,mi,s)\n",
    "    if x==hr:\n",
    "        return h\n",
    "    elif x==mi:\n",
    "        return m\n",
    "    else:\n",
    "        return s"
   ]
  },
  {
   "cell_type": "code",
   "execution_count": 28,
   "id": "82d386de",
   "metadata": {},
   "outputs": [
    {
     "data": {
      "text/plain": [
       "1"
      ]
     },
     "execution_count": 28,
     "metadata": {},
     "output_type": "execute_result"
    }
   ],
   "source": [
    "longest_time(1, 59, 3598)"
   ]
  },
  {
   "cell_type": "code",
   "execution_count": 29,
   "id": "dd459f06",
   "metadata": {},
   "outputs": [
    {
     "data": {
      "text/plain": [
       "300"
      ]
     },
     "execution_count": 29,
     "metadata": {},
     "output_type": "execute_result"
    }
   ],
   "source": [
    "longest_time(2, 300, 15000)"
   ]
  },
  {
   "cell_type": "code",
   "execution_count": 30,
   "id": "e6bd534f",
   "metadata": {},
   "outputs": [
    {
     "data": {
      "text/plain": [
       "59400"
      ]
     },
     "execution_count": 30,
     "metadata": {},
     "output_type": "execute_result"
    }
   ],
   "source": [
    "longest_time(15, 955, 59400)"
   ]
  },
  {
   "cell_type": "code",
   "execution_count": 13,
   "id": "64f116f2",
   "metadata": {},
   "outputs": [],
   "source": [
    "#7 YouTube currently displays a like and a dislike button, allowing you to express your opinions about particular\n",
    "#content. It's set up in such a way that you cannot like and dislike a video at the same time.\n",
    "#There are two other interesting rules to be noted about the interface:\n",
    "#Pressing a button, which is already active, will undo your press.\n",
    "#If you press the like button after pressing the dislike button, the like button overwrites the previous \"dislike\" state. The same is true for the other way round.\n",
    "#Create a function that takes in a list of button inputs and returns the final state.\n",
    "\n",
    "def like_or_dislike(lst):\n",
    "    s=\"\"\n",
    "    if len(lst)==1:\n",
    "        return lst[0]\n",
    "    elif len(lst)==0:\n",
    "        return \"Nothing\"\n",
    "    else:\n",
    "        for x in lst:\n",
    "            if s==\"\" or x!=s:\n",
    "                s=x\n",
    "            elif (x.lower()==\"like\" and x==s) or (x.lower()==\"dislike\" and x==s):\n",
    "                s=\"Nothing\"\n",
    "            \n",
    "            else:\n",
    "                continue\n",
    "    return s"
   ]
  },
  {
   "cell_type": "code",
   "execution_count": 14,
   "id": "2faffe1b",
   "metadata": {},
   "outputs": [
    {
     "data": {
      "text/plain": [
       "'Dislike'"
      ]
     },
     "execution_count": 14,
     "metadata": {},
     "output_type": "execute_result"
    }
   ],
   "source": [
    "like_or_dislike([\"Dislike\"])"
   ]
  },
  {
   "cell_type": "code",
   "execution_count": 15,
   "id": "6aa989d6",
   "metadata": {},
   "outputs": [
    {
     "data": {
      "text/plain": [
       "'Nothing'"
      ]
     },
     "execution_count": 15,
     "metadata": {},
     "output_type": "execute_result"
    }
   ],
   "source": [
    "like_or_dislike([\"Like\", \"Like\"])"
   ]
  },
  {
   "cell_type": "code",
   "execution_count": 16,
   "id": "f5b8b447",
   "metadata": {},
   "outputs": [
    {
     "data": {
      "text/plain": [
       "'Like'"
      ]
     },
     "execution_count": 16,
     "metadata": {},
     "output_type": "execute_result"
    }
   ],
   "source": [
    "like_or_dislike([\"Dislike\", \"Like\"])"
   ]
  },
  {
   "cell_type": "code",
   "execution_count": 17,
   "id": "aea3d14d",
   "metadata": {},
   "outputs": [
    {
     "data": {
      "text/plain": [
       "'Nothing'"
      ]
     },
     "execution_count": 17,
     "metadata": {},
     "output_type": "execute_result"
    }
   ],
   "source": [
    "like_or_dislike([\"Like\", \"Dislike\", \"Dislike\"])"
   ]
  },
  {
   "cell_type": "code",
   "execution_count": 18,
   "id": "22b2d865",
   "metadata": {},
   "outputs": [],
   "source": [
    "#8 Create a function that determines whether a number is Oddish or Evenish. A number is Oddish if the sum of all \n",
    "#of its digits is odd, and a number is Evenish if the sum of all of its digits is even. If a number is Oddish, \n",
    "#return \"Oddish\". Otherwise, return \"Evenish\".\n",
    "#For example, oddish_or_evenish(121) should return \"Evenish\", since 1 + 2 + 1 = 4. oddish_or_evenish(41) \n",
    "#should return \"Oddish\", since 4 + 1 = 5.\n",
    "\n",
    "def oddish_or_evenish(n):\n",
    "    x=str(n)\n",
    "    s=0\n",
    "    for y in x:\n",
    "        s+=int(y)\n",
    "    if s%2==0:\n",
    "        return \"Evenish\"\n",
    "    else:\n",
    "        return \"Oddish\""
   ]
  },
  {
   "cell_type": "code",
   "execution_count": 19,
   "id": "471146a1",
   "metadata": {},
   "outputs": [
    {
     "data": {
      "text/plain": [
       "'Evenish'"
      ]
     },
     "execution_count": 19,
     "metadata": {},
     "output_type": "execute_result"
    }
   ],
   "source": [
    "oddish_or_evenish(121)"
   ]
  },
  {
   "cell_type": "code",
   "execution_count": 20,
   "id": "73775111",
   "metadata": {},
   "outputs": [
    {
     "data": {
      "text/plain": [
       "'Oddish'"
      ]
     },
     "execution_count": 20,
     "metadata": {},
     "output_type": "execute_result"
    }
   ],
   "source": [
    "oddish_or_evenish(43)"
   ]
  },
  {
   "cell_type": "code",
   "execution_count": 42,
   "id": "77c35b5e",
   "metadata": {},
   "outputs": [],
   "source": [
    "#9 Create a function (named fifth) that takes some arguments and returns the type of the fifth argument. In case\n",
    "#the arguments were less than 5, return \"Not enough arguments\".\n",
    "\n",
    "def fifth(*a):\n",
    "    if len(a)<5:\n",
    "        return \"Not enough arguments\"\n",
    "    elif len(a)>=5:\n",
    "        return type(a[4])"
   ]
  },
  {
   "cell_type": "code",
   "execution_count": 43,
   "id": "5cd7a68d",
   "metadata": {},
   "outputs": [
    {
     "data": {
      "text/plain": [
       "int"
      ]
     },
     "execution_count": 43,
     "metadata": {},
     "output_type": "execute_result"
    }
   ],
   "source": [
    "fifth(1, 2, 3, 4, 5)"
   ]
  },
  {
   "cell_type": "code",
   "execution_count": 44,
   "id": "675a9519",
   "metadata": {},
   "outputs": [
    {
     "data": {
      "text/plain": [
       "str"
      ]
     },
     "execution_count": 44,
     "metadata": {},
     "output_type": "execute_result"
    }
   ],
   "source": [
    "fifth(\"a\", 2, 3, [1, 2, 3], \"five\")"
   ]
  },
  {
   "cell_type": "code",
   "execution_count": 45,
   "id": "f18f4817",
   "metadata": {},
   "outputs": [
    {
     "data": {
      "text/plain": [
       "'Not enough arguments'"
      ]
     },
     "execution_count": 45,
     "metadata": {},
     "output_type": "execute_result"
    }
   ],
   "source": [
    "fifth()"
   ]
  },
  {
   "cell_type": "code",
   "execution_count": 12,
   "id": "d0d7977e",
   "metadata": {},
   "outputs": [],
   "source": [
    "#10 Create a function that takes a string and censors words over four characters with *.\n",
    "\n",
    "def censor(s):\n",
    "    l=s.split()\n",
    "    for x in range(len(l)):\n",
    "        if len(l[x])>4:\n",
    "            y=len(l[x])\n",
    "            l[x]=\"*\"*y\n",
    "        else:\n",
    "            continue\n",
    "    return \" \".join(l)"
   ]
  },
  {
   "cell_type": "code",
   "execution_count": 13,
   "id": "15f2cc52",
   "metadata": {},
   "outputs": [
    {
     "data": {
      "text/plain": [
       "'The code is ******'"
      ]
     },
     "execution_count": 13,
     "metadata": {},
     "output_type": "execute_result"
    }
   ],
   "source": [
    "censor(\"The code is fourty\")"
   ]
  },
  {
   "cell_type": "code",
   "execution_count": 14,
   "id": "935705d2",
   "metadata": {},
   "outputs": [
    {
     "data": {
      "text/plain": [
       "'Two plus ***** is five'"
      ]
     },
     "execution_count": 14,
     "metadata": {},
     "output_type": "execute_result"
    }
   ],
   "source": [
    "censor(\"Two plus three is five\")"
   ]
  },
  {
   "cell_type": "code",
   "execution_count": 15,
   "id": "7567cbcf",
   "metadata": {},
   "outputs": [
    {
     "data": {
      "text/plain": [
       "'aaaa ***** 1234 *****'"
      ]
     },
     "execution_count": 15,
     "metadata": {},
     "output_type": "execute_result"
    }
   ],
   "source": [
    "censor(\"aaaa aaaaa 1234 12345\")"
   ]
  },
  {
   "cell_type": "code",
   "execution_count": 30,
   "id": "19b02686",
   "metadata": {},
   "outputs": [],
   "source": [
    "#11 Given two strings comprised of + and -, return a new string which shows how the two strings interact in the \n",
    "#following way:\n",
    "#When positives and positives interact, they remain positive.\n",
    "#When negatives and negatives interact, they remain negative.\n",
    "#But when negatives and positives interact, they become neutral, and are shown as the number 0.\n",
    "\n",
    "def neutralise(s1,s2):\n",
    "    a=\"\"\n",
    "    for x in range(len(s1)):\n",
    "        if s1[x]==s2[x]:\n",
    "            a+=s1[x]\n",
    "        else:\n",
    "            a+=\"0\"\n",
    "    return a"
   ]
  },
  {
   "cell_type": "code",
   "execution_count": 31,
   "id": "4b90b7e5",
   "metadata": {},
   "outputs": [
    {
     "data": {
      "text/plain": [
       "'000000'"
      ]
     },
     "execution_count": 31,
     "metadata": {},
     "output_type": "execute_result"
    }
   ],
   "source": [
    "neutralise(\"--++--\", \"++--++\")"
   ]
  },
  {
   "cell_type": "code",
   "execution_count": 32,
   "id": "f30536e9",
   "metadata": {},
   "outputs": [
    {
     "data": {
      "text/plain": [
       "'-+-+-+'"
      ]
     },
     "execution_count": 32,
     "metadata": {},
     "output_type": "execute_result"
    }
   ],
   "source": [
    "neutralise(\"-+-+-+\", \"-+-+-+\")"
   ]
  },
  {
   "cell_type": "code",
   "execution_count": 33,
   "id": "71848ea9",
   "metadata": {},
   "outputs": [
    {
     "data": {
      "text/plain": [
       "'-+00'"
      ]
     },
     "execution_count": 33,
     "metadata": {},
     "output_type": "execute_result"
    }
   ],
   "source": [
    "neutralise(\"-++-\", \"-+-+\")"
   ]
  },
  {
   "cell_type": "code",
   "execution_count": 5,
   "id": "91113595",
   "metadata": {},
   "outputs": [],
   "source": [
    "#12 Write a function that takes a list of two numbers and determines if the sum of the digits in each number are\n",
    "#equal to each other.\n",
    "\n",
    "def is_equal(l):\n",
    "    s1=0;s2=0\n",
    "    a=l[0];b=l[1]\n",
    "    while a>=1 or b>=1:\n",
    "        s1+=a%10\n",
    "        s2+=b%10\n",
    "        a//=10\n",
    "        b//=10\n",
    "    return (s1==s2)"
   ]
  },
  {
   "cell_type": "code",
   "execution_count": 6,
   "id": "9d0e2b18",
   "metadata": {},
   "outputs": [
    {
     "data": {
      "text/plain": [
       "True"
      ]
     },
     "execution_count": 6,
     "metadata": {},
     "output_type": "execute_result"
    }
   ],
   "source": [
    "is_equal([105, 42])"
   ]
  },
  {
   "cell_type": "code",
   "execution_count": 7,
   "id": "38d30cac",
   "metadata": {},
   "outputs": [
    {
     "data": {
      "text/plain": [
       "False"
      ]
     },
     "execution_count": 7,
     "metadata": {},
     "output_type": "execute_result"
    }
   ],
   "source": [
    "is_equal([21, 35])"
   ]
  },
  {
   "cell_type": "code",
   "execution_count": 8,
   "id": "0cb7821c",
   "metadata": {},
   "outputs": [
    {
     "data": {
      "text/plain": [
       "True"
      ]
     },
     "execution_count": 8,
     "metadata": {},
     "output_type": "execute_result"
    }
   ],
   "source": [
    "is_equal([0, 0])"
   ]
  },
  {
   "cell_type": "code",
   "execution_count": 25,
   "id": "26079ac0",
   "metadata": {},
   "outputs": [],
   "source": [
    "#13 You will be given a list of numbers which represent your character's altitude above sea level at regular \n",
    "#intervals:\n",
    "#Positive numbers represent height above the water.\n",
    "#0 is sea level.\n",
    "#Negative numbers represent depth below the water's surface.\n",
    "#Create a function which returns whether your character survives their unsupervised diving experience, given a \n",
    "#list of integers.\n",
    "#Your character starts with a breath meter of 10, which is the maximum. When diving underwater, your breath meter \n",
    "#decreases by 2 per item in the array. Watch out! If your breath diminishes to 0, your character dies!\n",
    "#To prevent this, you can replenish your breath by 4 (up to the maximum of 10) for each item in the array where\n",
    "#you are at or above sea level.\n",
    "#Your function should return True if your character survives, and False if not.\n",
    "\n",
    "def diving_minigame(l):\n",
    "    b=10\n",
    "    for x in l:\n",
    "        if x<0:\n",
    "            b-=2\n",
    "        elif x>=0:\n",
    "            if b==10:\n",
    "                continue\n",
    "            else:\n",
    "                b+=4\n",
    "    if b>0:\n",
    "        return True\n",
    "    else:\n",
    "        return False"
   ]
  },
  {
   "cell_type": "code",
   "execution_count": 26,
   "id": "8967f245",
   "metadata": {},
   "outputs": [
    {
     "data": {
      "text/plain": [
       "True"
      ]
     },
     "execution_count": 26,
     "metadata": {},
     "output_type": "execute_result"
    }
   ],
   "source": [
    "diving_minigame([1, 2, 3, 4, 5, 6, 7, 8, 9, 10])"
   ]
  },
  {
   "cell_type": "code",
   "execution_count": 27,
   "id": "299f4914",
   "metadata": {},
   "outputs": [
    {
     "data": {
      "text/plain": [
       "False"
      ]
     },
     "execution_count": 27,
     "metadata": {},
     "output_type": "execute_result"
    }
   ],
   "source": [
    "diving_minigame([-3, -6, -2, -6, -2])"
   ]
  },
  {
   "cell_type": "code",
   "execution_count": 28,
   "id": "471f25e4",
   "metadata": {},
   "outputs": [
    {
     "data": {
      "text/plain": [
       "False"
      ]
     },
     "execution_count": 28,
     "metadata": {},
     "output_type": "execute_result"
    }
   ],
   "source": [
    "diving_minigame([2, 1, 2, 1, -3, -4, -5, -3, -4])"
   ]
  },
  {
   "cell_type": "code",
   "execution_count": 25,
   "id": "19153dbe",
   "metadata": {},
   "outputs": [],
   "source": [
    "#14 Write a function that does the following operations: adding, subtracting, dividing, or multiplying values. It \n",
    "#is simply referred to as variable operation variable. Of course, the variables have to be defined, but in this \n",
    "#challenge the variables will be defined for you. All you have to do is look at the variables, do some string to \n",
    "#integer conversions, use some if conditionals, and combine them based on the operation.\n",
    "#The numbers and operation will be given as strings, and you should return the value as a string as well.\n",
    "#Notes\n",
    "#The numbers and operation will be given as strings, and you should also return the value as a string.\n",
    "#If the answer is \"undefined\", return \"undefined\" (e.g. dividing by zero).\n",
    "#For divide, go ahead and round down to an integer.\n",
    "\n",
    "def operation(d,e,c):\n",
    "    a=int(d);b=int(e)\n",
    "    if c==\"add\":\n",
    "        return a+b\n",
    "    elif c==\"subtract\":\n",
    "        return a-b\n",
    "    elif c==\"multiply\":\n",
    "        return a*b\n",
    "    elif c==\"divide\":\n",
    "        if b==0:\n",
    "            return \"undefined\"\n",
    "        else:\n",
    "            return a//b\n",
    "    else:\n",
    "        return \"operation not available\""
   ]
  },
  {
   "cell_type": "code",
   "execution_count": 36,
   "id": "6a792107",
   "metadata": {},
   "outputs": [
    {
     "data": {
      "text/plain": [
       "3"
      ]
     },
     "execution_count": 36,
     "metadata": {},
     "output_type": "execute_result"
    }
   ],
   "source": [
    "operation(\"1\", \"2\", \"add\" )"
   ]
  },
  {
   "cell_type": "code",
   "execution_count": 37,
   "id": "d4f7239c",
   "metadata": {},
   "outputs": [
    {
     "data": {
      "text/plain": [
       "-1"
      ]
     },
     "execution_count": 37,
     "metadata": {},
     "output_type": "execute_result"
    }
   ],
   "source": [
    "operation(\"4\", \"5\", \"subtract\") "
   ]
  },
  {
   "cell_type": "code",
   "execution_count": 39,
   "id": "2fe9b293",
   "metadata": {},
   "outputs": [
    {
     "data": {
      "text/plain": [
       "'undefined'"
      ]
     },
     "execution_count": 39,
     "metadata": {},
     "output_type": "execute_result"
    }
   ],
   "source": [
    "operation(\"6\", \"0\", \"divide\")"
   ]
  },
  {
   "cell_type": "code",
   "execution_count": 42,
   "id": "c6616e47",
   "metadata": {},
   "outputs": [],
   "source": [
    "#15 Given a list of even length, copy the half with the higher sum of numbers to the other half of the list.\n",
    "#If the sum of the first half equals the sum of the second half, return the original list.\n",
    "\n",
    "def balanced(l):\n",
    "    x=len(l)//2\n",
    "    s1=0;s2=0\n",
    "    for y in range(x):\n",
    "        s1+=l[y]\n",
    "    for z in range(x,x*2):\n",
    "        s2+=l[z]\n",
    "    if s1>s2:\n",
    "        return l[:x]*2\n",
    "    elif s1<s2:\n",
    "        return l[x:]*2\n",
    "    else:\n",
    "        return l"
   ]
  },
  {
   "cell_type": "code",
   "execution_count": 43,
   "id": "b3308cb9",
   "metadata": {},
   "outputs": [
    {
     "data": {
      "text/plain": [
       "[6, 3, 1, 6, 3, 1]"
      ]
     },
     "execution_count": 43,
     "metadata": {},
     "output_type": "execute_result"
    }
   ],
   "source": [
    "balanced([1, 2, 4, 6, 3, 1])"
   ]
  },
  {
   "cell_type": "code",
   "execution_count": 44,
   "id": "091c4842",
   "metadata": {},
   "outputs": [
    {
     "data": {
      "text/plain": [
       "[88, 3, 27, 5, 88, 3, 27, 5]"
      ]
     },
     "execution_count": 44,
     "metadata": {},
     "output_type": "execute_result"
    }
   ],
   "source": [
    "balanced([88, 3, 27, 5, 9, 0, 13, 10])"
   ]
  },
  {
   "cell_type": "code",
   "execution_count": 45,
   "id": "c6d882ba",
   "metadata": {},
   "outputs": [
    {
     "data": {
      "text/plain": [
       "[7, 5, 2, 6, 1, 0, 1, 5, 2, 7, 0, 6]"
      ]
     },
     "execution_count": 45,
     "metadata": {},
     "output_type": "execute_result"
    }
   ],
   "source": [
    "balanced([7, 5, 2, 6, 1, 0, 1, 5, 2, 7, 0, 6])"
   ]
  },
  {
   "cell_type": "code",
   "execution_count": 57,
   "id": "2c8b5e6f",
   "metadata": {},
   "outputs": [],
   "source": [
    "#16 A built-in timer inside your car can count the length of your ride in minutes and you have started your ride at\n",
    "#00:00.Given the number of minutes n at the end of the ride, calculate the current time. \n",
    "#Return the sum of digits that the digital timer in the format hh:mm will show at the end of the ride.\n",
    "\n",
    "def car_timer(n):\n",
    "    s=0\n",
    "    if n>59:\n",
    "        m=n//60\n",
    "        r=n%60\n",
    "        while m>=1 or r>=1:\n",
    "            if m>=1:\n",
    "                s+=m%10\n",
    "                m//=10\n",
    "            else:\n",
    "                s+=r%10\n",
    "                r//=10\n",
    "        return s\n",
    "    else:\n",
    "        while n>=1:\n",
    "            s+=n%10\n",
    "            n//=10\n",
    "        return s"
   ]
  },
  {
   "cell_type": "code",
   "execution_count": 58,
   "id": "497765db",
   "metadata": {},
   "outputs": [
    {
     "data": {
      "text/plain": [
       "4"
      ]
     },
     "execution_count": 58,
     "metadata": {},
     "output_type": "execute_result"
    }
   ],
   "source": [
    "car_timer(240)"
   ]
  },
  {
   "cell_type": "code",
   "execution_count": 59,
   "id": "86a12675",
   "metadata": {},
   "outputs": [
    {
     "data": {
      "text/plain": [
       "5"
      ]
     },
     "execution_count": 59,
     "metadata": {},
     "output_type": "execute_result"
    }
   ],
   "source": [
    "car_timer(14)"
   ]
  },
  {
   "cell_type": "code",
   "execution_count": 60,
   "id": "286d1bc0",
   "metadata": {},
   "outputs": [
    {
     "data": {
      "text/plain": [
       "14"
      ]
     },
     "execution_count": 60,
     "metadata": {},
     "output_type": "execute_result"
    }
   ],
   "source": [
    "car_timer(808)"
   ]
  },
  {
   "cell_type": "code",
   "execution_count": 61,
   "id": "8c9a34da",
   "metadata": {},
   "outputs": [
    {
     "data": {
      "text/plain": [
       "19"
      ]
     },
     "execution_count": 61,
     "metadata": {},
     "output_type": "execute_result"
    }
   ],
   "source": [
    "car_timer(1439)"
   ]
  },
  {
   "cell_type": "code",
   "execution_count": 117,
   "id": "e9d058b7",
   "metadata": {},
   "outputs": [],
   "source": [
    "#17 Check if the given string consists of only letters and spaces and if every letter is in lower case.\n",
    "#Notes\n",
    "#Empty arguments will always return False.\n",
    "#Input values will be mixed (symbols, letters, numbers).\n",
    "\n",
    "def letters_only(s):\n",
    "    if s==\"\":\n",
    "        return False\n",
    "    for x in s:\n",
    "        if (x.isalpha()==True and x.islower()==True) or x==\" \":\n",
    "            continue\n",
    "        else:\n",
    "            return False\n",
    "    return True"
   ]
  },
  {
   "cell_type": "code",
   "execution_count": 118,
   "id": "48289770",
   "metadata": {},
   "outputs": [
    {
     "data": {
      "text/plain": [
       "False"
      ]
     },
     "execution_count": 118,
     "metadata": {},
     "output_type": "execute_result"
    }
   ],
   "source": [
    "letters_only(\"PYTHON\")"
   ]
  },
  {
   "cell_type": "code",
   "execution_count": 119,
   "id": "4c5856f7",
   "metadata": {},
   "outputs": [
    {
     "data": {
      "text/plain": [
       "True"
      ]
     },
     "execution_count": 119,
     "metadata": {},
     "output_type": "execute_result"
    }
   ],
   "source": [
    "letters_only(\"python\")"
   ]
  },
  {
   "cell_type": "code",
   "execution_count": 120,
   "id": "338abaf1",
   "metadata": {},
   "outputs": [
    {
     "data": {
      "text/plain": [
       "False"
      ]
     },
     "execution_count": 120,
     "metadata": {},
     "output_type": "execute_result"
    }
   ],
   "source": [
    "letters_only(\"12321313\")"
   ]
  },
  {
   "cell_type": "code",
   "execution_count": 121,
   "id": "fbb2a7b9",
   "metadata": {},
   "outputs": [
    {
     "data": {
      "text/plain": [
       "True"
      ]
     },
     "execution_count": 121,
     "metadata": {},
     "output_type": "execute_result"
    }
   ],
   "source": [
    "letters_only(\"i have spaces\")"
   ]
  },
  {
   "cell_type": "code",
   "execution_count": 122,
   "id": "0c00ad5f",
   "metadata": {},
   "outputs": [
    {
     "data": {
      "text/plain": [
       "False"
      ]
     },
     "execution_count": 122,
     "metadata": {},
     "output_type": "execute_result"
    }
   ],
   "source": [
    "letters_only(\"i have numbers(1-10)\")"
   ]
  },
  {
   "cell_type": "code",
   "execution_count": 123,
   "id": "03e20a51",
   "metadata": {},
   "outputs": [
    {
     "data": {
      "text/plain": [
       "False"
      ]
     },
     "execution_count": 123,
     "metadata": {},
     "output_type": "execute_result"
    }
   ],
   "source": [
    "letters_only(\"\")"
   ]
  },
  {
   "cell_type": "code",
   "execution_count": 36,
   "id": "ca0a1922",
   "metadata": {},
   "outputs": [],
   "source": [
    "#18 Given two strings, return a string containing only the letters shared between the two.\n",
    "#Notes\n",
    "#If none of the letters are shared, return an empty string.\n",
    "#The function should be case insensitive (e.g. comparing A and a should return a).\n",
    "#Sort the resulting string alphabetically before returning it.\n",
    "\n",
    "def shared_letters(s1,s2):\n",
    "    a=\"\"\n",
    "    if len(s1)>len(s2):\n",
    "        for x in s1.lower():\n",
    "            for y in s2.lower():\n",
    "                if x==y:\n",
    "                    a+=\" \"+x\n",
    "                else:\n",
    "                    continue\n",
    "    else:\n",
    "        for x in s2.lower():\n",
    "            for y in s1.lower():\n",
    "                if x==y:\n",
    "                    a+=\" \"+x\n",
    "                else:\n",
    "                    continue\n",
    "    l=a.split()\n",
    "    l.sort()\n",
    "    return \"\".join(l)"
   ]
  },
  {
   "cell_type": "code",
   "execution_count": 37,
   "id": "dc1415df",
   "metadata": {},
   "outputs": [
    {
     "data": {
      "text/plain": [
       "'eho'"
      ]
     },
     "execution_count": 37,
     "metadata": {},
     "output_type": "execute_result"
    }
   ],
   "source": [
    "shared_letters(\"house\", \"home\")"
   ]
  },
  {
   "cell_type": "code",
   "execution_count": 38,
   "id": "55e8640b",
   "metadata": {},
   "outputs": [
    {
     "data": {
      "text/plain": [
       "'m'"
      ]
     },
     "execution_count": 38,
     "metadata": {},
     "output_type": "execute_result"
    }
   ],
   "source": [
    "shared_letters(\"Micky\", \"mouse\")"
   ]
  },
  {
   "cell_type": "code",
   "execution_count": 39,
   "id": "eab74fac",
   "metadata": {},
   "outputs": [
    {
     "data": {
      "text/plain": [
       "''"
      ]
     },
     "execution_count": 39,
     "metadata": {},
     "output_type": "execute_result"
    }
   ],
   "source": [
    "shared_letters(\"house\", \"villa\")"
   ]
  },
  {
   "cell_type": "code",
   "execution_count": 55,
   "id": "fc57b593",
   "metadata": {},
   "outputs": [],
   "source": [
    "#19 Given a list and chunk size \"n\", create a function such that it divides the list into many sublists where each\n",
    "#sublist is of length size \"n\".\n",
    "\n",
    "def chunk(lst,n):\n",
    "    l1=[]\n",
    "    for x in range(0,len(lst),n):\n",
    "        l2=[]\n",
    "        if x+n<=len(lst):\n",
    "            for y in range(x,x+n):\n",
    "                l2.append(lst[y])\n",
    "        else:\n",
    "            for y in range(x,x+(len(lst)%n)):\n",
    "                l2.append(lst[y])\n",
    "        l1.append(l2)\n",
    "    return l1"
   ]
  },
  {
   "cell_type": "code",
   "execution_count": 56,
   "id": "27133d2b",
   "metadata": {},
   "outputs": [
    {
     "data": {
      "text/plain": [
       "[[1, 2], [3, 4]]"
      ]
     },
     "execution_count": 56,
     "metadata": {},
     "output_type": "execute_result"
    }
   ],
   "source": [
    "chunk([1, 2, 3, 4], 2)"
   ]
  },
  {
   "cell_type": "code",
   "execution_count": 57,
   "id": "f78ecc6c",
   "metadata": {},
   "outputs": [
    {
     "data": {
      "text/plain": [
       "[[1, 2, 3], [4, 5, 6], [7]]"
      ]
     },
     "execution_count": 57,
     "metadata": {},
     "output_type": "execute_result"
    }
   ],
   "source": [
    "chunk([1, 2, 3, 4, 5, 6, 7], 3) "
   ]
  },
  {
   "cell_type": "code",
   "execution_count": 58,
   "id": "7dc34208",
   "metadata": {},
   "outputs": [
    {
     "data": {
      "text/plain": [
       "[[1, 2, 3, 4, 5]]"
      ]
     },
     "execution_count": 58,
     "metadata": {},
     "output_type": "execute_result"
    }
   ],
   "source": [
    "chunk([1, 2, 3, 4 ,5], 10) "
   ]
  },
  {
   "cell_type": "code",
   "execution_count": 26,
   "id": "e5a4be0a",
   "metadata": {},
   "outputs": [],
   "source": [
    "#20 Create a function that outputs the results of a flashcard. A flashcard is a list of three elements: a number, \n",
    "#an operator symbol, and another number. Return the mathematical result of that expression.\n",
    "#There are 4 operators: + (addition), - (subtraction), x (multiplication), and / (division). If the flashcard \n",
    "#displays a number being divided by zero, e.g. [3, \"/\", 0], then return None. For division, round to the hundredths\n",
    "#place. So [10, \"/\", 3] should return 3.33.\n",
    "\n",
    "def flash(l):\n",
    "    n1=l[0];n2=l[2]\n",
    "    if l[1]==\"+\":\n",
    "        return n1+n2\n",
    "    elif l[1]==\"-\":\n",
    "        return n1-n2\n",
    "    elif l[1]==\"x\":\n",
    "        return n1*n2\n",
    "    elif l[1]==\"/\":\n",
    "        if n2==0:\n",
    "            return \"None\"\n",
    "        else:\n",
    "            return round(n1/n2,2)\n",
    "    else:\n",
    "        return \"Invalid symbol\""
   ]
  },
  {
   "cell_type": "code",
   "execution_count": 13,
   "id": "ddfe9c5a",
   "metadata": {},
   "outputs": [
    {
     "data": {
      "text/plain": [
       "21"
      ]
     },
     "execution_count": 13,
     "metadata": {},
     "output_type": "execute_result"
    }
   ],
   "source": [
    "flash([3, \"x\", 7])"
   ]
  },
  {
   "cell_type": "code",
   "execution_count": 14,
   "id": "606612d7",
   "metadata": {},
   "outputs": [
    {
     "data": {
      "text/plain": [
       "12"
      ]
     },
     "execution_count": 14,
     "metadata": {},
     "output_type": "execute_result"
    }
   ],
   "source": [
    "flash([5, \"+\", 7])"
   ]
  },
  {
   "cell_type": "code",
   "execution_count": 15,
   "id": "3e841612",
   "metadata": {},
   "outputs": [
    {
     "data": {
      "text/plain": [
       "1"
      ]
     },
     "execution_count": 15,
     "metadata": {},
     "output_type": "execute_result"
    }
   ],
   "source": [
    "flash([10, \"-\", 9])"
   ]
  },
  {
   "cell_type": "code",
   "execution_count": 16,
   "id": "464e8b9c",
   "metadata": {},
   "outputs": [
    {
     "data": {
      "text/plain": [
       "'None'"
      ]
     },
     "execution_count": 16,
     "metadata": {},
     "output_type": "execute_result"
    }
   ],
   "source": [
    "flash([10, \"/\", 0])"
   ]
  },
  {
   "cell_type": "code",
   "execution_count": 27,
   "id": "85ae006e",
   "metadata": {},
   "outputs": [
    {
     "data": {
      "text/plain": [
       "3.33"
      ]
     },
     "execution_count": 27,
     "metadata": {},
     "output_type": "execute_result"
    }
   ],
   "source": [
    "flash([10, \"/\", 3])"
   ]
  },
  {
   "cell_type": "code",
   "execution_count": 38,
   "id": "b498fa3c",
   "metadata": {},
   "outputs": [],
   "source": [
    "#21 A standard-sized golf course has 18 holes. Each hole is given a par, which is the expected number of strokes \n",
    "#(hits) that a good player would use to complete a hole. Golf also uses different terms for a player being \n",
    "#over/under par for a particular hole:\n",
    "#\"eagle\" = 2 under par (-2)\n",
    "#\"birdie\" = 1 under par (-1)\n",
    "#\"bogey\" = 1 over par (+1)\n",
    "#\"double-bogey\" = 2 over par (+2)\n",
    "#Example scores:\n",
    "#\"birdie\" on a par 3 hole = 2\n",
    "#\"eagle\" on a par 5 hole = 3\n",
    "#\"par\" on a par 3 hole = 3\n",
    "#\"bogey\" on a par 4 hole = 5\n",
    "#Given a list of pars for an 18-hole golf course, and another list containing the player result for each hole,\n",
    "#return the total score for the round of golf.\n",
    "\n",
    "def golf_score(course,result):\n",
    "    score=0\n",
    "    for x in range(18):\n",
    "        a=course[x]\n",
    "        b=result[x].lower()\n",
    "        \n",
    "        if b==\"eagle\":\n",
    "            score+=a-2\n",
    "            \n",
    "        elif b==\"birdie\":\n",
    "            score+=a-1\n",
    "            \n",
    "        elif b==\"bogey\":\n",
    "            score+=a+1\n",
    "            \n",
    "        elif b==\"double-bogey\":\n",
    "            score+=a+2\n",
    "            \n",
    "        else:\n",
    "            score+=a\n",
    "            \n",
    "    return score"
   ]
  },
  {
   "cell_type": "code",
   "execution_count": 39,
   "id": "de85a68c",
   "metadata": {},
   "outputs": [
    {
     "data": {
      "text/plain": [
       "73"
      ]
     },
     "execution_count": 39,
     "metadata": {},
     "output_type": "execute_result"
    }
   ],
   "source": [
    "golf_score([4, 4, 5, 3, 4, 4, 3, 5, 5, 3, 5, 4, 4, 4, 4, 3, 4, 4],\\\n",
    "[\"eagle\", \"bogey\", \"par\", \"bogey\", \"double-bogey\", \"birdie\", \"bogey\", \"par\", \"birdie\", \"par\", \"par\", \"par\", \"par\", \"par\", \"bogey\", \"eagle\", \"bogey\", \"par\"])"
   ]
  },
  {
   "cell_type": "code",
   "execution_count": 40,
   "id": "87db851a",
   "metadata": {},
   "outputs": [
    {
     "data": {
      "text/plain": [
       "68"
      ]
     },
     "execution_count": 40,
     "metadata": {},
     "output_type": "execute_result"
    }
   ],
   "source": [
    "golf_score([5, 4, 4, 4, 4, 4, 5, 4, 3, 3, 4, 5, 3, 4, 4, 3, 5, 4], ['par', 'bogey', 'birdie', 'bogey', 'par', 'birdie', 'par', 'bogey', 'eagle', 'par', 'par', 'birdie', 'par', 'eagle', 'double-bogey', 'birdie', 'par', 'birdie'])"
   ]
  },
  {
   "cell_type": "code",
   "execution_count": 48,
   "id": "bd117ff6",
   "metadata": {},
   "outputs": [],
   "source": [
    "#22 Create a function that takes an integer list and return the biggest between positive sum, negative sum, or 0s \n",
    "#count. The major is understood as the greatest absolute.\n",
    "#l = [1,2,3,4,0,0,-3,-2], the function has to return 10, because:\n",
    "#Positive sum = 1+2+3+4 = 10\n",
    "#Negative sum = (-3)+(-2) = -5\n",
    "#0s count = 2 (there are two zeros in list)\n",
    "\n",
    "def major_sum(l):\n",
    "    p=0;n=0;z=0\n",
    "    for x in l:\n",
    "        if x>0:\n",
    "            p+=x\n",
    "        elif x<0:\n",
    "            n+=x\n",
    "        else:\n",
    "            z+=1\n",
    "    if p>z and p>n*(-1):\n",
    "        return p\n",
    "    elif p<z and z>n*(-1):\n",
    "        return z\n",
    "    else:\n",
    "        return n"
   ]
  },
  {
   "cell_type": "code",
   "execution_count": 49,
   "id": "36ce4bfc",
   "metadata": {},
   "outputs": [
    {
     "data": {
      "text/plain": [
       "10"
      ]
     },
     "execution_count": 49,
     "metadata": {},
     "output_type": "execute_result"
    }
   ],
   "source": [
    "major_sum([1, 2, 3, 4, 0, 0, -3, -2])"
   ]
  },
  {
   "cell_type": "code",
   "execution_count": 50,
   "id": "3540806c",
   "metadata": {},
   "outputs": [
    {
     "data": {
      "text/plain": [
       "-27"
      ]
     },
     "execution_count": 50,
     "metadata": {},
     "output_type": "execute_result"
    }
   ],
   "source": [
    "major_sum([-4, -8, -12, -3, 4, 7, 1, 3, 0, 0, 0, 0])"
   ]
  },
  {
   "cell_type": "code",
   "execution_count": 51,
   "id": "6261e71e",
   "metadata": {},
   "outputs": [
    {
     "data": {
      "text/plain": [
       "5"
      ]
     },
     "execution_count": 51,
     "metadata": {},
     "output_type": "execute_result"
    }
   ],
   "source": [
    "major_sum([0, 0, 0, 0, 0, 1, 2, -3])"
   ]
  },
  {
   "cell_type": "code",
   "execution_count": 63,
   "id": "33a3c60f",
   "metadata": {},
   "outputs": [],
   "source": [
    "#23 A number num, that elevated to the power of another number k \"ends\" with the same num, it's automorphic.A number\n",
    "#can have various powers that make it automorphic (i.e. look at number 5 in the above example). In this challenge, \n",
    "#you have to verify if the given number is automorphic for each power from 2 up to 10.\n",
    "#Given a non-negative integer num, implement a function that returns the string:\n",
    "#\"Polymorphic\" if num is automorphic for every power from 2 up to 10.\n",
    "#\"Quadrimorphic\" if num is automorphic for only four powers (any from 2 up to 10).\n",
    "#\"Dimorphic\" if num is automorphic for only two powers (any from 2 up to 10).\n",
    "#\"Enamorphic\" if num is automorphic for only one power (any from 2 up to 10).\n",
    "#\"Amorphic\" if num is not automorphic for for any powers from 2 up to 10.\n",
    "\n",
    "def power_morphic(num):\n",
    "    c=0;n=0;s=len(str(num))\n",
    "    d={9:\"Polymorphic\",4:\"Quadramorphic\",2:\"Dimorphic\",1:\"Enamorphic\",0:\"Amorphic\"}\n",
    "    for x in range(2,11):\n",
    "        n=num**x\n",
    "        if n%(10**s)==num:\n",
    "            c+=1\n",
    "        else:\n",
    "            continue\n",
    "    for y in d:\n",
    "        if c==y:\n",
    "            return d[y]\n",
    "        else:\n",
    "            continue\n",
    "    return None"
   ]
  },
  {
   "cell_type": "code",
   "execution_count": 64,
   "id": "e9496eb2",
   "metadata": {},
   "outputs": [
    {
     "data": {
      "text/plain": [
       "'Polymorphic'"
      ]
     },
     "execution_count": 64,
     "metadata": {},
     "output_type": "execute_result"
    }
   ],
   "source": [
    "power_morphic(5)"
   ]
  },
  {
   "cell_type": "code",
   "execution_count": 65,
   "id": "75c54148",
   "metadata": {},
   "outputs": [
    {
     "data": {
      "text/plain": [
       "'Enamorphic'"
      ]
     },
     "execution_count": 65,
     "metadata": {},
     "output_type": "execute_result"
    }
   ],
   "source": [
    "power_morphic(21)"
   ]
  },
  {
   "cell_type": "code",
   "execution_count": 66,
   "id": "ac477ca6",
   "metadata": {},
   "outputs": [
    {
     "data": {
      "text/plain": [
       "'Dimorphic'"
      ]
     },
     "execution_count": 66,
     "metadata": {},
     "output_type": "execute_result"
    }
   ],
   "source": [
    "power_morphic(7)"
   ]
  },
  {
   "cell_type": "code",
   "execution_count": 67,
   "id": "00ffbdbb",
   "metadata": {},
   "outputs": [
    {
     "data": {
      "text/plain": [
       "'Quadramorphic'"
      ]
     },
     "execution_count": 67,
     "metadata": {},
     "output_type": "execute_result"
    }
   ],
   "source": [
    "power_morphic(4)"
   ]
  },
  {
   "cell_type": "code",
   "execution_count": 1,
   "id": "873ad868",
   "metadata": {},
   "outputs": [],
   "source": [
    "#24 Graded lexicographic order (grlex order for short) is a way of ordering words that:\n",
    "#First orders words by length.\n",
    "#Then orders words of the same size by their dictionary order.\n",
    "#For example, in grlex order:\n",
    "#\"tray\" < \"trapped\" since \"tray\" has length 4 while \"trapped\" has length 7.\n",
    "#\"trap\" < \"tray\" since both have length 4, but \"trap\" comes before \"tray\" in the dictionary.\n",
    "#Given a list of words, return that list in grlex order.\n",
    "\n",
    "def make_grlex(lst):\n",
    "    l=[]\n",
    "    while len(lst)>0:\n",
    "        a=min(lst)\n",
    "        l.append(a)\n",
    "        lst.remove(a)\n",
    "    return l"
   ]
  },
  {
   "cell_type": "code",
   "execution_count": 2,
   "id": "c2e23dce",
   "metadata": {},
   "outputs": [
    {
     "data": {
      "text/plain": [
       "['big', 'small']"
      ]
     },
     "execution_count": 2,
     "metadata": {},
     "output_type": "execute_result"
    }
   ],
   "source": [
    "make_grlex([\"small\", \"big\"])"
   ]
  },
  {
   "cell_type": "code",
   "execution_count": 3,
   "id": "82ddd692",
   "metadata": {},
   "outputs": [
    {
     "data": {
      "text/plain": [
       "['cat', 'for', 'ran', 'rat', 'the']"
      ]
     },
     "execution_count": 3,
     "metadata": {},
     "output_type": "execute_result"
    }
   ],
   "source": [
    "make_grlex([\"cat\", \"ran\", \"for\", \"the\", \"rat\"])"
   ]
  },
  {
   "cell_type": "code",
   "execution_count": 4,
   "id": "89f65618",
   "metadata": {},
   "outputs": [
    {
     "data": {
      "text/plain": [
       "['a', 'is', 'small', 'test', 'this']"
      ]
     },
     "execution_count": 4,
     "metadata": {},
     "output_type": "execute_result"
    }
   ],
   "source": [
    "make_grlex([\"this\", \"is\", \"a\", \"small\", \"test\"])"
   ]
  },
  {
   "cell_type": "code",
   "execution_count": null,
   "id": "4910e782",
   "metadata": {},
   "outputs": [],
   "source": []
  },
  {
   "cell_type": "code",
   "execution_count": 28,
   "id": "cdadb235",
   "metadata": {},
   "outputs": [],
   "source": [
    "#25Create a function that takes a list consisting of dice rolls from 1-6. Return the sum of\n",
    "#your rolls with the following conditions:\n",
    "#If a 1 is rolled, that is bad luck. The next roll counts as 0.\n",
    "#If a 6 is rolled, that is good luck. The next roll is multiplied by 2.\n",
    "#The list length will always be 3 or higher.\n",
    "\n",
    "\n",
    "def rolls(lst):\n",
    "    s=0\n",
    "    while len(lst)>0:\n",
    "        if lst[0]==1:\n",
    "            s+=1\n",
    "            lst.remove(lst[0])\n",
    "            if len(lst)>0:\n",
    "                lst.remove(lst[0])\n",
    "        elif lst[0]==6:\n",
    "            s+=6\n",
    "            lst.remove(lst[0])\n",
    "            if len(lst)>0:\n",
    "                s+=lst[0]*2\n",
    "                if lst[0]==1:\n",
    "                    lst.remove(lst[0])\n",
    "                lst.remove(lst[0])\n",
    "        else:\n",
    "            s+=lst[0]\n",
    "            lst.remove(lst[0])\n",
    "            \n",
    "    return s"
   ]
  },
  {
   "cell_type": "code",
   "execution_count": 29,
   "id": "a6f865fd",
   "metadata": {},
   "outputs": [
    {
     "data": {
      "text/plain": [
       "4"
      ]
     },
     "execution_count": 29,
     "metadata": {},
     "output_type": "execute_result"
    }
   ],
   "source": [
    "rolls([1, 2, 3])"
   ]
  },
  {
   "cell_type": "code",
   "execution_count": 30,
   "id": "486ffe5f",
   "metadata": {},
   "outputs": [
    {
     "data": {
      "text/plain": [
       "17"
      ]
     },
     "execution_count": 30,
     "metadata": {},
     "output_type": "execute_result"
    }
   ],
   "source": [
    "rolls([2, 6, 2, 5])"
   ]
  },
  {
   "cell_type": "code",
   "execution_count": 31,
   "id": "59cef5a6",
   "metadata": {},
   "outputs": [
    {
     "data": {
      "text/plain": [
       "8"
      ]
     },
     "execution_count": 31,
     "metadata": {},
     "output_type": "execute_result"
    }
   ],
   "source": [
    "rolls([6, 1, 1])"
   ]
  },
  {
   "cell_type": "code",
   "execution_count": 65,
   "id": "ecca056f",
   "metadata": {},
   "outputs": [],
   "source": [
    "#26 Write a function that takes a list and determines whether it's strictly increasing, \n",
    "#strictly decreasing, or neither.\n",
    "#Notes\n",
    "#The last example does NOT count as strictly increasing, since 1-indexed 1 is not strictly \n",
    "#greater than the 0-indexed 1.\n",
    "#Input lists have a minimum length of 2.\n",
    "\n",
    "def check(lst):\n",
    "    a=0;b=0\n",
    "    while len(lst)>0:\n",
    "        if len(lst)>1:\n",
    "            if lst[0]>lst[1]:\n",
    "                a+=1\n",
    "                lst.remove(lst[0])\n",
    "            elif lst[0]<lst[1]:\n",
    "                b+=1\n",
    "                lst.remove(lst[0])\n",
    "            else:\n",
    "                lst.remove(lst[0])\n",
    "        else:\n",
    "            lst.remove(lst[0])\n",
    "    if a==2:\n",
    "        return \"Decreasing\"\n",
    "    elif b==2:\n",
    "        return \"Increasing\"\n",
    "    else:\n",
    "        return \"neither\""
   ]
  },
  {
   "cell_type": "code",
   "execution_count": 66,
   "id": "8a621706",
   "metadata": {},
   "outputs": [
    {
     "data": {
      "text/plain": [
       "'Increasing'"
      ]
     },
     "execution_count": 66,
     "metadata": {},
     "output_type": "execute_result"
    }
   ],
   "source": [
    "check([1, 2, 3])"
   ]
  },
  {
   "cell_type": "code",
   "execution_count": 67,
   "id": "e50ea1a4",
   "metadata": {},
   "outputs": [
    {
     "data": {
      "text/plain": [
       "'Decreasing'"
      ]
     },
     "execution_count": 67,
     "metadata": {},
     "output_type": "execute_result"
    }
   ],
   "source": [
    "check([3, 2, 1])"
   ]
  },
  {
   "cell_type": "code",
   "execution_count": 69,
   "id": "927777ac",
   "metadata": {},
   "outputs": [
    {
     "data": {
      "text/plain": [
       "'neither'"
      ]
     },
     "execution_count": 69,
     "metadata": {},
     "output_type": "execute_result"
    }
   ],
   "source": [
    "check([1, 2, 1])"
   ]
  },
  {
   "cell_type": "code",
   "execution_count": 70,
   "id": "1dccec60",
   "metadata": {},
   "outputs": [
    {
     "data": {
      "text/plain": [
       "'neither'"
      ]
     },
     "execution_count": 70,
     "metadata": {},
     "output_type": "execute_result"
    }
   ],
   "source": [
    "check([1, 1, 2])"
   ]
  },
  {
   "cell_type": "code",
   "execution_count": 75,
   "id": "4db333b0",
   "metadata": {},
   "outputs": [],
   "source": [
    "#27 The anti-divisors are numbers that do not divide a given number by the largest possible\n",
    "#margin, and they can be found following a simple set of rules:\n",
    "#Every number greater than 1 and lower than n is checked.\n",
    "#Every checked number must not be a divisor of n.\n",
    "#If the checked number is odd and it is a divisor of n * 2 - 1 or n * 2 + 1 it's an anti-divisor.\n",
    "#If the checked number is even and it is a divisor of n * 2, it's an anti-divisor.\n",
    "#Given an integer n, implement a function that returns a list containing the anti-divisors \n",
    "#of n sorted in ascending order.\n",
    "\n",
    "def anti_divisors(n):\n",
    "    l=[]; a=2\n",
    "    while a<n:\n",
    "        if n%a==0:\n",
    "            pass\n",
    "        else:\n",
    "            if a%2==0 and n*2%a==0:\n",
    "                l.append(a)\n",
    "            else:\n",
    "                if (n*2-1)%a==0 or (n*2+1)%a==0:\n",
    "                    l.append(a)\n",
    "        a+=1\n",
    "    return l"
   ]
  },
  {
   "cell_type": "code",
   "execution_count": 76,
   "id": "908a0d65",
   "metadata": {},
   "outputs": [
    {
     "data": {
      "text/plain": [
       "[3, 4, 7]"
      ]
     },
     "execution_count": 76,
     "metadata": {},
     "output_type": "execute_result"
    }
   ],
   "source": [
    "anti_divisors(10)"
   ]
  },
  {
   "cell_type": "code",
   "execution_count": 77,
   "id": "3c9496fe",
   "metadata": {},
   "outputs": [
    {
     "data": {
      "text/plain": [
       "[5, 8]"
      ]
     },
     "execution_count": 77,
     "metadata": {},
     "output_type": "execute_result"
    }
   ],
   "source": [
    "anti_divisors(12)"
   ]
  },
  {
   "cell_type": "code",
   "execution_count": 78,
   "id": "bfac3dda",
   "metadata": {},
   "outputs": [
    {
     "data": {
      "text/plain": [
       "[3, 8, 13]"
      ]
     },
     "execution_count": 78,
     "metadata": {},
     "output_type": "execute_result"
    }
   ],
   "source": [
    "anti_divisors(20)"
   ]
  },
  {
   "cell_type": "code",
   "execution_count": 79,
   "id": "754080c9",
   "metadata": {},
   "outputs": [],
   "source": [
    "#28 Abigail and Benson are playing Rock, Paper, Scissors.\n",
    "#Each game is represented by an array of length 2, where the first element represents what\n",
    "#Abigail played and the second element represents what Benson played.\n",
    "#Given a sequence of games, determine who wins the most number of matches. If they tie, \n",
    "#output \"Tie\".\n",
    "#R stands for Rock\n",
    "#P stands for Paper\n",
    "#S stands for Scissors\n",
    "\n",
    "def calculate_score(lst):\n",
    "    abi=0;ben=0\n",
    "    for a in lst:\n",
    "        if (a[0]==\"R\" and a[1]==\"P\") or (a[0]==\"P\" and a[1]==\"R\") or (a[0]==\"S\" and a[1]==\"P\"):\n",
    "            abi+=1\n",
    "        elif (a[1]==\"R\" and a[0]==\"P\") or (a[1]==\"P\" and a[1]==\"R\") or (a[1]==\"S\" and a[0]==\"P\"):\n",
    "            ben+=1\n",
    "        else:\n",
    "            pass\n",
    "    if abi>ben:\n",
    "        return \"Abigail\"\n",
    "    elif abi<ben:\n",
    "        return \"Benson\"\n",
    "    else:\n",
    "        return \"Tie\""
   ]
  },
  {
   "cell_type": "code",
   "execution_count": 80,
   "id": "5b088bff",
   "metadata": {},
   "outputs": [
    {
     "data": {
      "text/plain": [
       "'Abigail'"
      ]
     },
     "execution_count": 80,
     "metadata": {},
     "output_type": "execute_result"
    }
   ],
   "source": [
    "calculate_score([[\"R\", \"P\"], [\"R\", \"S\"], [\"S\", \"P\"]])"
   ]
  },
  {
   "cell_type": "code",
   "execution_count": 81,
   "id": "a20222b1",
   "metadata": {},
   "outputs": [
    {
     "data": {
      "text/plain": [
       "'Tie'"
      ]
     },
     "execution_count": 81,
     "metadata": {},
     "output_type": "execute_result"
    }
   ],
   "source": [
    "calculate_score([[\"R\", \"R\"], [\"S\", \"S\"]])"
   ]
  },
  {
   "cell_type": "code",
   "execution_count": 82,
   "id": "21842149",
   "metadata": {},
   "outputs": [
    {
     "data": {
      "text/plain": [
       "'Tie'"
      ]
     },
     "execution_count": 82,
     "metadata": {},
     "output_type": "execute_result"
    }
   ],
   "source": [
    "calculate_score([[\"S\", \"R\"], [\"R\", \"S\"], [\"R\", \"R\"]])"
   ]
  },
  {
   "cell_type": "code",
   "execution_count": 100,
   "id": "edfebdd6",
   "metadata": {},
   "outputs": [],
   "source": [
    "#29 There has been a masterdata issue which affected the prices of the products. Check if \n",
    "#each product has a valid price (integer or float, and greater than or equal to zero). \n",
    "#Products with a price of 0 are free and count as a valid price.\n",
    "#The return value should be a Boolean.\n",
    "\n",
    "def has_valid_price(d):\n",
    "    if type(d)==dict:\n",
    "        if type(d[\"price\"])==int or type(d[\"price\"])==float:\n",
    "            return (d[\"price\"]>=0)\n",
    "    return False"
   ]
  },
  {
   "cell_type": "code",
   "execution_count": 101,
   "id": "41d5df44",
   "metadata": {},
   "outputs": [
    {
     "data": {
      "text/plain": [
       "True"
      ]
     },
     "execution_count": 101,
     "metadata": {},
     "output_type": "execute_result"
    }
   ],
   "source": [
    "has_valid_price({ \"product\": \"Milk\", \"price\": 1.50 })"
   ]
  },
  {
   "cell_type": "code",
   "execution_count": 102,
   "id": "74a86fbe",
   "metadata": {},
   "outputs": [
    {
     "data": {
      "text/plain": [
       "False"
      ]
     },
     "execution_count": 102,
     "metadata": {},
     "output_type": "execute_result"
    }
   ],
   "source": [
    "has_valid_price({ \"product\": \"Cheese\", \"price\": -1 })"
   ]
  },
  {
   "cell_type": "code",
   "execution_count": 103,
   "id": "bc8fcd5d",
   "metadata": {},
   "outputs": [
    {
     "data": {
      "text/plain": [
       "True"
      ]
     },
     "execution_count": 103,
     "metadata": {},
     "output_type": "execute_result"
    }
   ],
   "source": [
    "has_valid_price({ \"product\": \"Eggs\", \"price\": 0 })"
   ]
  },
  {
   "cell_type": "code",
   "execution_count": 104,
   "id": "0169990e",
   "metadata": {},
   "outputs": [
    {
     "data": {
      "text/plain": [
       "False"
      ]
     },
     "execution_count": 104,
     "metadata": {},
     "output_type": "execute_result"
    }
   ],
   "source": [
    "has_valid_price({ \"product\": \"Cereals\", \"price\": \"3.0\" })"
   ]
  },
  {
   "cell_type": "code",
   "execution_count": 105,
   "id": "fdf0e025",
   "metadata": {},
   "outputs": [
    {
     "data": {
      "text/plain": [
       "False"
      ]
     },
     "execution_count": 105,
     "metadata": {},
     "output_type": "execute_result"
    }
   ],
   "source": [
    "has_valid_price(None)"
   ]
  },
  {
   "cell_type": "code",
   "execution_count": 1,
   "id": "2b05cefb",
   "metadata": {},
   "outputs": [],
   "source": [
    "#30 A positive number's population is the sum of 1's in its binary representation.\n",
    "#An evil number has an even numbered population.\n",
    "#An odious number has an odd numbered population.\n",
    "#A number is pernicious if its population is a prime number.\n",
    "#Create a function that takes a number as an argument and returns a sorted list of all its\n",
    "#descriptors (\"Evil\", \"Odious\", or \"Pernicious\").\n",
    "\n",
    "def how_bad(num):\n",
    "    l=[];a=1;c=0\n",
    "    s=bin(num)\n",
    "    n=0\n",
    "    for x in range(2,len(s)):\n",
    "        n+=int(s[x])\n",
    "    while a<=n:\n",
    "        if n%a==0:\n",
    "            c+=1\n",
    "        else:\n",
    "            pass\n",
    "        a+=1\n",
    "    if n%2==0:\n",
    "        l.append(\"Evil\")\n",
    "    else:\n",
    "        l.append(\"Odious\")\n",
    "    if c==2:\n",
    "        l.append(\"Pernicious\")\n",
    "    return l"
   ]
  },
  {
   "cell_type": "code",
   "execution_count": 2,
   "id": "7c37aa98",
   "metadata": {},
   "outputs": [
    {
     "data": {
      "text/plain": [
       "['Odious', 'Pernicious']"
      ]
     },
     "execution_count": 2,
     "metadata": {},
     "output_type": "execute_result"
    }
   ],
   "source": [
    "how_bad(7)"
   ]
  },
  {
   "cell_type": "code",
   "execution_count": 3,
   "id": "f6683c11",
   "metadata": {},
   "outputs": [
    {
     "data": {
      "text/plain": [
       "['Evil', 'Pernicious']"
      ]
     },
     "execution_count": 3,
     "metadata": {},
     "output_type": "execute_result"
    }
   ],
   "source": [
    "how_bad(17)"
   ]
  },
  {
   "cell_type": "code",
   "execution_count": 4,
   "id": "9d37b8fc",
   "metadata": {},
   "outputs": [
    {
     "data": {
      "text/plain": [
       "['Evil']"
      ]
     },
     "execution_count": 4,
     "metadata": {},
     "output_type": "execute_result"
    }
   ],
   "source": [
    "how_bad(23) "
   ]
  },
  {
   "cell_type": "code",
   "execution_count": 32,
   "id": "a5a07231",
   "metadata": {},
   "outputs": [],
   "source": [
    "#31 Mubashir is not so good with the English language. He needs your help to correct his \n",
    "#sentences.\n",
    "#Start each sentence with an uppercase alphabet.\n",
    "#For every uppercase letter (other than the first alphabet), you have to place a fullstop(.) followed by an empty space.\n",
    "#There must be only one space between the words and sentences.\n",
    "#Sentence must end with a full stop(.)\n",
    "#Two continuous spaces are not allowed.\n",
    "\n",
    "def correct_sentences(sen):\n",
    "    l=(sen.strip()[0].upper()+sen.strip()[1:]).split()\n",
    "    for x in range(len(l)):\n",
    "        if l[x][0].isupper() and x!=0:\n",
    "            l[x-1]=l[x-1]+\".\"\n",
    "        else:\n",
    "            continue\n",
    "    a=\" \".join(l)\n",
    "    return a"
   ]
  },
  {
   "cell_type": "code",
   "execution_count": 33,
   "id": "4f1c242e",
   "metadata": {},
   "outputs": [
    {
     "data": {
      "text/plain": [
       "'Mubashir loves edabit. Matt loves edabit'"
      ]
     },
     "execution_count": 33,
     "metadata": {},
     "output_type": "execute_result"
    }
   ],
   "source": [
    "correct_sentences (\"  mubashir loves  edabit  Matt  loves  edabit  \")"
   ]
  },
  {
   "cell_type": "code",
   "execution_count": 34,
   "id": "540ec085",
   "metadata": {},
   "outputs": [
    {
     "data": {
      "text/plain": [
       "'He is an engineer. He sleeps a lot'"
      ]
     },
     "execution_count": 34,
     "metadata": {},
     "output_type": "execute_result"
    }
   ],
   "source": [
    "correct_sentences (\"  he is an engineer He sleeps a lot\")"
   ]
  },
  {
   "cell_type": "code",
   "execution_count": 35,
   "id": "88e1c0a5",
   "metadata": {},
   "outputs": [
    {
     "data": {
      "text/plain": [
       "'His english is not good. Help him. Thank you'"
      ]
     },
     "execution_count": 35,
     "metadata": {},
     "output_type": "execute_result"
    }
   ],
   "source": [
    "correct_sentences (\" his english is not good Help him     Thank you\")"
   ]
  },
  {
   "cell_type": "code",
   "execution_count": 40,
   "id": "91d7c8ee",
   "metadata": {},
   "outputs": [],
   "source": [
    "#32 Given a sentence, create a function that replaces every \"a\" as an article with \n",
    "#\"an absolute\". It should return the same string without any change if it doesn't have any \n",
    "#\"a\".\n",
    "\n",
    "def absolute(s):\n",
    "    l=s.split()\n",
    "    if \"a\" in l or \"A\" in l:\n",
    "        for x in range(len(l)):\n",
    "            if l[x]==\"a\":\n",
    "                l[x]=\"an absolute\"\n",
    "            elif l[x]==\"A\":\n",
    "                l[x]=\"An absolute\"\n",
    "            else:\n",
    "                continue\n",
    "        return \" \".join(l)\n",
    "    else:\n",
    "        return s"
   ]
  },
  {
   "cell_type": "code",
   "execution_count": 41,
   "id": "48c85dca",
   "metadata": {},
   "outputs": [
    {
     "data": {
      "text/plain": [
       "'I am an absolute champion!!!'"
      ]
     },
     "execution_count": 41,
     "metadata": {},
     "output_type": "execute_result"
    }
   ],
   "source": [
    "absolute(\"I am a champion!!!\")"
   ]
  },
  {
   "cell_type": "code",
   "execution_count": 42,
   "id": "a6d6dd7d",
   "metadata": {},
   "outputs": [
    {
     "data": {
      "text/plain": [
       "'Such an amazing bowler.'"
      ]
     },
     "execution_count": 42,
     "metadata": {},
     "output_type": "execute_result"
    }
   ],
   "source": [
    "absolute(\"Such an amazing bowler.\")"
   ]
  },
  {
   "cell_type": "code",
   "execution_count": 43,
   "id": "14afc14e",
   "metadata": {},
   "outputs": [
    {
     "data": {
      "text/plain": [
       "'An absolute man with no haters.'"
      ]
     },
     "execution_count": 43,
     "metadata": {},
     "output_type": "execute_result"
    }
   ],
   "source": [
    "absolute(\"A man with no haters.\")"
   ]
  },
  {
   "cell_type": "code",
   "execution_count": 46,
   "id": "b95f8efd",
   "metadata": {},
   "outputs": [],
   "source": [
    "#33 It's a Pokemon battle! Your task is to calculate the damage that a particular move would\n",
    "#do using the following formula (not the actual one from the game):\n",
    "#damage = 50 * (attack / defense) * effectiveness\n",
    "#attack = your attack power\n",
    "#defense = the opponent's defense\n",
    "#effectiveness = the effectiveness of the attack based on the matchup (see explanation below)\n",
    "#Effectiveness:\n",
    "#Attacks can be super effective, neutral, or not very effective depending on the matchup. \n",
    "#For example, water would be super effective against fire, but not very effective against \n",
    "#grass.\n",
    "#Super effective: 2x damage\n",
    "#Neutral: 1x damage\n",
    "#Not very effective: 0.5x damage\n",
    "#To prevent this challenge from being tedious, you'll only be dealing with four types: \n",
    "#fire, water, grass, and electric. Here is the effectiveness of each matchup:\n",
    "#fire > grass\n",
    "#fire < water\n",
    "#fire = electric\n",
    "#water < grass\n",
    "#water < electric\n",
    "#grass = electric\n",
    "#The function you must implement takes in:\n",
    "#your type\n",
    "#the opponent's type\n",
    "#your attack power\n",
    "#the opponent's defense\n",
    "#Examples\n",
    "\n",
    "#calculate_damage(\"fire\", \"water\", 100, 100) ➞ 25\n",
    "#calculate_damage(\"grass\", \"fire\", 35, 5) ➞ 175\n",
    "#calculate_damage(\"electric\", \"fire\", 100, 100) ➞ 50\n",
    "#Notes\n",
    "#Any type against itself is not very effective. Also, assume that the relationships between \n",
    "#different types are symmetric (if A is super effective against B, then B is not very \n",
    "#effective against A).\n",
    "\n",
    "def calculate_damage(me,opp,attack,defence):\n",
    "    effect=0\n",
    "    d={\"fire\":{\"grass\":2,\"water\":0.5,\"electric\":1},\"grass\":{\"fire\":0.5,\"water\":2,\\\n",
    "      \"electric\":1},\"water\":{\"fire\":2,\"grass\":0.5,\"electric\":0.5},\"electric\":{\"fire\":1,\\\n",
    "      \"water\":2,\"grass\":1}}\n",
    "    for x in d:\n",
    "        if x==me:\n",
    "            for y in d[x]:\n",
    "                if y==opp:\n",
    "                    effect=d[x][y]\n",
    "                    break\n",
    "            break\n",
    "        else:\n",
    "            continue\n",
    "    return int(50*(attack/defence)*effect)"
   ]
  },
  {
   "cell_type": "code",
   "execution_count": 47,
   "id": "b8074dab",
   "metadata": {},
   "outputs": [
    {
     "data": {
      "text/plain": [
       "25"
      ]
     },
     "execution_count": 47,
     "metadata": {},
     "output_type": "execute_result"
    }
   ],
   "source": [
    "calculate_damage(\"fire\", \"water\", 100, 100)"
   ]
  },
  {
   "cell_type": "code",
   "execution_count": 48,
   "id": "c622799e",
   "metadata": {},
   "outputs": [
    {
     "data": {
      "text/plain": [
       "175"
      ]
     },
     "execution_count": 48,
     "metadata": {},
     "output_type": "execute_result"
    }
   ],
   "source": [
    "calculate_damage(\"grass\", \"fire\", 35, 5)"
   ]
  },
  {
   "cell_type": "code",
   "execution_count": 49,
   "id": "14f1794f",
   "metadata": {},
   "outputs": [
    {
     "data": {
      "text/plain": [
       "50"
      ]
     },
     "execution_count": 49,
     "metadata": {},
     "output_type": "execute_result"
    }
   ],
   "source": [
    "calculate_damage(\"electric\", \"fire\", 100, 100)"
   ]
  },
  {
   "cell_type": "code",
   "execution_count": 16,
   "id": "9bcb9408",
   "metadata": {},
   "outputs": [],
   "source": [
    "#34 Create a function that takes a list of card numbers and checks if the sum of their value\n",
    "#exceeds 21. If the sum exceeds 21, return True and if the sum is under or equal to 21, \n",
    "#return False. Values of the cards are as follows:\n",
    "#2-10 are their value.\n",
    "#J-K (face cards) count as 10.\n",
    "#Aces count either as 1 or 11 - play conservatively, so that if giving an ace a value of 11\n",
    "#causes you to lose and 1 allows you to win, then go with 1.\n",
    "\n",
    "def over_twenty_one(lst):\n",
    "    sum1=0\n",
    "    for x in lst:\n",
    "        if type(x)==int and x>=2 and x<=10:\n",
    "            sum1+=x\n",
    "        elif x==\"J\" or x==\"K\" or x==\"Q\":\n",
    "            sum1+=10\n",
    "        elif x==\"A\":\n",
    "            if sum1<20:\n",
    "                sum1+=1\n",
    "            else:\n",
    "                sum1+=11\n",
    "        else:\n",
    "            continue\n",
    "    return (sum1>21)"
   ]
  },
  {
   "cell_type": "code",
   "execution_count": 17,
   "id": "29b901e9",
   "metadata": {},
   "outputs": [
    {
     "data": {
      "text/plain": [
       "False"
      ]
     },
     "execution_count": 17,
     "metadata": {},
     "output_type": "execute_result"
    }
   ],
   "source": [
    "over_twenty_one([2, 8, \"J\"])"
   ]
  },
  {
   "cell_type": "code",
   "execution_count": 18,
   "id": "b2aec4eb",
   "metadata": {},
   "outputs": [
    {
     "data": {
      "text/plain": [
       "False"
      ]
     },
     "execution_count": 18,
     "metadata": {},
     "output_type": "execute_result"
    }
   ],
   "source": [
    "over_twenty_one([\"A\", \"J\", \"K\"])"
   ]
  },
  {
   "cell_type": "code",
   "execution_count": 19,
   "id": "f82fd5e3",
   "metadata": {},
   "outputs": [
    {
     "data": {
      "text/plain": [
       "True"
      ]
     },
     "execution_count": 19,
     "metadata": {},
     "output_type": "execute_result"
    }
   ],
   "source": [
    "over_twenty_one([5, 5, 3, 9])"
   ]
  },
  {
   "cell_type": "code",
   "execution_count": 20,
   "id": "8dbe5b0a",
   "metadata": {},
   "outputs": [
    {
     "data": {
      "text/plain": [
       "False"
      ]
     },
     "execution_count": 20,
     "metadata": {},
     "output_type": "execute_result"
    }
   ],
   "source": [
    "over_twenty_one([2, 6, 4, 4, 5])"
   ]
  },
  {
   "cell_type": "code",
   "execution_count": 21,
   "id": "672026d7",
   "metadata": {},
   "outputs": [
    {
     "data": {
      "text/plain": [
       "True"
      ]
     },
     "execution_count": 21,
     "metadata": {},
     "output_type": "execute_result"
    }
   ],
   "source": [
    "over_twenty_one([\"J\", \"Q\", \"K\"])"
   ]
  },
  {
   "cell_type": "code",
   "execution_count": 33,
   "id": "f0827214",
   "metadata": {},
   "outputs": [],
   "source": [
    "#35 Create a function that alternates the case of the letters in a string (known as Spongecase).\n",
    "\n",
    "def alternating_caps(st):\n",
    "    s=\"\";y=2\n",
    "    for x in st:\n",
    "        if x.isalpha():\n",
    "            if y%2==0:\n",
    "                s+=x.upper()\n",
    "            else:\n",
    "                s+=x.lower()\n",
    "            y+=1\n",
    "        else:\n",
    "            s+=x\n",
    "    return s"
   ]
  },
  {
   "cell_type": "code",
   "execution_count": 34,
   "id": "d6427ed6",
   "metadata": {},
   "outputs": [
    {
     "data": {
      "text/plain": [
       "'HeLlO'"
      ]
     },
     "execution_count": 34,
     "metadata": {},
     "output_type": "execute_result"
    }
   ],
   "source": [
    "alternating_caps(\"Hello\")"
   ]
  },
  {
   "cell_type": "code",
   "execution_count": 35,
   "id": "f03db30a",
   "metadata": {},
   "outputs": [
    {
     "data": {
      "text/plain": [
       "'HoW aRe YoU?'"
      ]
     },
     "execution_count": 35,
     "metadata": {},
     "output_type": "execute_result"
    }
   ],
   "source": [
    "alternating_caps(\"How are you?\")"
   ]
  },
  {
   "cell_type": "code",
   "execution_count": 36,
   "id": "7c49292d",
   "metadata": {},
   "outputs": [
    {
     "data": {
      "text/plain": [
       "'OmG tHiS wEbSiTe Is AwEsOmE!'"
      ]
     },
     "execution_count": 36,
     "metadata": {},
     "output_type": "execute_result"
    }
   ],
   "source": [
    "alternating_caps(\"OMG this website is awesome!\")"
   ]
  },
  {
   "cell_type": "code",
   "execution_count": 41,
   "id": "a0fb934c",
   "metadata": {},
   "outputs": [],
   "source": [
    "#36 Write the function that takes three dimensions of a brick: height(a), width(b) and \n",
    "#depth(c) and returns True if this brick can fit into a hole with the width(w) and height(h).\n",
    "#Notes\n",
    "#You can turn the brick with any side towards the hole.\n",
    "#We assume that the brick fits if its sizes equal the ones of the hole (i.e. brick size should be less than or equal to the size of the hole, not strictly less).\n",
    "#You can't put a brick in at a non-orthogonal angle.\n",
    "\n",
    "def does_brick_fit(a,b,c,w,h):\n",
    "    return a*c<=w*h"
   ]
  },
  {
   "cell_type": "code",
   "execution_count": 42,
   "id": "3caffd6d",
   "metadata": {},
   "outputs": [
    {
     "data": {
      "text/plain": [
       "True"
      ]
     },
     "execution_count": 42,
     "metadata": {},
     "output_type": "execute_result"
    }
   ],
   "source": [
    "does_brick_fit(1, 1, 1, 1, 1)"
   ]
  },
  {
   "cell_type": "code",
   "execution_count": 43,
   "id": "3c4778f1",
   "metadata": {},
   "outputs": [
    {
     "data": {
      "text/plain": [
       "True"
      ]
     },
     "execution_count": 43,
     "metadata": {},
     "output_type": "execute_result"
    }
   ],
   "source": [
    "does_brick_fit(1, 2, 1, 1, 1)"
   ]
  },
  {
   "cell_type": "code",
   "execution_count": 44,
   "id": "24b4193e",
   "metadata": {},
   "outputs": [
    {
     "data": {
      "text/plain": [
       "False"
      ]
     },
     "execution_count": 44,
     "metadata": {},
     "output_type": "execute_result"
    }
   ],
   "source": [
    "does_brick_fit(1, 2, 2, 1, 1)"
   ]
  },
  {
   "cell_type": "code",
   "execution_count": 63,
   "id": "2f94ccc2",
   "metadata": {},
   "outputs": [],
   "source": [
    "#37 Mubashir was testing how atoms can react in their ionic state during nuclear fusion. \n",
    "#He observed that atoms can introduce different elements with Hydrogen at high temperatures \n",
    "#and inside a pressurized chamber. During his experiment, elements started precipitating \n",
    "#inside the chamber. Help him find the total number of molecules of Water H2O, \n",
    "#Carbon Dioxide CO2 and Methane CH4 generated during this process.\n",
    "#Given the number of atoms of carbon, hydrogen and oxygen, calculate the molecules in the \n",
    "#following order:\n",
    "#1. Hydrogen reacts with Oxygen = H2O\n",
    "#2. Carbon reacts with Oxygen   = CO2\n",
    "#3. Carbon reacts with Hydrogen = CH4\n",
    "\n",
    "def chemical_reactions(c,h,o):\n",
    "    h2o=min(h//2,o)\n",
    "    h-=2*h2o\n",
    "    o-=h2o\n",
    "    co2= min(c,o//2)\n",
    "    c-=co2\n",
    "    o-=co2\n",
    "    ch4=min(c,h//4)\n",
    "    return[h2o,co2,ch4]"
   ]
  },
  {
   "cell_type": "code",
   "execution_count": 64,
   "id": "7b797fe1",
   "metadata": {},
   "outputs": [
    {
     "data": {
      "text/plain": [
       "[5, 45, 0]"
      ]
     },
     "execution_count": 64,
     "metadata": {},
     "output_type": "execute_result"
    }
   ],
   "source": [
    "chemical_reactions(45, 11, 100)"
   ]
  },
  {
   "cell_type": "code",
   "execution_count": 65,
   "id": "2fd75a00",
   "metadata": {},
   "outputs": [
    {
     "data": {
      "text/plain": [
       "[0, 26, 0]"
      ]
     },
     "execution_count": 65,
     "metadata": {},
     "output_type": "execute_result"
    }
   ],
   "source": [
    "chemical_reactions(113, 0, 52) "
   ]
  },
  {
   "cell_type": "code",
   "execution_count": 8,
   "id": "59723c08",
   "metadata": {},
   "outputs": [],
   "source": [
    "#38 Create a function which replaces all the x's in the string in the following ways:Replace all x's with \"cks\"\n",
    "#UNLESS:\n",
    "#The word begins with \"x\", therefore replace it with \"z\".\n",
    "#The word is just the letter \"x\", therefore replace it with \"ecks\".\n",
    "#Notes\n",
    "#All x's are lowercase.\n",
    "#I know that not all words with x's follow this rule, but there are too many edge cases to count!\n",
    "\n",
    "def x_pronounce(st):\n",
    "    l=[]\n",
    "    for x in st.split():\n",
    "        if \"x\" in x or \"X\" in x:\n",
    "            if len(x)!=1 and x.startswith(\"x\") or x.startswith(\"X\"):\n",
    "                x=\"z\"+x[1:]\n",
    "            else:\n",
    "                a=x.find(\"x\")\n",
    "                if x[a-1]==\"a\" or x[a-1]==\"e\" or x[a-1]==\"i\" or x[a-1]==\"o\" or x[a-1]==\"u\":\n",
    "                    x=x[:a]+\"cks\"+x[a+1:]\n",
    "                else:\n",
    "                    x=x[:a]+\"ecks\"+x[a+1:]\n",
    "        else:\n",
    "            pass\n",
    "        l.append(x)\n",
    "    return \" \".join(l)"
   ]
  },
  {
   "cell_type": "code",
   "execution_count": 9,
   "id": "6545e969",
   "metadata": {},
   "outputs": [
    {
     "data": {
      "text/plain": [
       "'Inside the bocks was a zylophone'"
      ]
     },
     "execution_count": 9,
     "metadata": {},
     "output_type": "execute_result"
    }
   ],
   "source": [
    "x_pronounce(\"Inside the box was a xylophone\")"
   ]
  },
  {
   "cell_type": "code",
   "execution_count": 10,
   "id": "68426880",
   "metadata": {},
   "outputs": [
    {
     "data": {
      "text/plain": [
       "'The ecks ray is eckscellent'"
      ]
     },
     "execution_count": 10,
     "metadata": {},
     "output_type": "execute_result"
    }
   ],
   "source": [
    "x_pronounce(\"The x ray is excellent\")"
   ]
  },
  {
   "cell_type": "code",
   "execution_count": 11,
   "id": "031d0c73",
   "metadata": {},
   "outputs": [
    {
     "data": {
      "text/plain": [
       "'OMG ecks bocks unbocksing video ecks D'"
      ]
     },
     "execution_count": 11,
     "metadata": {},
     "output_type": "execute_result"
    }
   ],
   "source": [
    "x_pronounce(\"OMG x box unboxing video x D\")"
   ]
  },
  {
   "cell_type": "code",
   "execution_count": 1,
   "id": "3f6bc8d1",
   "metadata": {},
   "outputs": [],
   "source": [
    "#39 Try to imagine a world in which you might have to stay home for 14 days at any given \n",
    "#time. Do you have enough TP to make it through?\n",
    "#Although the number of squares per roll of TP varies significantly, we'll assume each roll \n",
    "#has 500 sheets, and the average person uses 57 sheets per day.\n",
    "#Create a function that will receive a dictionary with two key/values:\n",
    "#\"people\" ⁠— Number of people in the household.\n",
    "#\"tp\" ⁠— Number of rolls.\n",
    "#Return a statement telling the user if they need to buy more TP!\n",
    "\n",
    "def tp_checker(d):\n",
    "    days=0\n",
    "    tp=d[\"tp\"]*500\n",
    "    people=d[\"people\"]\n",
    "    rtp=people*57\n",
    "    while rtp<tp:\n",
    "        tp-=rtp\n",
    "        days+=1\n",
    "    if days<=11:\n",
    "        return \"Your TP will last only {} days, buy more!\".format(days)\n",
    "    else:\n",
    "        return \"Your TP will last {} days, no need to panic\".format(days)"
   ]
  },
  {
   "cell_type": "code",
   "execution_count": 2,
   "id": "65b8cd12",
   "metadata": {},
   "outputs": [
    {
     "data": {
      "text/plain": [
       "'Your TP will last only 2 days, buy more!'"
      ]
     },
     "execution_count": 2,
     "metadata": {},
     "output_type": "execute_result"
    }
   ],
   "source": [
    "tp_checker({ \"people\": 4, \"tp\": 1 })"
   ]
  },
  {
   "cell_type": "code",
   "execution_count": 3,
   "id": "1d883c5b",
   "metadata": {},
   "outputs": [
    {
     "data": {
      "text/plain": [
       "'Your TP will last 58 days, no need to panic'"
      ]
     },
     "execution_count": 3,
     "metadata": {},
     "output_type": "execute_result"
    }
   ],
   "source": [
    "tp_checker({ \"people\": 3, \"tp\": 20 })"
   ]
  },
  {
   "cell_type": "code",
   "execution_count": 4,
   "id": "00c0b713",
   "metadata": {},
   "outputs": [
    {
     "data": {
      "text/plain": [
       "'Your TP will last 26 days, no need to panic'"
      ]
     },
     "execution_count": 4,
     "metadata": {},
     "output_type": "execute_result"
    }
   ],
   "source": [
    "tp_checker({ \"people\": 4, \"tp\": 12 })"
   ]
  },
  {
   "cell_type": "code",
   "execution_count": 9,
   "id": "c6c27e6e",
   "metadata": {},
   "outputs": [],
   "source": [
    "#40 Given a positive number x:\n",
    "#p = (p1, p2, …)\n",
    "# Set of *prime* factors of x\n",
    "#If the square of every item in p is also a factor of x, then x is said to be a powerful \n",
    "#number.\n",
    "#Create a function that takes a number and returns True if it's powerful, False if it's not.\n",
    "\n",
    "def is_powerful(x):\n",
    "    l=[]\n",
    "    for y in range(2,x+1):\n",
    "        if x%y==0:\n",
    "            a=0\n",
    "            for z in range(2,y+1):\n",
    "                if y%z==0:\n",
    "                    a+=1\n",
    "                else:\n",
    "                    pass\n",
    "            if a==1:\n",
    "                l.append(y)\n",
    "        else:\n",
    "            pass\n",
    "    for p in l:\n",
    "        if x%p**2==0:\n",
    "            continue\n",
    "        else:\n",
    "            return False\n",
    "    return True"
   ]
  },
  {
   "cell_type": "code",
   "execution_count": 10,
   "id": "08140fdc",
   "metadata": {},
   "outputs": [
    {
     "data": {
      "text/plain": [
       "True"
      ]
     },
     "execution_count": 10,
     "metadata": {},
     "output_type": "execute_result"
    }
   ],
   "source": [
    "is_powerful(36)"
   ]
  },
  {
   "cell_type": "code",
   "execution_count": 11,
   "id": "891f8460",
   "metadata": {},
   "outputs": [
    {
     "data": {
      "text/plain": [
       "True"
      ]
     },
     "execution_count": 11,
     "metadata": {},
     "output_type": "execute_result"
    }
   ],
   "source": [
    "is_powerful(27)"
   ]
  },
  {
   "cell_type": "code",
   "execution_count": 12,
   "id": "df804e81",
   "metadata": {},
   "outputs": [
    {
     "data": {
      "text/plain": [
       "False"
      ]
     },
     "execution_count": 12,
     "metadata": {},
     "output_type": "execute_result"
    }
   ],
   "source": [
    "is_powerful(674) "
   ]
  },
  {
   "cell_type": "code",
   "execution_count": 24,
   "id": "2316bd63",
   "metadata": {},
   "outputs": [],
   "source": [
    "#41 Create a function to check if a candidate is qualified in an imaginary coding interview \n",
    "#of an imaginary tech startup.\n",
    "#The criteria for a candidate to be qualified in the coding interview is:\n",
    "#The candidate should have complete all the questions.\n",
    "#The maximum time given to complete the interview is 120 minutes.\n",
    "#The maximum time given for very easy questions is 5 minutes each.\n",
    "#The maximum time given for easy questions is 10 minutes each.\n",
    "#The maximum time given for medium questions is 15 minutes each.\n",
    "#The maximum time given for hard questions is 20 minutes each.\n",
    "#If all the above conditions are satisfied, return \"qualified\", else return \"disqualified\".\n",
    "#You will be given a list of time taken by a candidate to solve a particular question and the total time taken by \n",
    "#the candidate to complete the interview.\n",
    "#Given a list , in a true condition will always be in the format [very easy, very easy, easy, easy, medium,medium, hard, hard].\n",
    "#The maximum time to complete the interview includes a buffer time of 20 minutes.\n",
    "\n",
    "def interview(lst,t):\n",
    "    d={0:5,1:5,2:10,3:10,4:15,5:15,6:20,7:20}\n",
    "    if t<=120:\n",
    "        if len(lst)==8:\n",
    "            for x in range(len(lst)):\n",
    "                if lst[x]<=d[x]:\n",
    "                    continue\n",
    "                else:\n",
    "                    return \"disqualified\"\n",
    "        else:\n",
    "            return \"disqualified\"\n",
    "    else:\n",
    "        return \"disqualified\"\n",
    "    return \"qualified\""
   ]
  },
  {
   "cell_type": "code",
   "execution_count": 25,
   "id": "d930cd7c",
   "metadata": {},
   "outputs": [
    {
     "data": {
      "text/plain": [
       "'qualified'"
      ]
     },
     "execution_count": 25,
     "metadata": {},
     "output_type": "execute_result"
    }
   ],
   "source": [
    "interview([5, 5, 10, 10, 15, 15, 20, 20], 120)"
   ]
  },
  {
   "cell_type": "code",
   "execution_count": 26,
   "id": "a7910dc8",
   "metadata": {},
   "outputs": [
    {
     "data": {
      "text/plain": [
       "'qualified'"
      ]
     },
     "execution_count": 26,
     "metadata": {},
     "output_type": "execute_result"
    }
   ],
   "source": [
    "interview([2, 3, 8, 6, 5, 12, 10, 18], 64)"
   ]
  },
  {
   "cell_type": "code",
   "execution_count": 27,
   "id": "8ebf205a",
   "metadata": {},
   "outputs": [
    {
     "data": {
      "text/plain": [
       "'disqualified'"
      ]
     },
     "execution_count": 27,
     "metadata": {},
     "output_type": "execute_result"
    }
   ],
   "source": [
    "interview([5, 5, 10, 10, 25, 15, 20, 20], 120)"
   ]
  },
  {
   "cell_type": "code",
   "execution_count": 28,
   "id": "6cc4cae9",
   "metadata": {},
   "outputs": [
    {
     "data": {
      "text/plain": [
       "'disqualified'"
      ]
     },
     "execution_count": 28,
     "metadata": {},
     "output_type": "execute_result"
    }
   ],
   "source": [
    "interview([5, 5, 10, 10, 15, 15, 20], 120)"
   ]
  },
  {
   "cell_type": "code",
   "execution_count": 29,
   "id": "e043396b",
   "metadata": {},
   "outputs": [
    {
     "data": {
      "text/plain": [
       "'disqualified'"
      ]
     },
     "execution_count": 29,
     "metadata": {},
     "output_type": "execute_result"
    }
   ],
   "source": [
    "interview([5, 5, 10, 10, 15, 15, 20, 20], 130)"
   ]
  },
  {
   "cell_type": "code",
   "execution_count": 35,
   "id": "abfb8ae5",
   "metadata": {},
   "outputs": [],
   "source": [
    "#42 Create a function that takes a string as an argument and returns the Morse code equivalent.\n",
    "#Notes\n",
    "#Ouput should be International Morse Code, and use the standard conventions for symbols not defined inside the ITU recommendation (see Resources).\n",
    "#Input value can be lower or upper case.\n",
    "#Input string can have digits.\n",
    "#Input string can have some special characters (e.g. comma, colon, apostrophe, period, question mark, exclamation mark).\n",
    "#One space \" \" is expected after each character, except the last one.\n",
    "\n",
    "def encode_morse(st):\n",
    "    d= {'A': '.-', 'B': '-...', 'C': '-.-.', 'D': '-..', 'E': '.', 'F': '..-.',\n",
    "        'G': '--.', 'H': '....', 'I': '..', 'J': '.---', 'K': '-.-', 'L': '.-..',\n",
    "        'M': '--', 'N': '-.', 'O': '---', 'P': '.--.', 'Q': '--.-', 'R': '.-.',\n",
    "        'S': '...', 'T': '-', 'U': '..-', 'V': '...-', 'W': '.--', 'X': '-..-',\n",
    "        'Y': '-.--', 'Z': '--..', ' ': ' ', '0': '-----',\n",
    "        '1': '.----', '2': '..---', '3': '...--', '4': '....-', '5': '.....',\n",
    "        '6': '-....', '7': '--...', '8': '---..', '9': '----.',\n",
    "        '&': '.-...', \"'\": '.----.', '@': '.--.-.', ')': '-.--.-', '(': '-.--.',\n",
    "        ':': '---...', ',': '--..--', '=': '-...-', '!': '-.-.--', '.': '.-.-.-',\n",
    "        '-': '-....-', '+': '.-.-.', '\"': '.-..-.', '?': '..--..', '/': '-..-.'}\n",
    "    s=\"\"\n",
    "    for x in st.upper():\n",
    "            s+=d[x]+\" \"\n",
    "    return s.strip()"
   ]
  },
  {
   "cell_type": "code",
   "execution_count": 36,
   "id": "c2f95996",
   "metadata": {},
   "outputs": [
    {
     "data": {
      "text/plain": [
       "'. -.. .- -... -... .. -   -.-. .... .- .-.. .-.. . -. --. .'"
      ]
     },
     "execution_count": 36,
     "metadata": {},
     "output_type": "execute_result"
    }
   ],
   "source": [
    "encode_morse(\"EDABBIT CHALLENGE\")"
   ]
  },
  {
   "cell_type": "code",
   "execution_count": 37,
   "id": "d500ce55",
   "metadata": {},
   "outputs": [
    {
     "data": {
      "text/plain": [
       "'.... . .-.. .--.   -- .   -.-.--'"
      ]
     },
     "execution_count": 37,
     "metadata": {},
     "output_type": "execute_result"
    }
   ],
   "source": [
    "encode_morse(\"HELP ME !\")"
   ]
  },
  {
   "cell_type": "code",
   "execution_count": 46,
   "id": "fe0cc17c",
   "metadata": {},
   "outputs": [],
   "source": [
    "#43 A financial institution provides professional services to banks and claims charges from the customers based on \n",
    "#the number of man-days provided. Internally, it has set a scheme to motivate and reward staff to meet and exceed \n",
    "#targeted billable utilization and revenues by paying a bonus for each day claimed from customers in excess of a \n",
    "#threshold target.\n",
    "#This quarterly scheme is calculated with a threshold target of 32 days per quarter, and the incentive payment for \n",
    "#each billable day in excess of such threshold target is shown as follows:\n",
    "#    Day     \tBonus\n",
    "#0 to 32 days\tZero\n",
    "#33 to 40 days\tSGD$325 per billable day\n",
    "#41 to 48 days\tSGD$550 per billable day\n",
    "#Greater than 48 days\tSGD$600 per billable day\n",
    "#Please note that incentive payment is calculated progressively. As an example, if an employee reached total \n",
    "#billable days of 45 in a quarter, his/her incentive payment is computed as follows:\n",
    "#32*0 + 8*325 + 5*550 = 5350\n",
    "#Write a function to read the billable days of an employee and return the bonus he/she has obtained in that quarter.\n",
    "\n",
    "def bonus(x):\n",
    "    b=0\n",
    "    if x<=32:\n",
    "        pass\n",
    "    elif x>32 and x<=40:\n",
    "        b+=(x-32)*325\n",
    "    elif x>40 and x<=48:\n",
    "        b+=(x-32)*325+(x-40)*550\n",
    "    else:\n",
    "        b+=(x-48)*600+8*550+8*325\n",
    "    return b"
   ]
  },
  {
   "cell_type": "code",
   "execution_count": 47,
   "id": "dd7ef747",
   "metadata": {},
   "outputs": [
    {
     "data": {
      "text/plain": [
       "0"
      ]
     },
     "execution_count": 47,
     "metadata": {},
     "output_type": "execute_result"
    }
   ],
   "source": [
    "bonus(15)"
   ]
  },
  {
   "cell_type": "code",
   "execution_count": 48,
   "id": "d850d1e8",
   "metadata": {},
   "outputs": [
    {
     "data": {
      "text/plain": [
       "1625"
      ]
     },
     "execution_count": 48,
     "metadata": {},
     "output_type": "execute_result"
    }
   ],
   "source": [
    "bonus(37)"
   ]
  },
  {
   "cell_type": "code",
   "execution_count": 49,
   "id": "e5cca5ac",
   "metadata": {},
   "outputs": [
    {
     "data": {
      "text/plain": [
       "8200"
      ]
     },
     "execution_count": 49,
     "metadata": {},
     "output_type": "execute_result"
    }
   ],
   "source": [
    "bonus(50)"
   ]
  }
 ],
 "metadata": {
  "kernelspec": {
   "display_name": "Python 3 (ipykernel)",
   "language": "python",
   "name": "python3"
  },
  "language_info": {
   "codemirror_mode": {
    "name": "ipython",
    "version": 3
   },
   "file_extension": ".py",
   "mimetype": "text/x-python",
   "name": "python",
   "nbconvert_exporter": "python",
   "pygments_lexer": "ipython3",
   "version": "3.10.9"
  }
 },
 "nbformat": 4,
 "nbformat_minor": 5
}
