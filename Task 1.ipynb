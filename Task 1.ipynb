{
 "cells": [
  {
   "cell_type": "code",
   "execution_count": 1,
   "id": "b5640760",
   "metadata": {},
   "outputs": [
    {
     "name": "stdout",
     "output_type": "stream",
     "text": [
      "Please enter a word that you wish to convert to lower caseLKKKHG\n",
      "lkkkhg\n"
     ]
    }
   ],
   "source": [
    "#1.Write a python program to convert a string to lower case\n",
    "\n",
    "x=input(\"Please enter a word that you wish to convert to lower case\")\n",
    "print(x.lower())"
   ]
  },
  {
   "cell_type": "code",
   "execution_count": 6,
   "id": "cac9c560",
   "metadata": {},
   "outputs": [
    {
     "name": "stdout",
     "output_type": "stream",
     "text": [
      "Please enter a word to convert the odd index letters to lower caseAbCDEGF\n",
      "AbCdEgF\n"
     ]
    }
   ],
   "source": [
    "#2.Write a python program to convert only odd indexed characters to lower case\n",
    "#Ex:- PYTHON Output: - PyThOn\n",
    "\n",
    "b=input(\"Please enter a word to convert the odd index letters to lower case\")\n",
    "y=list(b)\n",
    "a=\"\"\n",
    "for x in range(0,len(b)):\n",
    "    if x%2==0:\n",
    "        a+=str(b[x])\n",
    "    else:\n",
    "        a+=str(b[x]).lower()\n",
    "print(a) "
   ]
  },
  {
   "cell_type": "code",
   "execution_count": 7,
   "id": "79d7fb6e",
   "metadata": {},
   "outputs": [
    {
     "name": "stdout",
     "output_type": "stream",
     "text": [
      "Please enter a word to convert the even index letters to lower caseABCDEFG\n",
      "aBcDeFg\n"
     ]
    }
   ],
   "source": [
    "#3.Write a python program to convert only even indexed characters to lower case\n",
    "#Ex:- PYTHON Output: - pYtHoN\n",
    "\n",
    "b=input(\"Please enter a word to convert the even index letters to lower case\")\n",
    "y=list(b)\n",
    "a=\"\"\n",
    "for x in range(0,len(b)):\n",
    "    if x%2==0:\n",
    "        a+=str(b[x]).lower()\n",
    "    else:\n",
    "        a+=str(b[x])\n",
    "print(a) "
   ]
  },
  {
   "cell_type": "code",
   "execution_count": 1,
   "id": "2d9e2be5",
   "metadata": {},
   "outputs": [
    {
     "name": "stdout",
     "output_type": "stream",
     "text": [
      "Please enter a word to convert the odd index letters to upper caseabcd\n",
      "aBcD\n"
     ]
    }
   ],
   "source": [
    "#4.Write a python program to convert only odd indexed characters to upper case\n",
    "#Ex:- python Output: - pYtHoN\n",
    "\n",
    "b=input(\"Please enter a word to convert the odd index letters to upper case\")\n",
    "y=list(b)\n",
    "a=\"\"\n",
    "for x in range(0,len(b)):\n",
    "    if x%2==0:\n",
    "        a+=str(b[x])\n",
    "    else:\n",
    "        a+=str(b[x]).upper()\n",
    "print(a) "
   ]
  },
  {
   "cell_type": "code",
   "execution_count": 2,
   "id": "870f1782",
   "metadata": {},
   "outputs": [
    {
     "name": "stdout",
     "output_type": "stream",
     "text": [
      "Please enter a word to convert the even index letters to upper caseabcdef\n",
      "AbCdEf\n"
     ]
    }
   ],
   "source": [
    "#5.Write a python program to convert only even indexed characters to upper case\n",
    "#Ex:- python Output: - PyThOn\n",
    "\n",
    "b=input(\"Please enter a word to convert the even index letters to upper case\")\n",
    "y=list(b)\n",
    "a=\"\"\n",
    "for x in range(0,len(b)):\n",
    "    if x%2==0:\n",
    "        a+=str(b[x]).upper()\n",
    "    else:\n",
    "        a+=str(b[x])\n",
    "print(a) "
   ]
  },
  {
   "cell_type": "code",
   "execution_count": 2,
   "id": "98cc3b51",
   "metadata": {},
   "outputs": [
    {
     "name": "stdout",
     "output_type": "stream",
     "text": [
      "Please enter your name: ABC\n",
      "Please enter your gender: m\n",
      "Please enter your age: 30\n",
      "Please enter your phone number: 123456789\n",
      "Please enter your father's name: ABDD\n",
      "Please enter you mother's name: GHDD\n",
      "My name is ABC, My gender is m, My age is 30, My phone number is 123456789, My father's name is ABDD, My mother's name is GHDD\n"
     ]
    }
   ],
   "source": [
    "#6.Write a python program where you have different variable which contains\n",
    "#your name ,gender,age, phone no ,fathers name and mothers name.And by using this variable create a\n",
    "#variable named bio-data where you will use all this variable\n",
    "#Ex:-print(bio-data)\n",
    "#Output:- My name is ...., My age is ....,My phone-no is ....,my fathers name is ...,and my mothers name is......\n",
    "\n",
    "name=input(\"Please enter your name: \")\n",
    "gender=input(\"Please enter your gender: \")\n",
    "age=int(input(\"Please enter your age: \"))\n",
    "phno=int(input(\"Please enter your phone number: \"))\n",
    "fname=input(\"Please enter your father's name: \")\n",
    "mname=input(\"Please enter you mother's name: \")\n",
    "bio_data=\"My name is {}, My gender is {}, My age is {}, My phone number is {}, My father's name is {}, My mother's name is {}\"\n",
    "print(bio_data.format(name,gender,age,phno,fname,mname))"
   ]
  },
  {
   "cell_type": "code",
   "execution_count": 4,
   "id": "f18c7ef2",
   "metadata": {},
   "outputs": [
    {
     "name": "stdout",
     "output_type": "stream",
     "text": [
      "Please enter a string to know the number of times '@' occurred Esharao@gmail.com\n",
      "@ occurred 1 number of times\n"
     ]
    }
   ],
   "source": [
    "#7.Write a python program to count how many times “@” occurred\n",
    "\n",
    "x=input(\"Please enter a string to know the number of times '@' occurred \")\n",
    "print(\"@ occurred \"+str(x.count(\"@\"))+\" number of times\")"
   ]
  },
  {
   "cell_type": "code",
   "execution_count": 18,
   "id": "373a59c8",
   "metadata": {},
   "outputs": [
    {
     "name": "stdout",
     "output_type": "stream",
     "text": [
      "name1,name2,name3\n"
     ]
    }
   ],
   "source": [
    "#8.Write a python program to get only names from the string “name1.@gmail.com,name2.@gmail.com,name3.@gmail.com”\n",
    "#Output-name1,name2,name3\n",
    "\n",
    "x=\"name1.@gmail.com,name2.@gmail.com,name3.@gmail.com\"\n",
    "y=x.split(\".@gmail.com\")\n",
    "a=\"\"\n",
    "for x in range(0,3):\n",
    "    a+=y[x]\n",
    "print(a)"
   ]
  },
  {
   "cell_type": "code",
   "execution_count": 19,
   "id": "9e85fdff",
   "metadata": {},
   "outputs": [
    {
     "name": "stdout",
     "output_type": "stream",
     "text": [
      "Enter a string of odd length greater than 9: 12345678901\n",
      "567\n"
     ]
    }
   ],
   "source": [
    "#9.Given a string of odd length greater that 9, return a new string made of the middle three characters of a given String\n",
    "#Ex:- “mynameissan\n",
    "#Output:- “mei”\n",
    "\n",
    "x=input(\"Enter a string of odd length greater than 9: \")\n",
    "y=(len(x)+1)//2\n",
    "print(x[(y-2):(y+1)])    "
   ]
  },
  {
   "cell_type": "code",
   "execution_count": 21,
   "id": "ce628ca2",
   "metadata": {},
   "outputs": [
    {
     "name": "stdout",
     "output_type": "stream",
     "text": [
      "Please enter a string Hello\n",
      "Enetr a string of 2 characters you want to insert in the middleii\n",
      "Heiillo\n"
     ]
    }
   ],
   "source": [
    "#10. Write a python program to insert a 2 string in the middle of 1 string\n",
    "#Ex:-Str1=”myn”\n",
    "#Str2=”sa” Output:-“msayn”\n",
    "\n",
    "x=input(\"Please enter a string \")\n",
    "y=input(\"Enetr a string of 2 characters you want to insert in the middle\")\n",
    "z=len(x)//2\n",
    "print(x[:z]+y+x[z:])"
   ]
  },
  {
   "cell_type": "code",
   "execution_count": 29,
   "id": "ae2c515a",
   "metadata": {},
   "outputs": [
    {
     "name": "stdout",
     "output_type": "stream",
     "text": [
      "Enetr a string: Abcdefghi\n",
      "bcdfgh\n"
     ]
    }
   ],
   "source": [
    "#11. Write a program to remove vowels from the entire alphabets\n",
    "#Ex:- “abcdefghijklmnopqrstuvwxyz” Output:- “bcdfghjklmnpqrstvwxyz\n",
    "\n",
    "x=input(\"Enetr a string: \")\n",
    "z=list(x)\n",
    "a=\"\"\n",
    "for y in range(0,len(x)):\n",
    "    if z[y]==\"a\" or z[y]==\"e\" or z[y]==\"i\" or z[y]==\"o\" or z[y]==\"u\" or z[y]==\"A\" or z[y]==\"E\" or z[y]==\"I\" or z[y]==\"O\" or z[y]==\"U\":\n",
    "        a+=\"\"\n",
    "    else:\n",
    "        a+=str(z[y])\n",
    "print(a)"
   ]
  },
  {
   "cell_type": "code",
   "execution_count": null,
   "id": "e19d93a2",
   "metadata": {},
   "outputs": [],
   "source": []
  }
 ],
 "metadata": {
  "kernelspec": {
   "display_name": "Python 3 (ipykernel)",
   "language": "python",
   "name": "python3"
  },
  "language_info": {
   "codemirror_mode": {
    "name": "ipython",
    "version": 3
   },
   "file_extension": ".py",
   "mimetype": "text/x-python",
   "name": "python",
   "nbconvert_exporter": "python",
   "pygments_lexer": "ipython3",
   "version": "3.10.9"
  }
 },
 "nbformat": 4,
 "nbformat_minor": 5
}
