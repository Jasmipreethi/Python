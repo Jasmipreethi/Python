{
 "cells": [
  {
   "cell_type": "code",
   "execution_count": 1,
   "id": "3a6cdf72",
   "metadata": {},
   "outputs": [],
   "source": [
    "#1. Write a program to reverse an integer in Python.\n",
    "def int_rev(n):\n",
    "    a=0;x=10**(len(str(n))-1)\n",
    "    while n>=1:\n",
    "        a+=x*(n%10)\n",
    "        n//=10\n",
    "        x//=10\n",
    "    return a"
   ]
  },
  {
   "cell_type": "code",
   "execution_count": 2,
   "id": "b0b655e0",
   "metadata": {},
   "outputs": [
    {
     "data": {
      "text/plain": [
       "321"
      ]
     },
     "execution_count": 2,
     "metadata": {},
     "output_type": "execute_result"
    }
   ],
   "source": [
    "int_rev(123)"
   ]
  },
  {
   "cell_type": "code",
   "execution_count": 5,
   "id": "84401c1b",
   "metadata": {},
   "outputs": [],
   "source": [
    "#2. Write a program in Python to check whether an integer is Armstrong number or not.\n",
    "\n",
    "def armstrong(n):\n",
    "    a=0;m=n\n",
    "    while n>=1:\n",
    "        a+=(n//10)**(len(str(n)))\n",
    "        n//=10\n",
    "    return a==m"
   ]
  },
  {
   "cell_type": "code",
   "execution_count": 6,
   "id": "eb99873f",
   "metadata": {},
   "outputs": [
    {
     "data": {
      "text/plain": [
       "False"
      ]
     },
     "execution_count": 6,
     "metadata": {},
     "output_type": "execute_result"
    }
   ],
   "source": [
    "armstrong(153)"
   ]
  },
  {
   "cell_type": "code",
   "execution_count": 1,
   "id": "a966cb47",
   "metadata": {},
   "outputs": [],
   "source": [
    "#3. Write a program in Python to check given number is prime or not.\n",
    "\n",
    "def prime(n):\n",
    "    a=1;c=0\n",
    "    while a<=n:\n",
    "        if n%a==0:\n",
    "            c+=a\n",
    "        else:\n",
    "            pass\n",
    "        a+=1\n",
    "    if c==n+1:\n",
    "        return \"Prime number\"\n",
    "    else:\n",
    "        return \"Not a prime number\""
   ]
  },
  {
   "cell_type": "code",
   "execution_count": 3,
   "id": "8ef93582",
   "metadata": {},
   "outputs": [
    {
     "data": {
      "text/plain": [
       "'Prime number'"
      ]
     },
     "execution_count": 3,
     "metadata": {},
     "output_type": "execute_result"
    }
   ],
   "source": [
    "prime(3)"
   ]
  },
  {
   "cell_type": "code",
   "execution_count": 4,
   "id": "ae6e9c86",
   "metadata": {},
   "outputs": [
    {
     "data": {
      "text/plain": [
       "'Not a prime number'"
      ]
     },
     "execution_count": 4,
     "metadata": {},
     "output_type": "execute_result"
    }
   ],
   "source": [
    "prime(10)"
   ]
  },
  {
   "cell_type": "code",
   "execution_count": 7,
   "id": "c2466265",
   "metadata": {},
   "outputs": [],
   "source": [
    "#4. Write a program in Python to print the Fibonacci series using iterative method.\n",
    "\n",
    "def fib(n):\n",
    "    a=0;b=1;c=1\n",
    "    print(a,b,end=\" \")\n",
    "    for x in range(n-2):\n",
    "        print(c,end=\" \")\n",
    "        a=b\n",
    "        b=c\n",
    "        c=a+b\n",
    "    print()"
   ]
  },
  {
   "cell_type": "code",
   "execution_count": 8,
   "id": "3a4564cf",
   "metadata": {},
   "outputs": [
    {
     "name": "stdout",
     "output_type": "stream",
     "text": [
      "0 1 1 2 3 \n"
     ]
    }
   ],
   "source": [
    "fib(5)"
   ]
  },
  {
   "cell_type": "code",
   "execution_count": 13,
   "id": "b1b7be2a",
   "metadata": {},
   "outputs": [],
   "source": [
    "#5. Write a program in Python to print the Fibonacci series using recursive method.\n",
    "\n",
    "def fibr(n):\n",
    "    if n<=1:\n",
    "        return n\n",
    "    else:\n",
    "        return (fibr(n-2)+fibr(n-1))"
   ]
  },
  {
   "cell_type": "code",
   "execution_count": 17,
   "id": "a8f19262",
   "metadata": {},
   "outputs": [
    {
     "name": "stdout",
     "output_type": "stream",
     "text": [
      "enter a number: 6\n",
      "0\n",
      "1\n",
      "1\n",
      "2\n",
      "3\n",
      "5\n"
     ]
    }
   ],
   "source": [
    "for x in range(int(input(\"enter a number: \"))):\n",
    "    print(fibr(x))"
   ]
  },
  {
   "cell_type": "code",
   "execution_count": 20,
   "id": "a1ff7186",
   "metadata": {},
   "outputs": [
    {
     "name": "stdout",
     "output_type": "stream",
     "text": [
      "enter a number: 123321\n",
      "Palindrome number\n"
     ]
    }
   ],
   "source": [
    "#6. Write a program in Python to check whether a number is palindrome or not using iterative method.\n",
    "\n",
    "num=input(\"enter a number: \")\n",
    "if num[::-1]==num:\n",
    "     print(\"Palindrome number\")\n",
    "else:\n",
    "    print(\"Not a palindrome number\")"
   ]
  },
  {
   "cell_type": "code",
   "execution_count": 21,
   "id": "0fc82aa0",
   "metadata": {},
   "outputs": [],
   "source": [
    "#7"
   ]
  },
  {
   "cell_type": "code",
   "execution_count": null,
   "id": "4b2b3eff",
   "metadata": {},
   "outputs": [],
   "source": []
  },
  {
   "cell_type": "code",
   "execution_count": 22,
   "id": "e5d791e9",
   "metadata": {},
   "outputs": [],
   "source": [
    "#8 Write a program in Python to find greatest among three integers.\n",
    "\n",
    "def max_of_3(n1,n2,n3):\n",
    "    return max(n1,n2,n3)"
   ]
  },
  {
   "cell_type": "code",
   "execution_count": 23,
   "id": "53ee1a53",
   "metadata": {},
   "outputs": [
    {
     "data": {
      "text/plain": [
       "7"
      ]
     },
     "execution_count": 23,
     "metadata": {},
     "output_type": "execute_result"
    }
   ],
   "source": [
    "max_of_3(3,7,5)"
   ]
  },
  {
   "cell_type": "code",
   "execution_count": 24,
   "id": "576b3cc1",
   "metadata": {},
   "outputs": [],
   "source": [
    "#9. Write a program in Python to check if a number is binary?\n",
    "\n",
    "def binary(n):\n",
    "    for x in str(n):\n",
    "        if x==\"0\" or x==\"1\":\n",
    "            continue\n",
    "        else:\n",
    "            return \"Not a binary\"\n",
    "    return \"Binary\""
   ]
  },
  {
   "cell_type": "code",
   "execution_count": 25,
   "id": "c1817baf",
   "metadata": {},
   "outputs": [
    {
     "data": {
      "text/plain": [
       "'Binary'"
      ]
     },
     "execution_count": 25,
     "metadata": {},
     "output_type": "execute_result"
    }
   ],
   "source": [
    "binary(1010)"
   ]
  },
  {
   "cell_type": "code",
   "execution_count": 26,
   "id": "419368bf",
   "metadata": {},
   "outputs": [
    {
     "data": {
      "text/plain": [
       "'Not a binary'"
      ]
     },
     "execution_count": 26,
     "metadata": {},
     "output_type": "execute_result"
    }
   ],
   "source": [
    "binary(1023)"
   ]
  },
  {
   "cell_type": "code",
   "execution_count": 27,
   "id": "96346463",
   "metadata": {},
   "outputs": [],
   "source": [
    "#10. Write a program in Python to find sum of digits of a number using recursion?\n",
    "\n"
   ]
  },
  {
   "cell_type": "code",
   "execution_count": 37,
   "id": "3c131598",
   "metadata": {},
   "outputs": [
    {
     "name": "stdout",
     "output_type": "stream",
     "text": [
      "Enter a: 3\n",
      "Enter b: 6\n",
      "a is 6 and b is 3\n"
     ]
    }
   ],
   "source": [
    "#11. Write a program in Python to swap two numbers without using third variable?\n",
    "\n",
    "a=int(input(\"Enter a: \"))\n",
    "b=int(input(\"Enter b: \"))\n",
    "a,b=b,a\n",
    "print(\"a is {} and b is {}\".format(a,b))"
   ]
  },
  {
   "cell_type": "code",
   "execution_count": null,
   "id": "7be16d18",
   "metadata": {},
   "outputs": [],
   "source": [
    "#12. Write a program in Python to swap two numbers using third variable?\n",
    "\n",
    "a=int(input(\"Enter a: \"))\n",
    "b=int(input(\"Enter b: \"))\n"
   ]
  },
  {
   "cell_type": "code",
   "execution_count": 40,
   "id": "39887302",
   "metadata": {},
   "outputs": [
    {
     "name": "stdout",
     "output_type": "stream",
     "text": [
      "Enter a number: 24\n",
      "Prime factors: [2, 3]\n"
     ]
    }
   ],
   "source": [
    "#13.Write a program in Python to find prime factors of a given integer.\n",
    "\n",
    "def is_prime(a):\n",
    "    c=0\n",
    "    for y in range(2,a+1):\n",
    "        if a%y==0:\n",
    "            c+=1\n",
    "    return c==1\n",
    "\n",
    "n=int(input(\"Enter a number: \"))\n",
    "prime=[]\n",
    "for x in range(2,n+1):\n",
    "    if n%x==0 and is_prime(x)==True:\n",
    "        prime.append(x)\n",
    "    else:\n",
    "        continue\n",
    "print(\"Prime factors:\",prime)"
   ]
  },
  {
   "cell_type": "code",
   "execution_count": 3,
   "id": "83c76221",
   "metadata": {},
   "outputs": [],
   "source": [
    "#14. Write a program in Python to add two integer without using arithmetic operator?\n",
    "\n",
    "def add(lst=[]):\n",
    "    return sum(lst)"
   ]
  },
  {
   "cell_type": "code",
   "execution_count": 5,
   "id": "9f7ac10d",
   "metadata": {},
   "outputs": [
    {
     "data": {
      "text/plain": [
       "3"
      ]
     },
     "execution_count": 5,
     "metadata": {},
     "output_type": "execute_result"
    }
   ],
   "source": [
    "add([1,2])"
   ]
  },
  {
   "cell_type": "code",
   "execution_count": 6,
   "id": "b2a78082",
   "metadata": {},
   "outputs": [],
   "source": [
    "#15. Write a program in Python to find given number is perfect or not?\n",
    "\n",
    "def perfect(num):\n",
    "    s=0\n",
    "    for x in range(1,num):\n",
    "        if num%x==0:\n",
    "            s+=x\n",
    "        else:\n",
    "            pass\n",
    "    return s==num"
   ]
  },
  {
   "cell_type": "code",
   "execution_count": 8,
   "id": "9788ebb2",
   "metadata": {},
   "outputs": [
    {
     "data": {
      "text/plain": [
       "True"
      ]
     },
     "execution_count": 8,
     "metadata": {},
     "output_type": "execute_result"
    }
   ],
   "source": [
    "perfect(6)"
   ]
  },
  {
   "cell_type": "code",
   "execution_count": 17,
   "id": "5b09c0a8",
   "metadata": {},
   "outputs": [],
   "source": [
    "#16. Python Program to find the Average of numbers with explanations.\n",
    "\n",
    "def average(*n):\n",
    "    s=0\n",
    "    for x in n:\n",
    "        s+=x\n",
    "    return s//len(n)"
   ]
  },
  {
   "cell_type": "code",
   "execution_count": 18,
   "id": "7d60b804",
   "metadata": {},
   "outputs": [
    {
     "data": {
      "text/plain": [
       "3"
      ]
     },
     "execution_count": 18,
     "metadata": {},
     "output_type": "execute_result"
    }
   ],
   "source": [
    "average(1,2,3,4,5)"
   ]
  },
  {
   "cell_type": "code",
   "execution_count": 24,
   "id": "3fd493c6",
   "metadata": {},
   "outputs": [],
   "source": [
    "#17. Python Program to calculate factorial using iterative method.\n",
    "\n",
    "def fact(n):\n",
    "    p=1\n",
    "    for x in range(1,n+1):\n",
    "        p*=x\n",
    "    return p"
   ]
  },
  {
   "cell_type": "code",
   "execution_count": 25,
   "id": "91baf376",
   "metadata": {},
   "outputs": [
    {
     "data": {
      "text/plain": [
       "120"
      ]
     },
     "execution_count": 25,
     "metadata": {},
     "output_type": "execute_result"
    }
   ],
   "source": [
    "fact(5)"
   ]
  },
  {
   "cell_type": "code",
   "execution_count": 22,
   "id": "fafb841f",
   "metadata": {},
   "outputs": [],
   "source": [
    "#18. Python Program to calculate factorial using recursion.\n",
    "\n",
    "def fact_recur(n):\n",
    "    if n<=1:\n",
    "        return n\n",
    "    else:\n",
    "        return (n*factorial(n-1))"
   ]
  },
  {
   "cell_type": "code",
   "execution_count": 23,
   "id": "4d4d7ca0",
   "metadata": {},
   "outputs": [
    {
     "data": {
      "text/plain": [
       "120"
      ]
     },
     "execution_count": 23,
     "metadata": {},
     "output_type": "execute_result"
    }
   ],
   "source": [
    "fact_recur(5)"
   ]
  },
  {
   "cell_type": "code",
   "execution_count": 28,
   "id": "fd4379bd",
   "metadata": {},
   "outputs": [],
   "source": [
    "#19. Python Program to check a given number is even or odd.\n",
    "\n",
    "def even_or_odd(num):\n",
    "    if num%2==0:\n",
    "        return \"even number\"\n",
    "    else:\n",
    "        return \"odd number\""
   ]
  },
  {
   "cell_type": "code",
   "execution_count": 29,
   "id": "484c5035",
   "metadata": {},
   "outputs": [
    {
     "data": {
      "text/plain": [
       "'odd number'"
      ]
     },
     "execution_count": 29,
     "metadata": {},
     "output_type": "execute_result"
    }
   ],
   "source": [
    "even_or_odd(3)"
   ]
  },
  {
   "cell_type": "code",
   "execution_count": 32,
   "id": "15d445e0",
   "metadata": {},
   "outputs": [],
   "source": [
    "#20. Python program to print first n Prime Number with explanation.\n",
    "\n",
    "def prime(n):\n",
    "    a=2\n",
    "    while n>0:\n",
    "        c=0\n",
    "        for x in range(2,a+1):\n",
    "            if a%x==0:\n",
    "                c+=1\n",
    "            else:\n",
    "                pass\n",
    "        if c==1:\n",
    "            print(a)\n",
    "            n-=1\n",
    "        a+=1"
   ]
  },
  {
   "cell_type": "code",
   "execution_count": 33,
   "id": "4822e48a",
   "metadata": {},
   "outputs": [
    {
     "name": "stdout",
     "output_type": "stream",
     "text": [
      "2\n",
      "3\n",
      "5\n"
     ]
    }
   ],
   "source": [
    "prime(3)"
   ]
  },
  {
   "cell_type": "code",
   "execution_count": 44,
   "id": "8502b20a",
   "metadata": {},
   "outputs": [],
   "source": [
    "#21. Python Program to print Prime Number in a given range.\n",
    "\n",
    "def prime_in_range(st,en):\n",
    "    for x in range(st,en+1):\n",
    "        c=0\n",
    "        for y in range(2,x+1):\n",
    "            if x%y==0:\n",
    "                c+=1\n",
    "            else:\n",
    "                pass\n",
    "        if c==1:\n",
    "            print(y)"
   ]
  },
  {
   "cell_type": "code",
   "execution_count": 45,
   "id": "1f5ddef8",
   "metadata": {},
   "outputs": [
    {
     "name": "stdout",
     "output_type": "stream",
     "text": [
      "5\n",
      "7\n",
      "11\n",
      "13\n",
      "17\n"
     ]
    }
   ],
   "source": [
    "prime_in_range(4,18)"
   ]
  },
  {
   "cell_type": "code",
   "execution_count": 46,
   "id": "f072445f",
   "metadata": {},
   "outputs": [
    {
     "name": "stdout",
     "output_type": "stream",
     "text": [
      "Enter three numbers\n",
      "n1: 3\n",
      "n2: 6\n",
      "n3: 2\n",
      "2\n"
     ]
    }
   ],
   "source": [
    "#22. Python Program to find Smallest number among three.\n",
    "\n",
    "print(\"Enter three numbers\")\n",
    "n1=int(input(\"n1: \"))\n",
    "n2=int(input(\"n2: \"))\n",
    "n3=int(input(\"n3: \"))\n",
    "print(min(n1,n2,n3))"
   ]
  },
  {
   "cell_type": "code",
   "execution_count": 47,
   "id": "9dd7eac6",
   "metadata": {},
   "outputs": [
    {
     "name": "stdout",
     "output_type": "stream",
     "text": [
      "Enter the base number: 6\n",
      "Enter the power: 3\n",
      "216\n"
     ]
    }
   ],
   "source": [
    "#23. Python program to calculate the power using the POW method.\n",
    "\n",
    "base=int(input(\"Enter the base number: \"))\n",
    "power=int(input(\"Enter the power: \"))\n",
    "print(pow(base,power))"
   ]
  },
  {
   "cell_type": "code",
   "execution_count": 50,
   "id": "4b36f47f",
   "metadata": {},
   "outputs": [
    {
     "name": "stdout",
     "output_type": "stream",
     "text": [
      "Enter the base number: 88\n",
      "Enter the power: 3\n",
      "681472\n"
     ]
    }
   ],
   "source": [
    "#24. Python Program to calculate the power without using POW function.(using for loop).\n",
    "\n",
    "base=int(input(\"Enter the base number: \"))\n",
    "power=int(input(\"Enter the power: \"))\n",
    "p=1\n",
    "for x in range(0,power):\n",
    "    p*=base\n",
    "print(p)"
   ]
  },
  {
   "cell_type": "code",
   "execution_count": 51,
   "id": "66205f1f",
   "metadata": {},
   "outputs": [
    {
     "name": "stdout",
     "output_type": "stream",
     "text": [
      "Enter the base number: 4\n",
      "Enter the power: 3\n",
      "64\n"
     ]
    }
   ],
   "source": [
    "#25. Python Program to calculate the power without using POW function.(using while loop).\n",
    "\n",
    "\n",
    "base=int(input(\"Enter the base number: \"))\n",
    "power=int(input(\"Enter the power: \"))\n",
    "p=1\n",
    "while power>0:\n",
    "    p*=base\n",
    "    power-=1\n",
    "print(p)"
   ]
  },
  {
   "cell_type": "code",
   "execution_count": 52,
   "id": "289b9a2b",
   "metadata": {},
   "outputs": [],
   "source": [
    "#26. Python Program to calculate the square of a given number.\n",
    "\n",
    "def square(num):\n",
    "    return num**2"
   ]
  },
  {
   "cell_type": "code",
   "execution_count": 53,
   "id": "f1a1a092",
   "metadata": {},
   "outputs": [
    {
     "data": {
      "text/plain": [
       "256"
      ]
     },
     "execution_count": 53,
     "metadata": {},
     "output_type": "execute_result"
    }
   ],
   "source": [
    "square(16)"
   ]
  },
  {
   "cell_type": "code",
   "execution_count": 54,
   "id": "62e59074",
   "metadata": {},
   "outputs": [],
   "source": [
    "#27. Python Program to calculate the cube of a given number.\n",
    "\n",
    "def cube(num):\n",
    "    return num**3"
   ]
  },
  {
   "cell_type": "code",
   "execution_count": 55,
   "id": "b646fb2c",
   "metadata": {},
   "outputs": [
    {
     "data": {
      "text/plain": [
       "1331"
      ]
     },
     "execution_count": 55,
     "metadata": {},
     "output_type": "execute_result"
    }
   ],
   "source": [
    "cube(11)"
   ]
  },
  {
   "cell_type": "code",
   "execution_count": 56,
   "id": "4ece94a2",
   "metadata": {},
   "outputs": [
    {
     "name": "stdout",
     "output_type": "stream",
     "text": [
      "Enter a number: 16\n",
      "4.0\n"
     ]
    }
   ],
   "source": [
    "#28. Python Program to calculate the square root of a given number.\n",
    "num=int(input(\"Enter a number: \"))\n",
    "print(num**0.5)"
   ]
  },
  {
   "cell_type": "code",
   "execution_count": 62,
   "id": "df749769",
   "metadata": {},
   "outputs": [],
   "source": [
    "#29. Python program to calculate LCM of given two numbers.\n",
    "\n",
    "def LCM(a,b):\n",
    "    n1=n2=1\n",
    "    while a*n1!=b*n2:\n",
    "        while x==True:\n",
    "            if min(a,b)*n2<max(a,b)*n1:\n",
    "                n2+=1"
   ]
  },
  {
   "cell_type": "code",
   "execution_count": 61,
   "id": "21b56c36",
   "metadata": {},
   "outputs": [
    {
     "name": "stdout",
     "output_type": "stream",
     "text": [
      "Number 1: 24\n",
      "Number 2: 144\n",
      "24\n"
     ]
    }
   ],
   "source": [
    "#30. Python Program to find GCD or HCF of two numbers.\n",
    "\n",
    "def factor(k):\n",
    "    s=set()\n",
    "    for x in range(1,k+1):\n",
    "        if k%x==0:\n",
    "            s.add(x)\n",
    "        else:\n",
    "            pass\n",
    "    return s\n",
    "\n",
    "n1=int(input(\"Number 1: \"))\n",
    "n2=int(input(\"Number 2: \"))\n",
    "print(max(factor(n1).intersection(factor(n2))))"
   ]
  },
  {
   "cell_type": "code",
   "execution_count": 63,
   "id": "f810b2e8",
   "metadata": {},
   "outputs": [],
   "source": [
    "#31. Python Program to find GCD of two numbers using recursion.\n",
    "\n"
   ]
  },
  {
   "cell_type": "code",
   "execution_count": null,
   "id": "0a7f4a93",
   "metadata": {},
   "outputs": [],
   "source": []
  },
  {
   "cell_type": "code",
   "execution_count": 66,
   "id": "2d02c443",
   "metadata": {},
   "outputs": [
    {
     "name": "stdout",
     "output_type": "stream",
     "text": [
      "Enter a decimal number: 3\n",
      "11\n"
     ]
    }
   ],
   "source": [
    "#32. Python Program to Convert Decimal Number into Binary.\n",
    "\n",
    "num=int(input(\"Enter a decimal number: \"))\n",
    "print(bin(num)[2:])"
   ]
  },
  {
   "cell_type": "code",
   "execution_count": 5,
   "id": "1d15a9ff",
   "metadata": {},
   "outputs": [
    {
     "name": "stdout",
     "output_type": "stream",
     "text": [
      "Enter a decimal number: 987\n",
      "1733\n"
     ]
    }
   ],
   "source": [
    "#33. Python Program to convert Decimal number to Octal number.\n",
    "\n",
    "num=int(input(\"Enter a decimal number: \"))\n",
    "octal=0\n",
    "while num>=0:\n",
    "    if num/8>0:\n",
    "        octal=(octal*10)+(num%8)\n",
    "    else:\n",
    "        break\n",
    "    num//=8\n",
    "print(int(str(octal)[::-1]))"
   ]
  },
  {
   "cell_type": "code",
   "execution_count": 7,
   "id": "fd5c95e3",
   "metadata": {},
   "outputs": [
    {
     "name": "stdout",
     "output_type": "stream",
     "text": [
      "Enter the year: 1998\n",
      "Not a leap year\n"
     ]
    }
   ],
   "source": [
    "#34. Python Program to check the given year is a leap year or not.\n",
    "\n",
    "y=int(input(\"Enter the year: \"))\n",
    "if y%4==0:\n",
    "    print(\"Leap year\")\n",
    "else:\n",
    "    print(\"Not a leap year\")"
   ]
  },
  {
   "cell_type": "code",
   "execution_count": 12,
   "id": "a955ddaa",
   "metadata": {},
   "outputs": [
    {
     "name": "stdout",
     "output_type": "stream",
     "text": [
      "Enter the temp in celsius: 46\n",
      "115*F\n"
     ]
    }
   ],
   "source": [
    "#35. Python Program to convert Celsius to Fahrenheit.\n",
    "\n",
    "temp=input(\"Enter the temp in celsius: \")\n",
    "print(str(round((int(temp[:2]))*1.8)+32)+\"*F\")"
   ]
  },
  {
   "cell_type": "code",
   "execution_count": 14,
   "id": "d8691b8a",
   "metadata": {},
   "outputs": [
    {
     "name": "stdout",
     "output_type": "stream",
     "text": [
      "Enter the temp in Fahrenheit: 56\n",
      "13*C\n"
     ]
    }
   ],
   "source": [
    "#36. Python Program to convert Fahrenheit to Celsius.\n",
    "\n",
    "temp=input(\"Enter the temp in Fahrenheit: \")\n",
    "print(str(round((int(temp[:2])-32)*(5/9)))+\"*C\")"
   ]
  },
  {
   "cell_type": "code",
   "execution_count": 22,
   "id": "7b6e8771",
   "metadata": {},
   "outputs": [
    {
     "name": "stdout",
     "output_type": "stream",
     "text": [
      "Enter the principal amount: 1900\n",
      "Enter the time in year: 2\n",
      "Enter the rate of intrest in percentage: 2\n",
      "Simple Intrest is 76.0\n"
     ]
    }
   ],
   "source": [
    "#37. Python program to calculate Simple Interest with explanation.\n",
    "\n",
    "principal=float(input(\"Enter the principal amount: \"))\n",
    "time=float(input(\"Enter the time in year: \"))\n",
    "rate=float(input(\"Enter the rate of intrest in percentage: \"))\n",
    "print(\"Simple Intrest is {}\".format((principal*time*rate)/100))"
   ]
  },
  {
   "cell_type": "code",
   "execution_count": 25,
   "id": "1aa72a10",
   "metadata": {},
   "outputs": [
    {
     "name": "stdout",
     "output_type": "stream",
     "text": [
      "Enter a string: hello\n",
      "Enter the character you want to remove: h\n",
      "ello\n"
     ]
    }
   ],
   "source": [
    "#38. Python program to remove given character from String.\n",
    "\n",
    "st=input(\"Enter a string: \")\n",
    "rem=input(\"Enter the character you want to remove: \")\n",
    "if rem in st:\n",
    "    print(st.replace(rem,\"\"))\n",
    "else:\n",
    "    print(\"Character not found in the given string\")"
   ]
  },
  {
   "cell_type": "code",
   "execution_count": 26,
   "id": "2a028544",
   "metadata": {},
   "outputs": [
    {
     "name": "stdout",
     "output_type": "stream",
     "text": [
      "Enter a string: mississippi\n",
      "Enter the character whose occurance you want to count: i\n",
      "4\n"
     ]
    }
   ],
   "source": [
    "#39. Python Program to count occurrence of a given characters in string.\n",
    "\n",
    "st=input(\"Enter a string: \")\n",
    "c=input(\"Enter the character whose occurance you want to count: \")\n",
    "if c in st:\n",
    "    print(st.count(c))\n",
    "else:\n",
    "    print(\"Character not found in the given string\")"
   ]
  },
  {
   "cell_type": "code",
   "execution_count": 32,
   "id": "ae5e51b7",
   "metadata": {},
   "outputs": [],
   "source": [
    "#40. Python Program to check if two Strings are Anagram.\n",
    "\n",
    "def simple_sort(st):\n",
    "    l=[]\n",
    "    for x in st:\n",
    "        l.append(x)\n",
    "    return l.sort()\n",
    "\n",
    "def anagram(s1,s2):\n",
    "    if len(s1)==len(s2) and simple_sort(s1)==simple_sort(s2):\n",
    "        return \"Anagram\"\n",
    "    else:\n",
    "        return \"Not an anagram\""
   ]
  },
  {
   "cell_type": "code",
   "execution_count": 33,
   "id": "7dcc90ad",
   "metadata": {},
   "outputs": [
    {
     "data": {
      "text/plain": [
       "'Anagram'"
      ]
     },
     "execution_count": 33,
     "metadata": {},
     "output_type": "execute_result"
    }
   ],
   "source": [
    "anagram(\"world\",\"rldwo\")"
   ]
  },
  {
   "cell_type": "code",
   "execution_count": 36,
   "id": "74641af1",
   "metadata": {},
   "outputs": [
    {
     "name": "stdout",
     "output_type": "stream",
     "text": [
      "Enter a stringrotor\n",
      "Palindrome\n"
     ]
    }
   ],
   "source": [
    "#41. Python program to check a String is palindrome or not.\n",
    "\n",
    "st=input(\"Enter a string\")\n",
    "if st==st[::-1]:\n",
    "    print(\"Palindrome\")\n",
    "else:\n",
    "    print(\"Not a palindrome\")"
   ]
  },
  {
   "cell_type": "code",
   "execution_count": 37,
   "id": "f8edb47f",
   "metadata": {},
   "outputs": [
    {
     "name": "stdout",
     "output_type": "stream",
     "text": [
      "Enter a character: c\n",
      "Consonant\n"
     ]
    }
   ],
   "source": [
    "#42. Python program to check given character is vowel or consonant.\n",
    "\n",
    "char=input(\"Enter a character: \")\n",
    "if char==\"a\" or char==\"e\" or char==\"i\" or char==\"o\" or char==\"u\" or char==\"A\" or char==\"E\" or char==\"I\" or char==\"O\" or char==\"U\":\n",
    "    print(\"Vowel\")\n",
    "else:\n",
    "    print(\"Consonant\")"
   ]
  },
  {
   "cell_type": "code",
   "execution_count": 38,
   "id": "1fcacd50",
   "metadata": {},
   "outputs": [
    {
     "name": "stdout",
     "output_type": "stream",
     "text": [
      "Enter a character: d\n",
      "Not a digit\n"
     ]
    }
   ],
   "source": [
    "#43. Python program to check given character is digit or not.\n",
    "\n",
    "i=input(\"Enter a character: \")\n",
    "if i.isdigit():\n",
    "    print(\"Is a digit\")\n",
    "else:\n",
    "    print(\"Not a digit\")"
   ]
  },
  {
   "cell_type": "code",
   "execution_count": 43,
   "id": "e786a7d9",
   "metadata": {},
   "outputs": [
    {
     "name": "stdout",
     "output_type": "stream",
     "text": [
      "Enter a character: 7\n",
      "Is a digit\n"
     ]
    }
   ],
   "source": [
    "#44. Python program to check given character is digit or not using isdigit() method.\n",
    "\n",
    "i=input(\"Enter a character: \")\n",
    "if ord(i)>=48 and ord(i)<=57:\n",
    "    print(\"Is a digit\")\n",
    "else:\n",
    "    print(\"Not a digit\")"
   ]
  },
  {
   "cell_type": "code",
   "execution_count": 50,
   "id": "105a1cd0",
   "metadata": {},
   "outputs": [
    {
     "name": "stdout",
     "output_type": "stream",
     "text": [
      "Enter a string: the moment is yet to come\n",
      "Enter the character you want to replace space with: @\n",
      "the@moment@is@yet@to@come\n"
     ]
    }
   ],
   "source": [
    "#45. Python program to replace the string space with a given character.\n",
    "\n",
    "st=input(\"Enter a string: \")\n",
    "char=input(\"Enter the character you want to replace space with: \")\n",
    "table=st.maketrans(\" \",char)\n",
    "print(st.translate(table))"
   ]
  },
  {
   "cell_type": "code",
   "execution_count": 45,
   "id": "fa461639",
   "metadata": {},
   "outputs": [
    {
     "name": "stdout",
     "output_type": "stream",
     "text": [
      "Enter a string: This is a test statement.\n",
      "Enter the character you want to replace space with: -\n",
      "This-is-a-test-statement.\n"
     ]
    }
   ],
   "source": [
    "#46. Python program to replace the string space with a given character using replace() method.\n",
    "\n",
    "st=input(\"Enter a string: \")\n",
    "char=input(\"Enter the character you want to replace space with: \")\n",
    "print(st.replace(\" \",char))"
   ]
  },
  {
   "cell_type": "code",
   "execution_count": 51,
   "id": "ee41c781",
   "metadata": {},
   "outputs": [
    {
     "name": "stdout",
     "output_type": "stream",
     "text": [
      "Enter a string: HeLlo WorLD\n",
      "HELLO WORLD\n"
     ]
    }
   ],
   "source": [
    "#47. Python program to convert lowercase char to uppercase of string.\n",
    "\n",
    "st=input(\"Enter a string: \")\n",
    "print(st.upper())"
   ]
  },
  {
   "cell_type": "code",
   "execution_count": 52,
   "id": "08598ff6",
   "metadata": {},
   "outputs": [
    {
     "name": "stdout",
     "output_type": "stream",
     "text": [
      "Enter a string: An apple a day keeps the doc away\n",
      "An ApplE A dAy kEEps thE dOc AwAy\n"
     ]
    }
   ],
   "source": [
    "#48. Python program to convert lowercase vowel to uppercase in string.\n",
    "\n",
    "st=input(\"Enter a string: \")\n",
    "s=\"\"\n",
    "for x in st:\n",
    "    if x==\"a\" or x==\"e\" or x==\"i\" or x==\"o\" or x==\"u\":\n",
    "        s+=x.upper()\n",
    "    else:\n",
    "        s+=x\n",
    "print(s)"
   ]
  },
  {
   "cell_type": "code",
   "execution_count": 54,
   "id": "b6ccbf59",
   "metadata": {},
   "outputs": [
    {
     "name": "stdout",
     "output_type": "stream",
     "text": [
      "Enter a string: An apple a day keeps the doc away\n",
      "n ppl  dy kps th dc wy\n"
     ]
    }
   ],
   "source": [
    "#49. Python program to delete vowels in a given string.\n",
    "\n",
    "st=input(\"Enter a string: \")\n",
    "s=\"\"\n",
    "for x in st:\n",
    "    if x==\"a\" or x==\"e\" or x==\"i\" or x==\"o\" or x==\"u\" or x==\"A\" or x==\"E\" or x==\"I\" or x==\"O\" or x==\"U\":\n",
    "        continue\n",
    "    else:\n",
    "        s+=x\n",
    "print(s)"
   ]
  },
  {
   "cell_type": "code",
   "execution_count": 55,
   "id": "fb902f2c",
   "metadata": {},
   "outputs": [
    {
     "name": "stdout",
     "output_type": "stream",
     "text": [
      "Enter a string: An apple a day keeps the doc away\n",
      "Vowels: 11\n",
      "Consonants: 22\n"
     ]
    }
   ],
   "source": [
    "#50. Python program to count the Occurrence Of Vowels & Consonants in a String.\n",
    "\n",
    "st=input(\"Enter a string: \")\n",
    "v=c=0\n",
    "for x in st:\n",
    "    if x==\"a\" or x==\"e\" or x==\"i\" or x==\"o\" or x==\"u\" or x==\"A\" or x==\"E\" or x==\"I\" or x==\"O\" or x==\"U\":\n",
    "        v+=1\n",
    "    else:\n",
    "        c+=1\n",
    "print(\"Vowels: {}\\nConsonants: {}\".format(v,c))"
   ]
  },
  {
   "cell_type": "code",
   "execution_count": 3,
   "id": "43dc5113",
   "metadata": {},
   "outputs": [
    {
     "name": "stdout",
     "output_type": "stream",
     "text": [
      "Enter a string: An apple a day keeps the doc away\n",
      "a\n"
     ]
    }
   ],
   "source": [
    "#51. Python program to print the highest frequency character in a String.\n",
    "\n",
    "st=input(\"Enter a string: \").replace(\" \",\"\")\n",
    "c=0;s=\"\"\n",
    "for x in st.lower():\n",
    "    if st.lower().count(x)>c:\n",
    "        c=st.lower().count(x)\n",
    "        s=x\n",
    "    else:\n",
    "        pass\n",
    "print(s)"
   ]
  },
  {
   "cell_type": "code",
   "execution_count": 5,
   "id": "a7b48c47",
   "metadata": {},
   "outputs": [
    {
     "name": "stdout",
     "output_type": "stream",
     "text": [
      "Enter a string: life goes on\n",
      "l-fe goes on\n"
     ]
    }
   ],
   "source": [
    "#52. Python program to Replace First Occurrence Of Vowel With ‘-‘ in String.\n",
    "\n",
    "st=input(\"Enter a string: \")\n",
    "s=\"\";i=v=0\n",
    "while i<len(st):\n",
    "    if not(st[i]==\"a\" or st[i]==\"e\" or st[i]==\"i\" or st[i]==\"o\" or st[i]==\"u\" or st[i]==\"A\" or st[i]==\"E\" or st[i]==\"I\" or st[i]==\"O\" or st[i]==\"U\"):\n",
    "        s+=st[i]\n",
    "        i+=1\n",
    "    else:\n",
    "        v+=1\n",
    "        if v==1:\n",
    "            s+=\"-\"\n",
    "        else:\n",
    "            s+=st[i]\n",
    "        i+=1\n",
    "print(s)"
   ]
  },
  {
   "cell_type": "code",
   "execution_count": 7,
   "id": "6bc17239",
   "metadata": {},
   "outputs": [
    {
     "name": "stdout",
     "output_type": "stream",
     "text": [
      "Enter a string: bangtan@123\n",
      "Alphabets: 7\n",
      "Digits: 3\n",
      "Special Characters: 1\n"
     ]
    }
   ],
   "source": [
    "#53. Python program to count alphabets, digits and special characters.\n",
    "\n",
    "st=input(\"Enter a string: \")\n",
    "alpha=digit=spc=0\n",
    "for x in st:\n",
    "    if x.isdigit():\n",
    "        digit+=1\n",
    "    elif x.isalpha():\n",
    "        alpha+=1\n",
    "    elif not(x.isalnum()):\n",
    "        spc+=1\n",
    "    else:\n",
    "        pass\n",
    "print(\"Alphabets: {}\\nDigits: {}\\nSpecial Characters: {}\".format(alpha,digit,spc))"
   ]
  },
  {
   "cell_type": "code",
   "execution_count": 8,
   "id": "6c3fd9f1",
   "metadata": {},
   "outputs": [
    {
     "name": "stdout",
     "output_type": "stream",
     "text": [
      "Enter a string: Happy Days\n",
      "H\n",
      "a\n",
      "p\n",
      "p\n",
      "y\n",
      " \n",
      "D\n",
      "a\n",
      "y\n",
      "s\n"
     ]
    }
   ],
   "source": [
    "#54. Python program to separate characters in a given string.\n",
    "\n",
    "st=input(\"Enter a string: \")\n",
    "for x in st:\n",
    "    print(x)"
   ]
  },
  {
   "cell_type": "code",
   "execution_count": 9,
   "id": "8a70e92b",
   "metadata": {},
   "outputs": [
    {
     "name": "stdout",
     "output_type": "stream",
     "text": [
      "Enter a string: An apple a day\n",
      "Anappleaday\n"
     ]
    }
   ],
   "source": [
    "#55. Python program to remove blank space from string.\n",
    "\n",
    "print(input(\"Enter a string: \").replace(\" \",\"\"))"
   ]
  },
  {
   "cell_type": "code",
   "execution_count": 12,
   "id": "02a4fb26",
   "metadata": {},
   "outputs": [
    {
     "name": "stdout",
     "output_type": "stream",
     "text": [
      "Enter a string: happy\n",
      "Enter a string: world\n",
      "happyworld\n"
     ]
    }
   ],
   "source": [
    "#56. Python program to concatenate two strings using join() method.\n",
    "\n",
    "s1=input(\"Enter a string: \")\n",
    "s2=input(\"Enter a string: \")\n",
    "print(\"\".join([s1,s2]))"
   ]
  },
  {
   "cell_type": "code",
   "execution_count": 13,
   "id": "9ae1cd6f",
   "metadata": {},
   "outputs": [
    {
     "name": "stdout",
     "output_type": "stream",
     "text": [
      "Enter a string: hello\n",
      "Enter a string: world\n",
      "helloworld\n"
     ]
    }
   ],
   "source": [
    "#57. Python program to concatenate two strings without using join() method\n",
    "\n",
    "s1=input(\"Enter a string: \")\n",
    "s2=input(\"Enter a string: \")\n",
    "print(s1+s2)"
   ]
  },
  {
   "cell_type": "code",
   "execution_count": 24,
   "id": "06188585",
   "metadata": {},
   "outputs": [
    {
     "name": "stdout",
     "output_type": "stream",
     "text": [
      "Enter a string: mississippi\n",
      "misp\n"
     ]
    }
   ],
   "source": [
    "#58. Python program to remove repeated character from string.\n",
    "\n",
    "st=input(\"Enter a string: \")\n",
    "l=[y for y in st]\n",
    "lst=[]\n",
    "for x in l:\n",
    "    if x in lst:\n",
    "        continue\n",
    "    else:\n",
    "        lst.append(x)\n",
    "print(\"\".join(lst))"
   ]
  },
  {
   "cell_type": "code",
   "execution_count": 25,
   "id": "e79cb535",
   "metadata": {},
   "outputs": [
    {
     "name": "stdout",
     "output_type": "stream",
     "text": [
      "Enter a string: mic test 123\n",
      "6\n"
     ]
    }
   ],
   "source": [
    "#59. Python program to calculate sum of integers in string.\n",
    "\n",
    "st=input(\"Enter a string: \")\n",
    "s=0\n",
    "for x in st:\n",
    "    if x.isdigit():\n",
    "        s+=int(x)\n",
    "    else:\n",
    "        continue\n",
    "print(s)"
   ]
  },
  {
   "cell_type": "code",
   "execution_count": 29,
   "id": "4b3c2a84",
   "metadata": {},
   "outputs": [
    {
     "name": "stdout",
     "output_type": "stream",
     "text": [
      "Enter the string: mathematics\n",
      "h e i c s \n"
     ]
    }
   ],
   "source": [
    "#60. Python program to print all non repeating character in string.\n",
    "\n",
    "st=input(\"Enter the string: \")\n",
    "for x in st:\n",
    "    if st.count(x)==1:\n",
    "    else:\n",
    "        continue\n",
    "print()"
   ]
  },
  {
   "cell_type": "code",
   "execution_count": 31,
   "id": "73d0398d",
   "metadata": {},
   "outputs": [
    {
     "name": "stdout",
     "output_type": "stream",
     "text": [
      "Enter the string: math\n",
      "math\n"
     ]
    }
   ],
   "source": [
    "#61. Python program to copy one string to another string.\n",
    "\n",
    "st=input(\"Enter the string: \")\n",
    "new_st=st[:]\n",
    "print(new_st)"
   ]
  },
  {
   "cell_type": "code",
   "execution_count": 37,
   "id": "e66bf0e8",
   "metadata": {},
   "outputs": [
    {
     "name": "stdout",
     "output_type": "stream",
     "text": [
      "Enter the string: happy\n",
      "ahppy\n"
     ]
    }
   ],
   "source": [
    "#62. Python Program to sort characters of string in ascending order.\n",
    "\n",
    "st=input(\"Enter the string: \")\n",
    "l=[y for y in st]\n",
    "l.sort()\n",
    "print(\"\".join(l))"
   ]
  },
  {
   "cell_type": "code",
   "execution_count": 38,
   "id": "4a0e28f3",
   "metadata": {},
   "outputs": [
    {
     "name": "stdout",
     "output_type": "stream",
     "text": [
      "Enter the string: happy\n",
      "yppha\n"
     ]
    }
   ],
   "source": [
    "#63. Python Program to sort character of string in descending order.\n",
    "\n",
    "st=input(\"Enter the string: \")\n",
    "l=[y for y in st]\n",
    "l.sort(reverse=True)\n",
    "print(\"\".join(l))"
   ]
  },
  {
   "cell_type": "code",
   "execution_count": null,
   "id": "329265c0",
   "metadata": {},
   "outputs": [],
   "source": []
  }
 ],
 "metadata": {
  "kernelspec": {
   "display_name": "Python 3 (ipykernel)",
   "language": "python",
   "name": "python3"
  },
  "language_info": {
   "codemirror_mode": {
    "name": "ipython",
    "version": 3
   },
   "file_extension": ".py",
   "mimetype": "text/x-python",
   "name": "python",
   "nbconvert_exporter": "python",
   "pygments_lexer": "ipython3",
   "version": "3.10.9"
  }
 },
 "nbformat": 4,
 "nbformat_minor": 5
}
