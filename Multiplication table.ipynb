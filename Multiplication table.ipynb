{
 "cells": [
  {
   "cell_type": "code",
   "execution_count": 4,
   "id": "b01db447",
   "metadata": {},
   "outputs": [
    {
     "name": "stdout",
     "output_type": "stream",
     "text": [
      "Please enter the number you want to see the table of: 3\n",
      "Please enter the number you would like to multiply the prior number upto: 20\n",
      "3x1=3\n",
      "3x2=6\n",
      "3x3=9\n",
      "3x4=12\n",
      "3x5=15\n",
      "3x6=18\n",
      "3x7=21\n",
      "3x8=24\n",
      "3x9=27\n",
      "3x10=30\n",
      "3x11=33\n",
      "3x12=36\n",
      "3x13=39\n",
      "3x14=42\n",
      "3x15=45\n",
      "3x16=48\n",
      "3x17=51\n",
      "3x18=54\n",
      "3x19=57\n",
      "3x20=60\n"
     ]
    }
   ],
   "source": [
    "# Create a simple multiplication table:\n",
    "n=int(input(\"Please enter the number you want to see the table of: \"))\n",
    "n1=int(input(\"Please enter the number you would like to multiply the prior number upto: \"))\n",
    "for x in range(1,(n1+1)):\n",
    "      print(str(n)+\"x\"+str(x)+\"=\"+str(n*x)) "
   ]
  },
  {
   "cell_type": "code",
   "execution_count": null,
   "id": "ff0c71e4",
   "metadata": {},
   "outputs": [],
   "source": []
  }
 ],
 "metadata": {
  "kernelspec": {
   "display_name": "Python 3 (ipykernel)",
   "language": "python",
   "name": "python3"
  },
  "language_info": {
   "codemirror_mode": {
    "name": "ipython",
    "version": 3
   },
   "file_extension": ".py",
   "mimetype": "text/x-python",
   "name": "python",
   "nbconvert_exporter": "python",
   "pygments_lexer": "ipython3",
   "version": "3.10.9"
  }
 },
 "nbformat": 4,
 "nbformat_minor": 5
}
