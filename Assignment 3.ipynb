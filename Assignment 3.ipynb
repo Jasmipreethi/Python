{
 "cells": [
  {
   "cell_type": "code",
   "execution_count": 4,
   "id": "6395df3d",
   "metadata": {},
   "outputs": [
    {
     "name": "stdout",
     "output_type": "stream",
     "text": [
      "0\n",
      "1\n",
      "2\n",
      "4\n",
      "5\n"
     ]
    }
   ],
   "source": [
    "#1) Write a Python program that prints all the numbers from 0 to 6 except 3 and 6\n",
    "\n",
    "for x in range(0,7):\n",
    "    if x%3==0 and x!=0:\n",
    "        continue\n",
    "    else:\n",
    "         print(x)"
   ]
  },
  {
   "cell_type": "code",
   "execution_count": 6,
   "id": "51ec0b21",
   "metadata": {},
   "outputs": [
    {
     "name": "stdout",
     "output_type": "stream",
     "text": [
      "Enter a number: 10\n",
      "55\n"
     ]
    }
   ],
   "source": [
    "#2) Write a program to accept a number from a user and calculate the sum of all numbers from 1 to a given number\n",
    "\n",
    "x=int(input(\"Enter a number: \"))\n",
    "s=0\n",
    "for x in range(1,x+1):\n",
    "    s+=x\n",
    "print(s)"
   ]
  },
  {
   "cell_type": "code",
   "execution_count": 11,
   "id": "1f895973",
   "metadata": {},
   "outputs": [
    {
     "name": "stdout",
     "output_type": "stream",
     "text": [
      "Enter a digit: 4567\n",
      "Total number of digits: 4\n"
     ]
    }
   ],
   "source": [
    "#4) Write a program to count the total number of digits in a number using a while loop.\n",
    "#For example, the number is 75869, so the output should be 5.\n",
    "\n",
    "x=input(\"Enter a digit: \")\n",
    "y=0\n",
    "while y<len(x):\n",
    "    y+=1\n",
    "print(\"Total number of digits: \"+str(y))"
   ]
  },
  {
   "cell_type": "code",
   "execution_count": 12,
   "id": "2245315d",
   "metadata": {},
   "outputs": [],
   "source": [
    "#5) Write a Python program to guess a number between 1 to\n",
    "#Example:\n",
    "#User is prompted to enter a guess. If the user guesses wrong then the prompt appears again until the guess\n",
    "#is correct, on successful guess, user will get a \"Well guessed!\" message, and the program will exit."
   ]
  },
  {
   "cell_type": "code",
   "execution_count": 15,
   "id": "1aa0ab02",
   "metadata": {},
   "outputs": [
    {
     "name": "stdout",
     "output_type": "stream",
     "text": [
      "1\n",
      "2\n",
      "Fizz\n",
      "4\n",
      "Buzz\n",
      "Fizz\n",
      "7\n",
      "8\n",
      "Fizz\n",
      "Buzz\n",
      "11\n",
      "Fizz\n",
      "13\n",
      "14\n",
      "FizzBuzz\n",
      "16\n",
      "17\n",
      "Fizz\n",
      "19\n",
      "Buzz\n",
      "Fizz\n",
      "22\n",
      "23\n",
      "Fizz\n",
      "Buzz\n",
      "26\n",
      "Fizz\n",
      "28\n",
      "29\n",
      "FizzBuzz\n",
      "31\n",
      "32\n",
      "Fizz\n",
      "34\n",
      "Buzz\n",
      "Fizz\n",
      "37\n",
      "38\n",
      "Fizz\n",
      "Buzz\n",
      "41\n",
      "Fizz\n",
      "43\n",
      "44\n",
      "FizzBuzz\n",
      "46\n",
      "47\n",
      "Fizz\n",
      "49\n",
      "Buzz\n",
      "Fizz\n",
      "52\n",
      "53\n",
      "Fizz\n",
      "Buzz\n",
      "56\n",
      "Fizz\n",
      "58\n",
      "59\n",
      "FizzBuzz\n"
     ]
    }
   ],
   "source": [
    "#6) Write a Python program which iterates the integers from 1 to 60.\n",
    "#For multiples of three print \"Fizz\" instead of the number and for the multiples of five print \"Buzz\".\n",
    "#For numbers which are multiples of both three and five print \"FizzBuzz\".\n",
    "\n",
    "for x in range(1,61):\n",
    "    if x%3==0 and x%5==0:\n",
    "        print(\"FizzBuzz\")\n",
    "    elif x%3==0:\n",
    "        print(\"Fizz\")\n",
    "    elif x%5==0:\n",
    "        print(\"Buzz\")\n",
    "    else:\n",
    "        print(x)"
   ]
  },
  {
   "cell_type": "code",
   "execution_count": 19,
   "id": "cca335ce",
   "metadata": {},
   "outputs": [
    {
     "name": "stdout",
     "output_type": "stream",
     "text": [
      "Enter a string: Happy life 101\n",
      "Letters: 9\n",
      "Digits: 3\n"
     ]
    }
   ],
   "source": [
    "#7) Write a Python program that accepts a string and calculate the number of digits and letters\n",
    "#Example: Input\n",
    "#Python 3.2\n",
    "#Output\n",
    "#Letters 6 Digits 2\n",
    "\n",
    "y=input(\"Enter a string: \")\n",
    "a=b=0\n",
    "for x in range(0,len(y)):\n",
    "    if y[x].isalpha():\n",
    "        a+=1\n",
    "    elif y[x].isdigit():\n",
    "        b+=1\n",
    "    else:\n",
    "        continue\n",
    "print(\"Letters: \"+str(a)+\"\\nDigits: \"+str(b))"
   ]
  },
  {
   "cell_type": "code",
   "execution_count": 9,
   "id": "99893b52",
   "metadata": {},
   "outputs": [
    {
     "name": "stdout",
     "output_type": "stream",
     "text": [
      "Please enter your password: Hello@WoRLd123$#\n",
      "Valid password\n"
     ]
    }
   ],
   "source": [
    "#8) Write a Python program to check the validity of password input by users.\n",
    "#Validation:\n",
    "#At least 1 letter between [a-z] and 1 letter between [A-Z].\n",
    "#At least 1 number between [0-9]. At least 1 character from [$#@].\n",
    "#Minimum length 6 characters. Maximum length 16 characters.\n",
    "\n",
    "p=input(\"Please enter your password: \")\n",
    "l=u=d=c=0\n",
    "for x in range(0,len(p)):\n",
    "    if p[x].isalpha():\n",
    "        if p[x].isupper():\n",
    "            u+=1\n",
    "        else:\n",
    "            l+=1\n",
    "    elif p[x].isdigit():\n",
    "        d+=1\n",
    "    elif p[x]==\"$\" or p[x]==\"#\" or p[x]==\"@\":\n",
    "        c+=1\n",
    "    else:\n",
    "        continue\n",
    "if l>0 and u>1 and d>1 and c>1 and 6<=len(p)<=16:\n",
    "    print(\"Valid password\")\n",
    "else:\n",
    "    print(\"Invalid password\")\n",
    "        "
   ]
  },
  {
   "cell_type": "code",
   "execution_count": 2,
   "id": "32781d01",
   "metadata": {},
   "outputs": [
    {
     "name": "stdout",
     "output_type": "stream",
     "text": [
      "Enter a string: hello\n",
      "Reversed string is: olleh\n"
     ]
    }
   ],
   "source": [
    "#9) Write a program in Python to reverse a word by using while loop.\n",
    "\n",
    "x=input(\"Enter a string: \")\n",
    "a=\"\";y=len(x)-1\n",
    "while len(a)<len(x):\n",
    "    a+=x[y]\n",
    "    y-=1\n",
    "print(\"Reversed string is: \"+a)"
   ]
  },
  {
   "cell_type": "code",
   "execution_count": 3,
   "id": "5247c14b",
   "metadata": {},
   "outputs": [
    {
     "name": "stdout",
     "output_type": "stream",
     "text": [
      "Enter an integer: 1\n",
      "Enter an integer: 2\n",
      "Enter an integer: 3\n",
      "Enter an integer: 46\n",
      "Enter an integer: 3\n",
      "Enter an integer: 4\n",
      "Enter an integer: 3\n",
      "Enter an integer: 2\n",
      "Enter an integer: 2\n",
      "Enter an integer: 5\n",
      "Average: 7.1\n"
     ]
    }
   ],
   "source": [
    "#10) Write a program which takes 10 integers as input using loop and print their average value on the screen\n",
    "\n",
    "s=0\n",
    "for x in range(0,10):\n",
    "    y=int(input(\"Enter an integer: \"))\n",
    "    s+=y\n",
    "print(\"Average: \"+str(s/10))"
   ]
  },
  {
   "cell_type": "code",
   "execution_count": 1,
   "id": "d5134197",
   "metadata": {},
   "outputs": [
    {
     "name": "stdout",
     "output_type": "stream",
     "text": [
      "Enter a number 3\n",
      "Press q to quit a\n",
      "Enter a number 23\n",
      "Press q to quit d\n",
      "Enter a number 45\n",
      "Press q to quit q\n",
      "Sum is 71\n",
      "Product is 3105\n"
     ]
    }
   ],
   "source": [
    "#11) Write a program which takes integer inputs from user until he/she presses “q” \n",
    "#(Ask to press q to quit after every integer input). Print average and product of all numbers.\n",
    "\n",
    "s=0;x=\"\";p=1\n",
    "while not(x==\"q\" or x==\"Q\"):\n",
    "    y=int(input(\"Enter a number \")) \n",
    "    s+=y\n",
    "    p*=y\n",
    "    x=input(\"Press q to quit \")\n",
    "print(\"Sum is \"+str(s)+\"\\nProduct is \"+str(p))"
   ]
  },
  {
   "cell_type": "code",
   "execution_count": 3,
   "id": "f85dd7b7",
   "metadata": {},
   "outputs": [
    {
     "name": "stdout",
     "output_type": "stream",
     "text": [
      "Enter a string: Hii123@happy56\n",
      "Hiihappy\n"
     ]
    }
   ],
   "source": [
    "#12) Write a Python program which will remove all digits or any other characters from the string except alphabets\n",
    "#Example: Input:\n",
    "#“asd12.asd22”\n",
    "#Output: 'asdasd'\n",
    "\n",
    "x=input(\"Enter a string: \")\n",
    "a=\"\"\n",
    "for y in range(0,len(x)):\n",
    "    if x[y].isalpha():\n",
    "        a+=x[y]\n",
    "    else:\n",
    "        continue\n",
    "print(a)"
   ]
  },
  {
   "cell_type": "code",
   "execution_count": 4,
   "id": "cceadc66",
   "metadata": {},
   "outputs": [
    {
     "name": "stdout",
     "output_type": "stream",
     "text": [
      "Sum is: 30\n"
     ]
    }
   ],
   "source": [
    "#13)  Write a python program to find the sum of all even numbers from 0 to 10.\n",
    "\n",
    "s=0\n",
    "for x in range(0,11):\n",
    "    if x%2==0:\n",
    "        s+=x\n",
    "    else:\n",
    "        continue\n",
    "print(\"Sum is: \"+str(s))"
   ]
  },
  {
   "cell_type": "code",
   "execution_count": 8,
   "id": "bfd2a7a9",
   "metadata": {},
   "outputs": [
    {
     "name": "stdout",
     "output_type": "stream",
     "text": [
      "Enter a number 3\n",
      "3\n",
      "2\n",
      "1\n",
      "0\n"
     ]
    }
   ],
   "source": [
    "#14) Write a python program which will accept a digit and print All the numbers before it till 0\n",
    "#Example: Input: 5\n",
    "#Output:\n",
    "#4 \n",
    "#3 \n",
    "#2 \n",
    "#1 \n",
    "#0\n",
    "\n",
    "x=int(input(\"Enter a number \"))\n",
    "for y in range(x,-1,-1):\n",
    "    print(y)\n",
    "    "
   ]
  },
  {
   "cell_type": "code",
   "execution_count": null,
   "id": "1555c6c6",
   "metadata": {},
   "outputs": [],
   "source": []
  }
 ],
 "metadata": {
  "kernelspec": {
   "display_name": "Python 3 (ipykernel)",
   "language": "python",
   "name": "python3"
  },
  "language_info": {
   "codemirror_mode": {
    "name": "ipython",
    "version": 3
   },
   "file_extension": ".py",
   "mimetype": "text/x-python",
   "name": "python",
   "nbconvert_exporter": "python",
   "pygments_lexer": "ipython3",
   "version": "3.10.9"
  }
 },
 "nbformat": 4,
 "nbformat_minor": 5
}
