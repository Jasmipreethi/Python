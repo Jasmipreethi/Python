{
 "cells": [
  {
   "cell_type": "code",
   "execution_count": 4,
   "id": "2b7a9272",
   "metadata": {},
   "outputs": [
    {
     "name": "stdout",
     "output_type": "stream",
     "text": [
      "1 \n",
      "2 2 \n",
      "3 3 3 \n",
      "4 4 4 4 \n",
      "5 5 5 5 5 \n"
     ]
    }
   ],
   "source": [
    "#a\n",
    "#Create a python program to print the below pattern using for loop as or while loop\n",
    "#1  \n",
    "#2 2  \n",
    "#3 3 3  \n",
    "#4 4 4 4  \n",
    "#5 5 5 5 5\n",
    "\n",
    "for x in range(1,6):\n",
    "    for y in range(1,x+1):\n",
    "        print(x,end=\" \")\n",
    "    print()"
   ]
  },
  {
   "cell_type": "code",
   "execution_count": 5,
   "id": "d9997153",
   "metadata": {},
   "outputs": [
    {
     "name": "stdout",
     "output_type": "stream",
     "text": [
      "1 \n",
      "1 2 \n",
      "1 2 3 \n",
      "1 2 3 4 \n",
      "1 2 3 4 5 \n"
     ]
    }
   ],
   "source": [
    "#b\n",
    "#1 \n",
    "#1 2 \n",
    "#1 2 3 \n",
    "#1 2 3 4 \n",
    "#1 2 3 4 5\n",
    "\n",
    "for x in range(1,6):\n",
    "    for y in range(1,x+1):\n",
    "        print(y, end=\" \")\n",
    "    print()"
   ]
  },
  {
   "cell_type": "code",
   "execution_count": 33,
   "id": "37ee3ce4",
   "metadata": {},
   "outputs": [
    {
     "name": "stdout",
     "output_type": "stream",
     "text": [
      "1 1 1 1 1 \n",
      "2 2 2 2 \n",
      "3 3 3 \n",
      "4 4 \n",
      "5 \n"
     ]
    }
   ],
   "source": [
    "#c\n",
    "#1 1 1 1 1 \n",
    "#2 2 2 2 \n",
    "#3 3 3 \n",
    "#4 4 \n",
    "#5\n",
    "\n",
    "for x in range(1,6):\n",
    "    for y in range(6,x,-1):\n",
    "        print(x,end=\" \")\n",
    "    print()"
   ]
  },
  {
   "cell_type": "code",
   "execution_count": 14,
   "id": "ad8cd171",
   "metadata": {},
   "outputs": [
    {
     "name": "stdout",
     "output_type": "stream",
     "text": [
      "5 5 5 5 5 \n",
      "5 5 5 5 \n",
      "5 5 5 \n",
      "5 5 \n",
      "5 \n"
     ]
    }
   ],
   "source": [
    "#d\n",
    "#5 5 5 5 5 \n",
    "#5 5 5 5 \n",
    "#5 5 5 \n",
    "#5 5 \n",
    "#5\n",
    "\n",
    "for x in range(5,0,-1):\n",
    "    for y in range(0,x):\n",
    "        print(\"5\",end=\" \")\n",
    "    print()"
   ]
  },
  {
   "cell_type": "code",
   "execution_count": 34,
   "id": "e229d09a",
   "metadata": {},
   "outputs": [
    {
     "name": "stdout",
     "output_type": "stream",
     "text": [
      "0 1 2 3 4 5 \n",
      "0 1 2 3 4 \n",
      "0 1 2 3 \n",
      "0 1 2 \n",
      "0 1 \n"
     ]
    }
   ],
   "source": [
    "#e\n",
    "#0 1 2 3 4 5 \n",
    "#0 1 2 3 4 \n",
    "#0 1 2 3 \n",
    "#0 1 2 \n",
    "#0 1\n",
    "\n",
    "for x in range(5,0,-1):\n",
    "    for y in range(0,x+1):\n",
    "        print(y,end=\" \")\n",
    "    print()\n"
   ]
  },
  {
   "cell_type": "code",
   "execution_count": 35,
   "id": "201030e9",
   "metadata": {},
   "outputs": [
    {
     "name": "stdout",
     "output_type": "stream",
     "text": [
      "1 \n",
      "3 3 \n",
      "5 5 5 \n",
      "7 7 7 7 \n",
      "9 9 9 9 9 \n"
     ]
    }
   ],
   "source": [
    "#f\n",
    "#1 \n",
    "#3 3 \n",
    "#5 5 5 \n",
    "#7 7 7 7 \n",
    "#9 9 9 9 9\n",
    "\n",
    "for x in range(1,10,2):\n",
    "    for y in range(1,x+1,2):\n",
    "        print(x,end=\" \")\n",
    "    print()"
   ]
  },
  {
   "cell_type": "code",
   "execution_count": 36,
   "id": "2a4ea0d6",
   "metadata": {},
   "outputs": [
    {
     "name": "stdout",
     "output_type": "stream",
     "text": [
      "5 5 5 5 5 \n",
      "4 4 4 4 \n",
      "3 3 3 \n",
      "2 2 \n",
      "1 \n"
     ]
    }
   ],
   "source": [
    "#g\n",
    "#5 5 5 5 5 \n",
    "#4 4 4 4 \n",
    "#3 3 3 \n",
    "#2 2 \n",
    "#1\n",
    "\n",
    "for x in range(5,0,-1):\n",
    "    for y in range(x,0,-1):\n",
    "        print(x,end=\" \")\n",
    "    print()"
   ]
  },
  {
   "cell_type": "code",
   "execution_count": 37,
   "id": "ffbf9791",
   "metadata": {},
   "outputs": [
    {
     "name": "stdout",
     "output_type": "stream",
     "text": [
      "1 \n",
      "2 1 \n",
      "3 2 1 \n",
      "4 3 2 1 \n",
      "5 4 3 2 1 \n"
     ]
    }
   ],
   "source": [
    "#h\n",
    "#1 \n",
    "#2 1 \n",
    "#3 2 1 \n",
    "#4 3 2 1 \n",
    "#5 4 3 2 1\n",
    "\n",
    "for x in range(1,6):\n",
    "    for y in range(x,0,-1):\n",
    "        print(y,end=\" \")\n",
    "    print()"
   ]
  },
  {
   "cell_type": "code",
   "execution_count": 38,
   "id": "12f0b200",
   "metadata": {},
   "outputs": [
    {
     "name": "stdout",
     "output_type": "stream",
     "text": [
      "5 4 3 2 1 \n",
      "5 4 3 2 \n",
      "5 4 3 \n",
      "5 4 \n",
      "5 \n"
     ]
    }
   ],
   "source": [
    "#i\n",
    "#5 4 3 2 1 \n",
    "#4 3 2 1 \n",
    "#3 2 1 \n",
    "#2 1 \n",
    "#1\n",
    "\n",
    "for x in range(0,5):\n",
    "    for y in range(5,x,-1):\n",
    "        print(y,end=\" \")\n",
    "    print()"
   ]
  },
  {
   "cell_type": "code",
   "execution_count": 1,
   "id": "39c7133e",
   "metadata": {},
   "outputs": [
    {
     "name": "stdout",
     "output_type": "stream",
     "text": [
      "1 \n",
      "3 2 \n",
      "6 5 4 \n",
      "10 9 8 7 \n"
     ]
    }
   ],
   "source": [
    "#j)\n",
    "#1\n",
    "#3 2\n",
    "#6 5 4\n",
    "#10 9 8 7\n",
    "x=1\n",
    "y=2\n",
    "a=y\n",
    "for i in range(2, 6):\n",
    "    for j in range(x,y):\n",
    "        a-=1\n",
    "        print(a,end=' ')\n",
    "    print()\n",
    "    x=y\n",
    "    y+=i\n",
    "    a=y"
   ]
  },
  {
   "cell_type": "code",
   "execution_count": 6,
   "id": "7d33af66",
   "metadata": {},
   "outputs": [
    {
     "name": "stdout",
     "output_type": "stream",
     "text": [
      "            \n",
      "          1 \n",
      "        1 2 \n",
      "      1 2 3 \n",
      "    1 2 3 4 \n",
      "  1 2 3 4 5 \n"
     ]
    }
   ],
   "source": [
    "#k\n",
    "#          1 \n",
    "#        1 2 \n",
    "#      1 2 3 \n",
    "#    1 2 3 4 \n",
    "#  1 2 3 4 5 \n",
    "\n",
    "for x in range(7,1,-1):\n",
    "    z=1\n",
    "    for y in range(1,7):\n",
    "        if x>y:\n",
    "            print(\" \",end=\" \")\n",
    "        else:\n",
    "            print(z,end=\" \")\n",
    "            z+=1\n",
    "    print()\n",
    "    \n",
    "           "
   ]
  },
  {
   "cell_type": "code",
   "execution_count": 14,
   "id": "e04be49d",
   "metadata": {},
   "outputs": [],
   "source": [
    "#l\n",
    "\n",
    "#1 \n",
    "#1 1 \n",
    "#1 2 1 \n",
    "#1 3 3 1 \n",
    "#1 4 6 4 1 \n",
    "#1 5 10 10 5 1 \n",
    "#1 6 15 20 15 6 1\n",
    "\n"
   ]
  },
  {
   "cell_type": "code",
   "execution_count": 17,
   "id": "8f095d65",
   "metadata": {},
   "outputs": [
    {
     "name": "stdout",
     "output_type": "stream",
     "text": [
      "1 2 3 4 5 \n",
      "2 2 3 4 5 \n",
      "3 3 3 4 5 \n",
      "4 4 4 4 5 \n",
      "5 5 5 5 5 \n"
     ]
    }
   ],
   "source": [
    "#m\n",
    "#1 2 3 4 5 \n",
    "#2 2 3 4 5 \n",
    "#3 3 3 4 5 \n",
    "#4 4 4 4 5 \n",
    "#5 5 5 5 5\n",
    "\n",
    "for x in range(1,6):\n",
    "    for y in range(1,6):\n",
    "        if y<=x:\n",
    "            print(x,end=\" \")\n",
    "        else:\n",
    "            print(y,end=\" \")\n",
    "    print()"
   ]
  },
  {
   "cell_type": "code",
   "execution_count": 41,
   "id": "83f9d513",
   "metadata": {},
   "outputs": [
    {
     "name": "stdout",
     "output_type": "stream",
     "text": [
      "1 \n",
      "2 4 \n",
      "3 6 9 \n",
      "4 8 12 16 \n",
      "5 10 15 20 25 \n",
      "6 12 18 24 30 36 \n",
      "7 14 21 28 35 42 49 \n",
      "8 16 24 32 40 48 56 64 \n"
     ]
    }
   ],
   "source": [
    "#n\n",
    "#1  \n",
    "#2  4  \n",
    "#3  6  9  \n",
    "#4  8  12  16  \n",
    "#5  10  15  20  25  \n",
    "#6  12  18  24  30  36  \n",
    "#7  14  21  28  35  42  49  \n",
    "#8  16  24  32  40  48  56  64\n",
    "\n",
    "for x in range(1,9):\n",
    "    z=1\n",
    "    for y in range(1,x+1):\n",
    "        print(x*z,end=\" \")\n",
    "        z+=1\n",
    "    print()"
   ]
  },
  {
   "cell_type": "code",
   "execution_count": 42,
   "id": "a658955a",
   "metadata": {},
   "outputs": [
    {
     "name": "stdout",
     "output_type": "stream",
     "text": [
      "* \n",
      "* * \n",
      "* * * \n",
      "* * * * \n",
      "* * * * * \n"
     ]
    }
   ],
   "source": [
    "#o\n",
    "#* \n",
    "#* * \n",
    "#* * * \n",
    "#* * * * \n",
    "#* * * * *\n",
    "\n",
    "for x in range(0,5):\n",
    "    for y in range(0,x+1):\n",
    "        print(\"*\",end=\" \")\n",
    "    print()"
   ]
  },
  {
   "cell_type": "code",
   "execution_count": 9,
   "id": "7539fee1",
   "metadata": {},
   "outputs": [
    {
     "name": "stdout",
     "output_type": "stream",
     "text": [
      "     *\n",
      "    **\n",
      "   ***\n",
      "  ****\n",
      " *****\n"
     ]
    }
   ],
   "source": [
    "#p\n",
    "#     * \n",
    "#    ** \n",
    "#   *** \n",
    "#  **** \n",
    "# ***** \n",
    "\n",
    "for x in range(5,0,-1):\n",
    "    print(\" \"*x,end=\"\")\n",
    "    for y in range(6,x,-1):\n",
    "        print(\"*\",end=\"\")\n",
    "    print()\n"
   ]
  },
  {
   "cell_type": "code",
   "execution_count": 17,
   "id": "72dfc871",
   "metadata": {},
   "outputs": [
    {
     "name": "stdout",
     "output_type": "stream",
     "text": [
      "* * * * * \n",
      "* * * * \n",
      "* * * \n",
      "* * \n",
      "* \n",
      "\n"
     ]
    }
   ],
   "source": [
    "#q\n",
    "#* * * * *  \n",
    "#* * * *  \n",
    "#* * *  \n",
    "#* *  \n",
    "#*\n",
    "\n",
    "for x in range(6,0,-1):\n",
    "    for y in range(0,x-1):\n",
    "        print(\"*\",end=\" \")\n",
    "    print()"
   ]
  },
  {
   "cell_type": "code",
   "execution_count": 37,
   "id": "2ad54e18",
   "metadata": {},
   "outputs": [
    {
     "name": "stdout",
     "output_type": "stream",
     "text": [
      "* * * * * * \n",
      " * * * * * \n",
      "  * * * * \n",
      "   * * * \n",
      "    * * \n",
      "     * \n"
     ]
    }
   ],
   "source": [
    "#r\n",
    "#       * * * * * * \n",
    "#        * * * * * \n",
    "#         * * * * \n",
    "#          * * * \n",
    "#           * * \n",
    "#            * \n",
    "\n",
    "for x in range(0,6):\n",
    "    print(\" \"*x,end=\"\")\n",
    "    for y in range(6,x,-1):\n",
    "        print(\"*\",end=\" \")\n",
    "    print()"
   ]
  },
  {
   "cell_type": "code",
   "execution_count": 35,
   "id": "68e31233",
   "metadata": {},
   "outputs": [
    {
     "name": "stdout",
     "output_type": "stream",
     "text": [
      "*****\n",
      " ****\n",
      "  ***\n",
      "   **\n",
      "    *\n"
     ]
    }
   ],
   "source": [
    "#s\n",
    "#*****\n",
    "# ****\n",
    "#  ***\n",
    "#   **\n",
    "#    *\n",
    "\n",
    "for x in range(0,5):\n",
    "    print(\" \"*x,end=\"\")\n",
    "    for y in range(5,x,-1):\n",
    "        print(\"*\",end=\"\")\n",
    "    print()"
   ]
  },
  {
   "cell_type": "code",
   "execution_count": 28,
   "id": "780028b5",
   "metadata": {},
   "outputs": [
    {
     "name": "stdout",
     "output_type": "stream",
     "text": [
      "       * \n",
      "      * * \n",
      "     * * * \n",
      "    * * * * \n",
      "   * * * * * \n",
      "  * * * * * * \n",
      " * * * * * * * \n"
     ]
    }
   ],
   "source": [
    "#t\n",
    "#            *   \n",
    "#           *  *   \n",
    "#          *  *  *   \n",
    "#         *  *  *  *   \n",
    "#        *  *  *  *  *   \n",
    "#       *  *  *  *  *  *   \n",
    "#      *  *  *  *  *  *  *   \n",
    "\n",
    "for x in range(7,0,-1):\n",
    "    print(\" \"*x,end=\"\")\n",
    "    for y in range(8,x,-1):\n",
    "        print(\"*\",end=\" \")\n",
    "    print()\n",
    "\n",
    "    "
   ]
  },
  {
   "cell_type": "code",
   "execution_count": 33,
   "id": "99e1a6bd",
   "metadata": {},
   "outputs": [
    {
     "name": "stdout",
     "output_type": "stream",
     "text": [
      "* \n",
      "* * \n",
      "* * * \n",
      "* * * * \n",
      "* * * * * \n",
      "* * * * * * \n",
      "\n",
      "* * * * * * \n",
      "* * * * * \n",
      "* * * * \n",
      "* * * \n",
      "* * \n",
      "* \n"
     ]
    }
   ],
   "source": [
    "#u\n",
    "#*  \n",
    "#* *  \n",
    "#* * *  \n",
    "#* * * *  \n",
    "#* * * * *  \n",
    "#* * * * * *  \n",
    "# \n",
    "#* * * * * *  \n",
    "#* * * * *  \n",
    "#* * * *  \n",
    "#* * *  \n",
    "#* *  \n",
    "#*\n",
    "\n",
    "for x in range(1,14):\n",
    "    if x<7:\n",
    "        for y in range(1,x+1):\n",
    "            print(\"*\",end=\" \")\n",
    "    elif x==7:\n",
    "        print(end=\"\")\n",
    "    else:\n",
    "        for y in range(14-x,0,-1):\n",
    "            print(\"*\",end=\" \")\n",
    "    print()"
   ]
  },
  {
   "cell_type": "code",
   "execution_count": 23,
   "id": "3bb5aa0a",
   "metadata": {},
   "outputs": [
    {
     "name": "stdout",
     "output_type": "stream",
     "text": [
      "* \n",
      "* * \n",
      "* * * \n",
      "* * * * \n",
      "* * * * * \n",
      "* * * * \n",
      "* * * \n",
      "* * \n",
      "* \n"
     ]
    }
   ],
   "source": [
    "#v\n",
    "#* \n",
    "#* * \n",
    "#* * * \n",
    "#* * * * \n",
    "#* * * * * \n",
    "#* * * * \n",
    "#* * * \n",
    "#* * \n",
    "#* \n",
    "\n",
    "for x in range(1,10):\n",
    "    if x<6:\n",
    "        for y in range(1,x+1):\n",
    "            print(\"*\",end=\" \")\n",
    "    else:\n",
    "        for y in range(10-x,0,-1):\n",
    "            print(\"*\",end=\" \")\n",
    "    print()"
   ]
  },
  {
   "cell_type": "code",
   "execution_count": 12,
   "id": "e2f596d9",
   "metadata": {},
   "outputs": [
    {
     "name": "stdout",
     "output_type": "stream",
     "text": [
      "     *\n",
      "    **\n",
      "   ***\n",
      "  ****\n",
      " *****\n",
      "  ****\n",
      "   ***\n",
      "    **\n",
      "     *\n"
     ]
    }
   ],
   "source": [
    "#w\n",
    "\n",
    "#         * \n",
    "#       * * \n",
    "#     * * * \n",
    "#   * * * * \n",
    "# * * * * * \n",
    "#   * * * * \n",
    "#     * * * \n",
    "#       * * \n",
    "#         * \n",
    "\n",
    "for x in range(5,0,-1):\n",
    "    print(\" \"*x,end=\"\")\n",
    "    for y in range(6,x,-1):\n",
    "        print(\"*\",end=\"\")\n",
    "    print()\n",
    "for x in range (1,5):\n",
    "    print(\" \"*x,end=\" \")\n",
    "    for y in range(4,x-1,-1):\n",
    "        print(\"*\",end=\"\")\n",
    "    print()"
   ]
  },
  {
   "cell_type": "code",
   "execution_count": 9,
   "id": "77785e03",
   "metadata": {},
   "outputs": [
    {
     "name": "stdout",
     "output_type": "stream",
     "text": [
      "* * * * * \n",
      " * * * * \n",
      "  * * * \n",
      "   * * \n",
      "    * \n",
      "    * \n",
      "   * * \n",
      "  * * * \n",
      " * * * * \n",
      "* * * * * \n"
     ]
    }
   ],
   "source": [
    "#x\n",
    "# * * * * * \n",
    "#  * * * * \n",
    "#   * * * \n",
    "#    * * \n",
    "#     * \n",
    "#     * \n",
    "#    * * \n",
    "#   * * * \n",
    "#  * * * * \n",
    "# * * * * * \n",
    "\n",
    "for x in range(0,5):\n",
    "    print(\" \"*x,end=\"\")\n",
    "    for y in range(5,x,-1):\n",
    "        print(\"*\",end=\" \")\n",
    "    print()\n",
    "a=2\n",
    "for x in range(4,-1,-1):\n",
    "    print(\" \"*x,end=\"\")\n",
    "    for y in range(1,a):\n",
    "        print(\"*\",end=\" \")\n",
    "    a+=1\n",
    "    print()"
   ]
  },
  {
   "cell_type": "code",
   "execution_count": 4,
   "id": "5b949898",
   "metadata": {},
   "outputs": [
    {
     "name": "stdout",
     "output_type": "stream",
     "text": [
      "      * \n",
      "     * * \n",
      "    * * * \n",
      "   * * * * \n",
      "  * * * * * \n",
      " * * * * * * \n",
      "  * * * * * \n",
      "   * * * * \n",
      "    * * * \n",
      "     * * \n",
      "      * \n"
     ]
    }
   ],
   "source": [
    "#y\n",
    "#        * \n",
    "#       * * \n",
    "#      * * * \n",
    "#     * * * * \n",
    "#    * * * * * \n",
    "#   * * * * * * \n",
    "#    * * * * * \n",
    "#     * * * * \n",
    "#      * * * \n",
    "#       * * \n",
    "#        * \n",
    "\n",
    "for x in range(6,0,-1):\n",
    "    print(\" \"*x,end=\"\")\n",
    "    for y in range(7,x,-1):\n",
    "        print(\"*\",end=\" \")\n",
    "    print()\n",
    "for x in range (1,6):\n",
    "    print(\" \"*x,end=\" \")\n",
    "    for y in range(5,x-1,-1):\n",
    "        print(\"*\",end=\" \")\n",
    "    print()\n",
    "    "
   ]
  },
  {
   "cell_type": "code",
   "execution_count": 13,
   "id": "eab0fb9c",
   "metadata": {},
   "outputs": [],
   "source": [
    "#z\n",
    "#     *\n",
    "#    * *\n",
    "#   *   *\n",
    "#  *     *\n",
    "# *       *\n",
    "#  *     *\n",
    "#   *   *\n",
    "#    * *\n",
    "#     *\n",
    "\n"
   ]
  },
  {
   "cell_type": "code",
   "execution_count": null,
   "id": "6f12470d",
   "metadata": {},
   "outputs": [],
   "source": []
  }
 ],
 "metadata": {
  "kernelspec": {
   "display_name": "Python 3 (ipykernel)",
   "language": "python",
   "name": "python3"
  },
  "language_info": {
   "codemirror_mode": {
    "name": "ipython",
    "version": 3
   },
   "file_extension": ".py",
   "mimetype": "text/x-python",
   "name": "python",
   "nbconvert_exporter": "python",
   "pygments_lexer": "ipython3",
   "version": "3.10.9"
  }
 },
 "nbformat": 4,
 "nbformat_minor": 5
}
