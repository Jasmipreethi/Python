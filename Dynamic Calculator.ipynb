{
 "cells": [
  {
   "cell_type": "code",
   "execution_count": 1,
   "id": "81cbdf2d",
   "metadata": {},
   "outputs": [
    {
     "name": "stdout",
     "output_type": "stream",
     "text": [
      "press s/S to start the calculators\n",
      "Enter the first number: 6\n",
      "Enter +,-,*,/,e,% to perform\n",
      "Addition, Subtraction, Multiplication, Division, Exponential value and Remainder+\n",
      "Enter the second number: 8\n",
      "Sum is 14.0\n",
      "Do you want to continue?\n",
      " Press s to continue and n to stopn\n",
      "Thank you\n"
     ]
    }
   ],
   "source": [
    "#Dynamic Calculator:\n",
    "inp=input(\"press s/S to start the calculator\")\n",
    "\n",
    "while inp==\"s\" or inp==\"S\":\n",
    "        \n",
    "        n1=float(input(\"Enter the first number: \"))\n",
    "        op=input(\"Enter +,-,*,/,e,% to perform\\nAddition, Subtraction, Multiplication, Division, Exponential value and Remainder\")\n",
    "        n2=float(input(\"Enter the second number: \"))\n",
    "    \n",
    "        if op==\"+\":\n",
    "            print(\"Sum is \"+str(n1+n2))\n",
    "        elif op==\"-\":\n",
    "            print(\"Difference is \"+str(n1-n2))\n",
    "        elif op==\"*\":\n",
    "            print(\"Product is \"+str(n1*n2))\n",
    "        elif op==\"/\":\n",
    "            print(\"Quotient is \"+str(n1/n2))\n",
    "        elif op==\"e\":\n",
    "            print(\"Exponential value is\"+str(n1**n2))\n",
    "        elif op==\"%\":\n",
    "            print(\"Remainder is \"+str(n1%n2))\n",
    "        else:\n",
    "            print(\"Wrong input. Please try again\")\n",
    "            break\n",
    "        \n",
    "        inp=input(\"Do you want to continue?\\n Press s to continue and n to stop\")\n",
    "    \n",
    "        if inp==\"s\" or inp==\"S\":\n",
    "            continue\n",
    "        else:\n",
    "            print(\"Thank you\")\n",
    "            break\n"
   ]
  },
  {
   "cell_type": "code",
   "execution_count": null,
   "id": "04f3a18c",
   "metadata": {},
   "outputs": [],
   "source": []
  }
 ],
 "metadata": {
  "kernelspec": {
   "display_name": "Python 3 (ipykernel)",
   "language": "python",
   "name": "python3"
  },
  "language_info": {
   "codemirror_mode": {
    "name": "ipython",
    "version": 3
   },
   "file_extension": ".py",
   "mimetype": "text/x-python",
   "name": "python",
   "nbconvert_exporter": "python",
   "pygments_lexer": "ipython3",
   "version": "3.10.9"
  }
 },
 "nbformat": 4,
 "nbformat_minor": 5
}
