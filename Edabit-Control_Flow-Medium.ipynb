{
 "cells": [
  {
   "cell_type": "code",
   "execution_count": 3,
   "id": "73249022",
   "metadata": {},
   "outputs": [],
   "source": [
    "#1 Create a function that performs an even-odd transform to a list, n times. Each even-odd transformation:\n",
    "#Adds two (+2) to each odd integer.\n",
    "#Subtracts two (-2) from each even integer.\n",
    "\n",
    "def even_odd_transform(lst,r):\n",
    "    for x in range(r):\n",
    "        for y in range(len(lst)):\n",
    "            if lst[y]%2==0:\n",
    "                lst[y]-=2\n",
    "            else:\n",
    "                lst[y]+=2\n",
    "    return lst"
   ]
  },
  {
   "cell_type": "code",
   "execution_count": 4,
   "id": "04c6f0cf",
   "metadata": {},
   "outputs": [
    {
     "data": {
      "text/plain": [
       "[9, -2, 15]"
      ]
     },
     "execution_count": 4,
     "metadata": {},
     "output_type": "execute_result"
    }
   ],
   "source": [
    "even_odd_transform([3, 4, 9], 3)"
   ]
  },
  {
   "cell_type": "code",
   "execution_count": 5,
   "id": "d80889cc",
   "metadata": {},
   "outputs": [
    {
     "data": {
      "text/plain": [
       "[-20, -20, -20]"
      ]
     },
     "execution_count": 5,
     "metadata": {},
     "output_type": "execute_result"
    }
   ],
   "source": [
    "even_odd_transform([0, 0, 0], 10)"
   ]
  },
  {
   "cell_type": "code",
   "execution_count": 6,
   "id": "fedc1ec1",
   "metadata": {},
   "outputs": [
    {
     "data": {
      "text/plain": [
       "[3, 0, 5]"
      ]
     },
     "execution_count": 6,
     "metadata": {},
     "output_type": "execute_result"
    }
   ],
   "source": [
    "even_odd_transform([1, 2, 3], 1)"
   ]
  },
  {
   "cell_type": "code",
   "execution_count": 1,
   "id": "4eb9dea7",
   "metadata": {},
   "outputs": [],
   "source": [
    "#2 A Collatz sequence is generated like this. Start with a positive number. If it's even, halve it. If it's odd, \n",
    "#multiply it by three and add one. Repeat the process with the resulting number. The Collatz Conjecture is that \n",
    "#every sequence eventually reaches 1 (continuing past 1 just results in an endless repeat of the sequence 4, 2, 1).\n",
    "#The length of the sequence from starting number to 1 varies widely.\n",
    "#Create a function that takes a number as an argument and returns a tuple of two elements — the number of steps in\n",
    "#the Collatz sequence of the number, and the highest number reached.\n",
    "\n",
    "def collatz(n):\n",
    "    l=[n]\n",
    "    while n>1:\n",
    "        if n%2==0:\n",
    "            n//=2\n",
    "        else:\n",
    "            n=(n*3)+1\n",
    "        l.append(n)\n",
    "    return (len(l),max(l))"
   ]
  },
  {
   "cell_type": "code",
   "execution_count": 4,
   "id": "dc35f814",
   "metadata": {},
   "outputs": [
    {
     "data": {
      "text/plain": [
       "(8, 16)"
      ]
     },
     "execution_count": 4,
     "metadata": {},
     "output_type": "execute_result"
    }
   ],
   "source": [
    "collatz(3)"
   ]
  },
  {
   "cell_type": "code",
   "execution_count": 5,
   "id": "5887552a",
   "metadata": {},
   "outputs": [
    {
     "data": {
      "text/plain": [
       "(17, 52)"
      ]
     },
     "execution_count": 5,
     "metadata": {},
     "output_type": "execute_result"
    }
   ],
   "source": [
    "collatz(7) "
   ]
  },
  {
   "cell_type": "code",
   "execution_count": 6,
   "id": "d79aec87",
   "metadata": {},
   "outputs": [
    {
     "data": {
      "text/plain": [
       "(4, 8)"
      ]
     },
     "execution_count": 6,
     "metadata": {},
     "output_type": "execute_result"
    }
   ],
   "source": [
    "collatz(8)"
   ]
  },
  {
   "cell_type": "code",
   "execution_count": 14,
   "id": "32db34ac",
   "metadata": {},
   "outputs": [],
   "source": [
    "#3 In chess, queens can move any number of squares horizontally, vertically or diagonally.Given the location of \n",
    "#your queen and your opponents' queen, determine whether or not you're able to capture your opponent's queen. \n",
    "#Your location and your opponents' location are the first and second elements of the list, respectively.\n",
    "\n",
    "def can_capture(l):\n",
    "    if l[0][0]==l[1][0] or l[0][1]==l[1][1] or (abs(ord(l[0][1])-ord(l[1][1]))==abs(ord(l[0][0])-ord(l[1][0]))) :\n",
    "        return True\n",
    "    else:\n",
    "        return False"
   ]
  },
  {
   "cell_type": "code",
   "execution_count": 15,
   "id": "44f9cdc1",
   "metadata": {},
   "outputs": [
    {
     "data": {
      "text/plain": [
       "True"
      ]
     },
     "execution_count": 15,
     "metadata": {},
     "output_type": "execute_result"
    }
   ],
   "source": [
    "can_capture([\"A1\", \"H8\"])"
   ]
  },
  {
   "cell_type": "code",
   "execution_count": 16,
   "id": "f0cfde4e",
   "metadata": {},
   "outputs": [
    {
     "data": {
      "text/plain": [
       "False"
      ]
     },
     "execution_count": 16,
     "metadata": {},
     "output_type": "execute_result"
    }
   ],
   "source": [
    "can_capture([\"A1\", \"C2\"])"
   ]
  },
  {
   "cell_type": "code",
   "execution_count": 17,
   "id": "b19da39d",
   "metadata": {},
   "outputs": [
    {
     "data": {
      "text/plain": [
       "True"
      ]
     },
     "execution_count": 17,
     "metadata": {},
     "output_type": "execute_result"
    }
   ],
   "source": [
    "can_capture([\"G3\", \"E5\"])"
   ]
  },
  {
   "cell_type": "code",
   "execution_count": 5,
   "id": "246d4864",
   "metadata": {},
   "outputs": [],
   "source": [
    "#4 Suppose you are directionally challenged, and get lost easily. As a result, sometimes you walk in circles or \n",
    "#make U-turns. You might take a sub-optimal route. Create a function that returns the difference in length between \n",
    "#your path and the optimal path. Both paths reach the same destination.\n",
    "#You start at (0,0) and reach your destination by the end of the input list.\n",
    "#A demonstration:\n",
    "#Your route: [\"N\", \"S\", \"E\", \"W\", \"E\", \"E\", \"E\", \"N\"]  // 8\n",
    "#Optimal route: [\"E\", \"E\", \"E\", \"N\"] (or [\"N\", \"E\", \"E\", \"E\"], etc.) // 4\n",
    "# Difference in length: 8 - 4 = 4\n",
    "# Explanation: Your \"S\" cancels out your \"N\" and your \"W\" cancels out your \"E\" leaving you back at (0,0)\n",
    "\n",
    "def route_diff(lst):\n",
    "    l=lst.copy()\n",
    "    d={\"N\":\"S\",\"S\":\"N\",\"E\":\"W\",\"W\":\"E\"}\n",
    "    for x in lst:\n",
    "        if x in d:\n",
    "            if d[x] in lst:\n",
    "                lst.remove(x)\n",
    "                lst.remove(d[x])\n",
    "            else:\n",
    "                pass\n",
    "        else:\n",
    "            pass\n",
    "    return len(l)-len(lst)"
   ]
  },
  {
   "cell_type": "code",
   "execution_count": 6,
   "id": "829d198e",
   "metadata": {},
   "outputs": [
    {
     "data": {
      "text/plain": [
       "4"
      ]
     },
     "execution_count": 6,
     "metadata": {},
     "output_type": "execute_result"
    }
   ],
   "source": [
    "route_diff([\"N\", \"S\", \"E\", \"W\", \"E\", \"E\", \"E\", \"N\"])"
   ]
  },
  {
   "cell_type": "code",
   "execution_count": 7,
   "id": "9257617e",
   "metadata": {},
   "outputs": [
    {
     "data": {
      "text/plain": [
       "4"
      ]
     },
     "execution_count": 7,
     "metadata": {},
     "output_type": "execute_result"
    }
   ],
   "source": [
    "route_diff([\"N\", \"E\", \"S\", \"W\"])"
   ]
  },
  {
   "cell_type": "code",
   "execution_count": 8,
   "id": "ce6b7c01",
   "metadata": {},
   "outputs": [
    {
     "data": {
      "text/plain": [
       "0"
      ]
     },
     "execution_count": 8,
     "metadata": {},
     "output_type": "execute_result"
    }
   ],
   "source": [
    "route_diff([\"N\", \"N\", \"N\", \"E\", \"N\", \"E\"])"
   ]
  },
  {
   "cell_type": "code",
   "execution_count": 9,
   "id": "efef09fb",
   "metadata": {},
   "outputs": [
    {
     "data": {
      "text/plain": [
       "6"
      ]
     },
     "execution_count": 9,
     "metadata": {},
     "output_type": "execute_result"
    }
   ],
   "source": [
    "route_diff([\"N\", \"S\", \"N\", \"S\", \"E\", \"W\", \"E\", \"E\"]) "
   ]
  },
  {
   "cell_type": "code",
   "execution_count": 27,
   "id": "5082b3b4",
   "metadata": {},
   "outputs": [],
   "source": [
    "#5 Create a function that converts Celsius to Fahrenheit and vice versa.\n",
    "\n",
    "def convert(temp):\n",
    "    if temp[-1]==\"F\":\n",
    "        return str(round((int(temp[:2])-32)*(5/9)))+\"*C\"\n",
    "    elif temp[-1]==\"C\":\n",
    "        return str(round((int(temp[:2]))*1.8)+32)+\"*F\"\n",
    "    else:\n",
    "        return \"Error\""
   ]
  },
  {
   "cell_type": "code",
   "execution_count": 28,
   "id": "25581b48",
   "metadata": {},
   "outputs": [
    {
     "data": {
      "text/plain": [
       "'95*F'"
      ]
     },
     "execution_count": 28,
     "metadata": {},
     "output_type": "execute_result"
    }
   ],
   "source": [
    "convert(\"35*C\")"
   ]
  },
  {
   "cell_type": "code",
   "execution_count": 29,
   "id": "548e3805",
   "metadata": {},
   "outputs": [
    {
     "data": {
      "text/plain": [
       "'-7*C'"
      ]
     },
     "execution_count": 29,
     "metadata": {},
     "output_type": "execute_result"
    }
   ],
   "source": [
    "convert(\"19*F\") "
   ]
  },
  {
   "cell_type": "code",
   "execution_count": 30,
   "id": "3aa25a34",
   "metadata": {},
   "outputs": [
    {
     "data": {
      "text/plain": [
       "'Error'"
      ]
     },
     "execution_count": 30,
     "metadata": {},
     "output_type": "execute_result"
    }
   ],
   "source": [
    "convert(\"33\")"
   ]
  },
  {
   "cell_type": "code",
   "execution_count": 34,
   "id": "c47cf4a4",
   "metadata": {},
   "outputs": [],
   "source": [
    "#6 Create a function that takes an integer and returns it as an ordinal number. An Ordinal \n",
    "#Number is a number that tells the position of something in a list, such as 1st, 2nd, 3rd, \n",
    "#4th, 5th, etc.\n",
    "\n",
    "def return_end_of_number(x):\n",
    "    if (x%100>=11 and x%100<21) or (x%100)%10==0:\n",
    "        return str(x)+\"-TH\"\n",
    "    else:\n",
    "        if x%10==1:\n",
    "            return str(x)+\"-ST\"\n",
    "        elif x%10==2:\n",
    "            return str(x)+\"-ND\"\n",
    "        elif x%10==3:\n",
    "            return str(x)+\"-RD\"\n",
    "        else:\n",
    "            return str(x)+\"-TH\""
   ]
  },
  {
   "cell_type": "code",
   "execution_count": 35,
   "id": "518fbfd3",
   "metadata": {},
   "outputs": [
    {
     "data": {
      "text/plain": [
       "'553-RD'"
      ]
     },
     "execution_count": 35,
     "metadata": {},
     "output_type": "execute_result"
    }
   ],
   "source": [
    "return_end_of_number(553)"
   ]
  },
  {
   "cell_type": "code",
   "execution_count": 36,
   "id": "19070f26",
   "metadata": {},
   "outputs": [
    {
     "data": {
      "text/plain": [
       "'560-TH'"
      ]
     },
     "execution_count": 36,
     "metadata": {},
     "output_type": "execute_result"
    }
   ],
   "source": [
    "return_end_of_number(560)"
   ]
  },
  {
   "cell_type": "code",
   "execution_count": 37,
   "id": "ce79b858",
   "metadata": {},
   "outputs": [
    {
     "data": {
      "text/plain": [
       "'34-TH'"
      ]
     },
     "execution_count": 37,
     "metadata": {},
     "output_type": "execute_result"
    }
   ],
   "source": [
    "return_end_of_number(34)"
   ]
  },
  {
   "cell_type": "code",
   "execution_count": 38,
   "id": "9cd6eac1",
   "metadata": {},
   "outputs": [
    {
     "data": {
      "text/plain": [
       "'1231-ST'"
      ]
     },
     "execution_count": 38,
     "metadata": {},
     "output_type": "execute_result"
    }
   ],
   "source": [
    "return_end_of_number(1231)"
   ]
  },
  {
   "cell_type": "code",
   "execution_count": 39,
   "id": "950ea4f2",
   "metadata": {},
   "outputs": [
    {
     "data": {
      "text/plain": [
       "'22-ND'"
      ]
     },
     "execution_count": 39,
     "metadata": {},
     "output_type": "execute_result"
    }
   ],
   "source": [
    "return_end_of_number(22)"
   ]
  },
  {
   "cell_type": "code",
   "execution_count": 40,
   "id": "f67883ee",
   "metadata": {},
   "outputs": [
    {
     "data": {
      "text/plain": [
       "'412-TH'"
      ]
     },
     "execution_count": 40,
     "metadata": {},
     "output_type": "execute_result"
    }
   ],
   "source": [
    "return_end_of_number(412) "
   ]
  },
  {
   "cell_type": "code",
   "execution_count": 58,
   "id": "ba0b5a56",
   "metadata": {},
   "outputs": [],
   "source": [
    "#7 Create a function to perform basic arithmetic operations that includes addition, \n",
    "#subtraction, multiplication and division on a string number (e.g. \"12 + 24\" or \"23 - 21\" or\n",
    "#\"12 // 12\" or \"12 * 21\").\n",
    "#Here, we have 1 followed by a space, operator followed by another space and 2. For the \n",
    "#challenge, we are going to have only two numbers between 1 valid operator. The return \n",
    "#value should be a number.\n",
    "#eval() is not allowed. In case of division, whenever the second number equals \"0\" return -1.\n",
    "\n",
    "def arithmetic_operation(s):\n",
    "    i=s.find(\" \")\n",
    "    if s[i+1]==\"+\":\n",
    "        return int(s[:i])+int(s[i+3:])\n",
    "    elif s[i+1]==\"-\":\n",
    "        return int(s[:i])-int(s[i+3:])\n",
    "    elif s[i+1]==\"*\":\n",
    "        return int(s[:i])*int(s[i+3:])\n",
    "    elif s[i+1:i+3]==\"//\":\n",
    "        if s[i+4]==\"0\":\n",
    "            return -1\n",
    "        else:\n",
    "            return int(s[:i])//int(s[i+4:])\n",
    "    else:\n",
    "        pass"
   ]
  },
  {
   "cell_type": "code",
   "execution_count": 59,
   "id": "185461e2",
   "metadata": {},
   "outputs": [
    {
     "data": {
      "text/plain": [
       "24"
      ]
     },
     "execution_count": 59,
     "metadata": {},
     "output_type": "execute_result"
    }
   ],
   "source": [
    "arithmetic_operation(\"12 + 12\")"
   ]
  },
  {
   "cell_type": "code",
   "execution_count": 60,
   "id": "4b70a42a",
   "metadata": {},
   "outputs": [
    {
     "data": {
      "text/plain": [
       "0"
      ]
     },
     "execution_count": 60,
     "metadata": {},
     "output_type": "execute_result"
    }
   ],
   "source": [
    "arithmetic_operation(\"12 - 12\")"
   ]
  },
  {
   "cell_type": "code",
   "execution_count": 61,
   "id": "49e143d9",
   "metadata": {},
   "outputs": [
    {
     "data": {
      "text/plain": [
       "144"
      ]
     },
     "execution_count": 61,
     "metadata": {},
     "output_type": "execute_result"
    }
   ],
   "source": [
    "arithmetic_operation(\"12 * 12\")"
   ]
  },
  {
   "cell_type": "code",
   "execution_count": 62,
   "id": "564fbed5",
   "metadata": {},
   "outputs": [
    {
     "data": {
      "text/plain": [
       "-1"
      ]
     },
     "execution_count": 62,
     "metadata": {},
     "output_type": "execute_result"
    }
   ],
   "source": [
    "arithmetic_operation(\"12 // 0\")"
   ]
  },
  {
   "cell_type": "code",
   "execution_count": null,
   "id": "a3e818a2",
   "metadata": {},
   "outputs": [],
   "source": []
  }
 ],
 "metadata": {
  "kernelspec": {
   "display_name": "Python 3 (ipykernel)",
   "language": "python",
   "name": "python3"
  },
  "language_info": {
   "codemirror_mode": {
    "name": "ipython",
    "version": 3
   },
   "file_extension": ".py",
   "mimetype": "text/x-python",
   "name": "python",
   "nbconvert_exporter": "python",
   "pygments_lexer": "ipython3",
   "version": "3.10.9"
  }
 },
 "nbformat": 4,
 "nbformat_minor": 5
}
