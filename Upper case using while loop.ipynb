{
 "cells": [
  {
   "cell_type": "code",
   "execution_count": null,
   "id": "399975c7",
   "metadata": {},
   "outputs": [],
   "source": [
    "x=0\n",
    "while x<5:\n",
    "    if x==0:\n",
    "        print(\"  *  \")\n",
    "    elif x==1 or x==3 or x==4:\n",
    "        print(\"*   *\")\n",
    "    else:\n",
    "        print(\"* * *\")\n",
    "    x+=1"
   ]
  },
  {
   "cell_type": "code",
   "execution_count": 2,
   "id": "6974f39f",
   "metadata": {},
   "outputs": [
    {
     "name": "stdout",
     "output_type": "stream",
     "text": [
      "* *  \n",
      "*   *\n",
      "* *  \n",
      "*   *\n",
      "* *  \n"
     ]
    }
   ],
   "source": [
    "x=0\n",
    "while x<5:\n",
    "    if x==0 or x==2 or x==4:\n",
    "        print(\"* *  \")\n",
    "    else:\n",
    "        print(\"*   *\")\n",
    "    x+=1\n",
    "    "
   ]
  },
  {
   "cell_type": "code",
   "execution_count": 4,
   "id": "69dc898c",
   "metadata": {},
   "outputs": [
    {
     "name": "stdout",
     "output_type": "stream",
     "text": [
      "  * *\n",
      "*\n",
      "*\n",
      "*\n",
      "  * *\n"
     ]
    }
   ],
   "source": [
    "x=5\n",
    "while x>0:\n",
    "    if x==5 or x==1:\n",
    "        print(\"  * *\")\n",
    "    \n",
    "    else:\n",
    "        print(\"*\")\n",
    "    x-=1"
   ]
  },
  {
   "cell_type": "code",
   "execution_count": 5,
   "id": "6a9e39c6",
   "metadata": {},
   "outputs": [
    {
     "name": "stdout",
     "output_type": "stream",
     "text": [
      "* *  \n",
      "*   *\n",
      "*   *\n",
      "*   *\n",
      "* *  \n"
     ]
    }
   ],
   "source": [
    "x=5\n",
    "while x>0:\n",
    "    if x==5 or x==1:\n",
    "        print(\"* *  \")\n",
    "    else:\n",
    "        print(\"*   *\")\n",
    "    x-=1"
   ]
  },
  {
   "cell_type": "code",
   "execution_count": 6,
   "id": "95088b91",
   "metadata": {},
   "outputs": [
    {
     "name": "stdout",
     "output_type": "stream",
     "text": [
      "* * *\n",
      "*\n",
      "* * *\n",
      "*\n",
      "* * *\n"
     ]
    }
   ],
   "source": [
    "x=5\n",
    "while x>0:\n",
    "    if x==4 or x==2:\n",
    "        print(\"*\")\n",
    "    else:\n",
    "        print(\"* * *\")\n",
    "    x-=1"
   ]
  },
  {
   "cell_type": "code",
   "execution_count": 7,
   "id": "5872febe",
   "metadata": {},
   "outputs": [
    {
     "name": "stdout",
     "output_type": "stream",
     "text": [
      "* * *\n",
      "*\n",
      "* * *\n",
      "*\n",
      "*\n"
     ]
    }
   ],
   "source": [
    "x=5\n",
    "while x>0:\n",
    "    if x==5 or x==3:\n",
    "        print(\"* * *\")\n",
    "    else:\n",
    "        print(\"*\")\n",
    "    x-=1"
   ]
  },
  {
   "cell_type": "code",
   "execution_count": 13,
   "id": "8d594a4d",
   "metadata": {},
   "outputs": [
    {
     "name": "stdout",
     "output_type": "stream",
     "text": [
      "*  * *\n",
      "*\n",
      "*  * *\n",
      "*    *\n",
      "*  * *\n"
     ]
    }
   ],
   "source": [
    "x=5\n",
    "while x>0:\n",
    "    if x==5 or x== 3 or x==1:\n",
    "        print(\"*  * *\")\n",
    "    elif x==2:\n",
    "        print(\"*    *\")\n",
    "    else:\n",
    "        print(\"*\")\n",
    "    x-=1\n",
    "    "
   ]
  },
  {
   "cell_type": "code",
   "execution_count": 10,
   "id": "bf4fd3b2",
   "metadata": {},
   "outputs": [
    {
     "name": "stdout",
     "output_type": "stream",
     "text": [
      "*     *\n",
      "*     *\n",
      "* * * *\n",
      "*     *\n",
      "*     *\n"
     ]
    }
   ],
   "source": [
    "x=5\n",
    "while x>0:\n",
    "    if x==3:\n",
    "        print(\"* * * *\")\n",
    "    else:\n",
    "        print(\"*     *\")\n",
    "    x-=1"
   ]
  },
  {
   "cell_type": "code",
   "execution_count": 14,
   "id": "a1e95b35",
   "metadata": {},
   "outputs": [
    {
     "name": "stdout",
     "output_type": "stream",
     "text": [
      "* * *\n",
      "  *\n",
      "  *\n",
      "  *\n",
      "* * *\n"
     ]
    }
   ],
   "source": [
    "x=5\n",
    "while x>0:\n",
    "    if x==5 or x==1:\n",
    "        print(\"* * *\")\n",
    "    else:\n",
    "        print(\"  *\")\n",
    "    x-=1"
   ]
  },
  {
   "cell_type": "code",
   "execution_count": 1,
   "id": "42971240",
   "metadata": {},
   "outputs": [
    {
     "name": "stdout",
     "output_type": "stream",
     "text": [
      "* * * *\n",
      "   *  \n",
      "   *  \n",
      "*  *  \n",
      " * \n"
     ]
    }
   ],
   "source": [
    "x=5\n",
    "while x>0:\n",
    "    if x==5:\n",
    "        print(\"* * * *\")\n",
    "    elif x==4 or x==3:\n",
    "        print(\"   *  \")\n",
    "    elif x==2:\n",
    "        print(\"*  *  \")\n",
    "    else:\n",
    "        print(\" * \")\n",
    "    x-=1"
   ]
  },
  {
   "cell_type": "code",
   "execution_count": 3,
   "id": "e4bc0266",
   "metadata": {},
   "outputs": [
    {
     "name": "stdout",
     "output_type": "stream",
     "text": [
      "*    *\n",
      "*  *\n",
      "* *\n",
      "*  *\n",
      "*    *\n"
     ]
    }
   ],
   "source": [
    "x=5\n",
    "while x>0:\n",
    "    if x==5 or x==1:\n",
    "        print(\"*    *\")\n",
    "    elif x==3:\n",
    "        print(\"* *\")\n",
    "    else:\n",
    "        print(\"*  *\")\n",
    "    x-=1"
   ]
  },
  {
   "cell_type": "code",
   "execution_count": 4,
   "id": "4e4349f7",
   "metadata": {},
   "outputs": [
    {
     "name": "stdout",
     "output_type": "stream",
     "text": [
      "*\n",
      "*\n",
      "*\n",
      "*\n",
      "* * *\n"
     ]
    }
   ],
   "source": [
    "x=5 \n",
    "while x>0:\n",
    "    if x==1:\n",
    "        print(\"* * *\")\n",
    "    else:\n",
    "        print(\"*\")\n",
    "    x-=1"
   ]
  },
  {
   "cell_type": "code",
   "execution_count": 2,
   "id": "cb97cc7b",
   "metadata": {},
   "outputs": [
    {
     "name": "stdout",
     "output_type": "stream",
     "text": [
      "*     *\n",
      "* * * *\n",
      "*  *  *\n",
      "*     *\n"
     ]
    }
   ],
   "source": [
    "x=1 \n",
    "while x<5:\n",
    "    if x==1:\n",
    "        print(\"*     *\")\n",
    "    elif x==2:\n",
    "        print(\"* * * *\")\n",
    "    elif x==3:\n",
    "        print(\"*  *  *\")\n",
    "    else:\n",
    "        print(\"*     *\")\n",
    "    x+=1\n"
   ]
  },
  {
   "cell_type": "code",
   "execution_count": 4,
   "id": "28e9ddcf",
   "metadata": {},
   "outputs": [
    {
     "name": "stdout",
     "output_type": "stream",
     "text": [
      "*       *\n",
      "* *     *\n",
      "*   *   *\n",
      "*     * *\n",
      "*       *\n"
     ]
    }
   ],
   "source": [
    "x=5\n",
    "while x>0:\n",
    "    if x==4:\n",
    "        print(\"* *     *\")\n",
    "    elif x==3:\n",
    "        print(\"*   *   *\")\n",
    "    elif x==2:\n",
    "        print(\"*     * *\")\n",
    "    else:\n",
    "        print(\"*       *\")\n",
    "    x-=1"
   ]
  },
  {
   "cell_type": "code",
   "execution_count": 6,
   "id": "d5377c83",
   "metadata": {},
   "outputs": [
    {
     "name": "stdout",
     "output_type": "stream",
     "text": [
      "  * *  \n",
      "*     *\n",
      "*     *\n",
      "*     *\n",
      "  * *  \n"
     ]
    }
   ],
   "source": [
    "x=5\n",
    "while x>0:\n",
    "    if x==1 or x==5:\n",
    "        print(\"  * *  \")\n",
    "    else:\n",
    "        print(\"*     *\")\n",
    "    x-=1"
   ]
  },
  {
   "cell_type": "code",
   "execution_count": 7,
   "id": "c8aa8645",
   "metadata": {},
   "outputs": [
    {
     "name": "stdout",
     "output_type": "stream",
     "text": [
      "* *  \n",
      "*   *\n",
      "* *  \n",
      "*\n",
      "*\n"
     ]
    }
   ],
   "source": [
    "x=5\n",
    "while x>0:\n",
    "    if x==5 or x==3:\n",
    "        print(\"* *  \")\n",
    "    elif x==4:\n",
    "        print(\"*   *\")\n",
    "    else:\n",
    "        print(\"*\")\n",
    "    x-=1"
   ]
  },
  {
   "cell_type": "code",
   "execution_count": 9,
   "id": "0d590282",
   "metadata": {},
   "outputs": [
    {
     "name": "stdout",
     "output_type": "stream",
     "text": [
      "  * *  \n",
      "*     *\n",
      "*     *\n",
      "*   \\ *\n",
      "  * *\\ \n"
     ]
    }
   ],
   "source": [
    "x=5\n",
    "while x>0:\n",
    "    if x==5:\n",
    "        print(\"  * *  \")\n",
    "    elif x==2:\n",
    "        print(\"*   \\ *\")\n",
    "    elif x==1:\n",
    "        print(\"  * *\\ \")\n",
    "    else:\n",
    "        print(\"*     *\")\n",
    "    x-=1"
   ]
  },
  {
   "cell_type": "code",
   "execution_count": 1,
   "id": "1e4e3950",
   "metadata": {},
   "outputs": [
    {
     "name": "stdout",
     "output_type": "stream",
     "text": [
      "* *  \n",
      "*   *\n",
      "* *  \n",
      "*   *\n",
      "*   *\n"
     ]
    }
   ],
   "source": [
    "x=5\n",
    "while x>0:\n",
    "    if x==5 or x==3:\n",
    "        print(\"* *  \")\n",
    "    else:\n",
    "        print(\"*   *\")\n",
    "    x-=1"
   ]
  },
  {
   "cell_type": "code",
   "execution_count": 6,
   "id": "07a2e1b7",
   "metadata": {},
   "outputs": [
    {
     "name": "stdout",
     "output_type": "stream",
     "text": [
      " * * *\n",
      "*     \n",
      " * * *\n",
      "      *\n",
      " * * *\n"
     ]
    }
   ],
   "source": [
    "x=5 \n",
    "while x>0:\n",
    "    if x==4:\n",
    "        print(\"*     \")\n",
    "    elif x==2:\n",
    "        print(\"      *\")\n",
    "    else:\n",
    "        print(\" * * *\")\n",
    "    x-=1"
   ]
  },
  {
   "cell_type": "code",
   "execution_count": 7,
   "id": "c9b4f592",
   "metadata": {},
   "outputs": [
    {
     "name": "stdout",
     "output_type": "stream",
     "text": [
      "* * *\n",
      "  *  \n",
      "  *  \n",
      "  *  \n",
      "  *  \n"
     ]
    }
   ],
   "source": [
    "x=5\n",
    "while x>0:\n",
    "    if x==5:\n",
    "        print(\"* * *\")\n",
    "    else:\n",
    "        print(\"  *  \")\n",
    "    x-=1"
   ]
  },
  {
   "cell_type": "code",
   "execution_count": 8,
   "id": "5f879396",
   "metadata": {},
   "outputs": [
    {
     "name": "stdout",
     "output_type": "stream",
     "text": [
      "*   *\n",
      "*   *\n",
      "*   *\n",
      "*   *\n",
      "* * *\n"
     ]
    }
   ],
   "source": [
    "x=5\n",
    "while x>0:\n",
    "    if x==1:\n",
    "        print(\"* * *\")\n",
    "    else:\n",
    "        print(\"*   *\")\n",
    "    x-=1"
   ]
  },
  {
   "cell_type": "code",
   "execution_count": 9,
   "id": "ac5334f5",
   "metadata": {},
   "outputs": [
    {
     "name": "stdout",
     "output_type": "stream",
     "text": [
      "*   *\n",
      "*   *\n",
      "*   *\n",
      " * * \n",
      "  *  \n"
     ]
    }
   ],
   "source": [
    "x=5\n",
    "while x>0:\n",
    "    if x==1:\n",
    "        print(\"  *  \")\n",
    "    elif x==2:\n",
    "        print(\" * * \")\n",
    "    else:\n",
    "        print(\"*   *\")\n",
    "    x-=1"
   ]
  },
  {
   "cell_type": "code",
   "execution_count": 10,
   "id": "84d51245",
   "metadata": {},
   "outputs": [
    {
     "name": "stdout",
     "output_type": "stream",
     "text": [
      "*     *\n",
      "*     *\n",
      "*  *  *\n",
      "* * * *\n",
      "*     *\n"
     ]
    }
   ],
   "source": [
    "x=5 \n",
    "while x>0:\n",
    "    if x==1:\n",
    "        print(\"*     *\")\n",
    "    elif x==2:\n",
    "        print(\"* * * *\")\n",
    "    elif x==3:\n",
    "        print(\"*  *  *\")\n",
    "    else:\n",
    "        print(\"*     *\")\n",
    "    x-=1\n"
   ]
  },
  {
   "cell_type": "code",
   "execution_count": 1,
   "id": "1b9eea9d",
   "metadata": {},
   "outputs": [
    {
     "name": "stdout",
     "output_type": "stream",
     "text": [
      "*   *\n",
      " * * \n",
      "  *  \n",
      " * * \n",
      "*   *\n"
     ]
    }
   ],
   "source": [
    "x=5 \n",
    "while x>0:\n",
    "    if x==3: \n",
    "        print(\"  *  \")\n",
    "    elif x==4 or x==2:\n",
    "        print(\" * * \")\n",
    "    else:\n",
    "        print(\"*   *\")\n",
    "    x-=1"
   ]
  },
  {
   "cell_type": "code",
   "execution_count": 9,
   "id": "35dc73ab",
   "metadata": {},
   "outputs": [
    {
     "name": "stdout",
     "output_type": "stream",
     "text": [
      " *   *\n",
      "  * *  \n",
      "   *   \n",
      "   *   \n",
      "   *   \n"
     ]
    }
   ],
   "source": [
    "x=5\n",
    "while x>0:\n",
    "    if x==5:\n",
    "        print(\" *   *\")\n",
    "    elif x==4:\n",
    "        print(\"  * *  \")\n",
    "    else:\n",
    "        print(\"   *   \")\n",
    "    x-=1"
   ]
  },
  {
   "cell_type": "code",
   "execution_count": 3,
   "id": "20d2df31",
   "metadata": {},
   "outputs": [
    {
     "name": "stdout",
     "output_type": "stream",
     "text": [
      "* * *\n",
      "   * \n",
      "  *  \n",
      " *   \n",
      "* * *\n"
     ]
    }
   ],
   "source": [
    "x=5\n",
    "while x>0:\n",
    "    if x==4:\n",
    "        print(\"   * \")\n",
    "    elif x==3:\n",
    "        print(\"  *  \")\n",
    "    elif x==2:\n",
    "        print(\" *   \")\n",
    "    else:\n",
    "        print(\"* * *\")\n",
    "    x-=1"
   ]
  }
 ],
 "metadata": {
  "kernelspec": {
   "display_name": "Python 3 (ipykernel)",
   "language": "python",
   "name": "python3"
  },
  "language_info": {
   "codemirror_mode": {
    "name": "ipython",
    "version": 3
   },
   "file_extension": ".py",
   "mimetype": "text/x-python",
   "name": "python",
   "nbconvert_exporter": "python",
   "pygments_lexer": "ipython3",
   "version": "3.10.9"
  }
 },
 "nbformat": 4,
 "nbformat_minor": 5
}
