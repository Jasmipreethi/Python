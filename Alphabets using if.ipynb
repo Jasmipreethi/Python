{
 "cells": [
  {
   "cell_type": "code",
   "execution_count": 1,
   "id": "9c4ad27a",
   "metadata": {},
   "outputs": [
    {
     "name": "stdout",
     "output_type": "stream",
     "text": [
      "  * \n",
      "*   *\n",
      "* * *\n",
      "*   *\n",
      "*   *\n"
     ]
    }
   ],
   "source": [
    "#a\n",
    "x1=1\n",
    "x2=2\n",
    "x3=3\n",
    "x4=4\n",
    "x5=5\n",
    "if x1==1:\n",
    "    print(\"  * \")\n",
    "if x2==2:\n",
    "    print(\"*   *\")\n",
    "if x3==3:\n",
    "    print(\"* * *\")\n",
    "if x4==4:\n",
    "    print(\"*   *\")\n",
    "if x5==5:\n",
    "    print(\"*   *\")\n",
    "    "
   ]
  },
  {
   "cell_type": "code",
   "execution_count": 3,
   "id": "d2028f1c",
   "metadata": {},
   "outputs": [
    {
     "name": "stdout",
     "output_type": "stream",
     "text": [
      "* * \n",
      "*   *\n",
      "* * \n",
      "*   *\n",
      "* * \n"
     ]
    }
   ],
   "source": [
    "#b\n",
    "x1=1\n",
    "x2=2\n",
    "x3=3\n",
    "x4=4\n",
    "x5=5\n",
    "if x1==1:\n",
    "    print(\"* * \")\n",
    "if x2==2:\n",
    "    print(\"*   *\")\n",
    "if x3==3:\n",
    "    print(\"* * \")\n",
    "if x4==4:\n",
    "    print(\"*   *\")\n",
    "if x5==5:\n",
    "    print(\"* * \")"
   ]
  },
  {
   "cell_type": "code",
   "execution_count": 8,
   "id": "bb7172d4",
   "metadata": {},
   "outputs": [
    {
     "name": "stdout",
     "output_type": "stream",
     "text": [
      "  * *\n",
      "*   \n",
      "*   \n",
      "*   \n",
      "  * *\n"
     ]
    }
   ],
   "source": [
    "#c\n",
    "x1=1\n",
    "x2=2\n",
    "x3=3\n",
    "x4=4\n",
    "x5=5\n",
    "if x1==1:\n",
    "    print(\"  * *\")\n",
    "if x2==2:\n",
    "    print(\"*   \")\n",
    "if x3==3:\n",
    "    print(\"*   \")\n",
    "if x4==4:\n",
    "    print(\"*   \")\n",
    "if x5==5:\n",
    "    print(\"  * *\")"
   ]
  },
  {
   "cell_type": "code",
   "execution_count": 10,
   "id": "946425e2",
   "metadata": {},
   "outputs": [
    {
     "name": "stdout",
     "output_type": "stream",
     "text": [
      "* *  \n",
      "*   *\n",
      "*   *\n",
      "*   *\n",
      "* *  \n"
     ]
    }
   ],
   "source": [
    "#d\n",
    "x1=1\n",
    "x2=2\n",
    "x3=3\n",
    "x4=4\n",
    "x5=5\n",
    "if x1==1:\n",
    "    print(\"* *  \")\n",
    "if x2==2:\n",
    "    print(\"*   *\")\n",
    "if x3==3:\n",
    "    print(\"*   *\")\n",
    "if x4==4:\n",
    "    print(\"*   *\")\n",
    "if x5==5:\n",
    "    print(\"* *  \")"
   ]
  },
  {
   "cell_type": "code",
   "execution_count": 12,
   "id": "665a799d",
   "metadata": {},
   "outputs": [
    {
     "name": "stdout",
     "output_type": "stream",
     "text": [
      "* * *\n",
      "*   \n",
      "* * *\n",
      "*   \n",
      "* * *\n"
     ]
    }
   ],
   "source": [
    "#e\n",
    "x1=1\n",
    "x2=2\n",
    "x3=3\n",
    "x4=4\n",
    "x5=5\n",
    "if x1==1:\n",
    "    print(\"* * *\")\n",
    "if x2==2:\n",
    "    print(\"*   \")\n",
    "if x3==3:\n",
    "    print(\"* * *\")\n",
    "if x4==4:\n",
    "    print(\"*   \")\n",
    "if x5==5:\n",
    "    print(\"* * *\")"
   ]
  },
  {
   "cell_type": "code",
   "execution_count": 13,
   "id": "dc65c64a",
   "metadata": {},
   "outputs": [
    {
     "name": "stdout",
     "output_type": "stream",
     "text": [
      "* * *\n",
      "*   \n",
      "* * *\n",
      "*   \n",
      "*   \n"
     ]
    }
   ],
   "source": [
    "#f\n",
    "x1=1\n",
    "x2=2\n",
    "x3=3\n",
    "x4=4\n",
    "x5=5\n",
    "if x1==1:\n",
    "    print(\"* * *\")\n",
    "if x2==2:\n",
    "    print(\"*   \")\n",
    "if x3==3:\n",
    "    print(\"* * *\")\n",
    "if x4==4:\n",
    "    print(\"*   \")\n",
    "if x5==5:\n",
    "    print(\"*   \")"
   ]
  },
  {
   "cell_type": "code",
   "execution_count": 33,
   "id": "5e652bf6",
   "metadata": {},
   "outputs": [
    {
     "name": "stdout",
     "output_type": "stream",
     "text": [
      "* * * *\n",
      "*    \n",
      "*  *  * * *\n",
      "*     *   *\n",
      "* * * *   *\n"
     ]
    }
   ],
   "source": [
    "#g\n",
    "x1=1\n",
    "x2=2\n",
    "x3=3\n",
    "x4=4\n",
    "x5=5\n",
    "if x1==1:\n",
    "    print(\"* * * *\")\n",
    "if x2==2:\n",
    "    print(\"*    \")\n",
    "if x3==3:\n",
    "    print(\"*  *  * * *\")\n",
    "if x4==4:\n",
    "    print(\"*     *   *\")\n",
    "if x5==5:\n",
    "    print(\"* * * *   *\")"
   ]
  },
  {
   "cell_type": "code",
   "execution_count": 37,
   "id": "6ef09491",
   "metadata": {},
   "outputs": [
    {
     "name": "stdout",
     "output_type": "stream",
     "text": [
      "*     *\n",
      "*     *\n",
      "* * * *\n",
      "*     *\n",
      "*     *\n"
     ]
    }
   ],
   "source": [
    "#h\n",
    "x1=1\n",
    "x2=2\n",
    "x3=3\n",
    "x4=4\n",
    "x5=5\n",
    "if x1==1:\n",
    "    print(\"*     *\")\n",
    "if x2==2:\n",
    "    print(\"*     *\")\n",
    "if x3==3:\n",
    "    print(\"* * * *\")\n",
    "if x4==4:\n",
    "    print(\"*     *\")\n",
    "if x5==5:\n",
    "    print(\"*     *\")"
   ]
  },
  {
   "cell_type": "code",
   "execution_count": 36,
   "id": "1c1ac351",
   "metadata": {},
   "outputs": [
    {
     "name": "stdout",
     "output_type": "stream",
     "text": [
      "* * *\n",
      "  *  \n",
      "  *  \n",
      "  *  \n",
      "* * *\n"
     ]
    }
   ],
   "source": [
    "#i\n",
    "x1=1\n",
    "x2=2\n",
    "x3=3\n",
    "x4=4\n",
    "x5=5\n",
    "if x1==1:\n",
    "    print(\"* * *\")\n",
    "if x2==2:\n",
    "    print(\"  *  \")\n",
    "if x3==3:\n",
    "    print(\"  *  \")\n",
    "if x4==4:\n",
    "    print(\"  *  \")\n",
    "if x5==5:\n",
    "    print(\"* * *\")"
   ]
  },
  {
   "cell_type": "code",
   "execution_count": 46,
   "id": "b9abedaf",
   "metadata": {},
   "outputs": [
    {
     "name": "stdout",
     "output_type": "stream",
     "text": [
      "  * * * *\n",
      "     *  \n",
      "     *  \n",
      " *   *  \n",
      "  * *  \n"
     ]
    }
   ],
   "source": [
    "#j\n",
    "x1=1\n",
    "x2=2\n",
    "x3=3\n",
    "x4=4\n",
    "x5=5\n",
    "if x1==1:\n",
    "    print(\"  * * * *\")\n",
    "if x2==2:\n",
    "    print(\"     *  \")\n",
    "if x3==3:\n",
    "    print(\"     *  \")\n",
    "if x4==4:\n",
    "    print(\" *   *  \")\n",
    "if x5==5:\n",
    "    print(\"  * *  \")"
   ]
  },
  {
   "cell_type": "code",
   "execution_count": 51,
   "id": "ea037cc5",
   "metadata": {},
   "outputs": [
    {
     "name": "stdout",
     "output_type": "stream",
     "text": [
      "*     *\n",
      "*   *  \n",
      "* *    \n",
      "*   *   \n",
      "*     *\n"
     ]
    }
   ],
   "source": [
    "#k\n",
    "x1=1\n",
    "x2=2\n",
    "x3=3\n",
    "x4=4\n",
    "x5=5\n",
    "if x1==1:\n",
    "    print(\"*     *\")\n",
    "if x2==2:\n",
    "    print(\"*   *  \")\n",
    "if x3==3:\n",
    "    print(\"* *    \")\n",
    "if x4==4:\n",
    "    print(\"*   *   \")\n",
    "if x5==5:\n",
    "    print(\"*     *\")"
   ]
  },
  {
   "cell_type": "code",
   "execution_count": 42,
   "id": "48a52a9d",
   "metadata": {},
   "outputs": [
    {
     "name": "stdout",
     "output_type": "stream",
     "text": [
      "*    \n",
      "*    \n",
      "*    \n",
      "*    \n",
      "* * *\n"
     ]
    }
   ],
   "source": [
    "#l\n",
    "x1=1\n",
    "x2=2\n",
    "x3=3\n",
    "x4=4\n",
    "x5=5\n",
    "if x1==1:\n",
    "    print(\"*    \")\n",
    "if x2==2:\n",
    "    print(\"*    \")\n",
    "if x3==3:\n",
    "    print(\"*    \")\n",
    "if x4==4:\n",
    "    print(\"*    \")\n",
    "if x5==5:\n",
    "    print(\"* * *\")"
   ]
  },
  {
   "cell_type": "code",
   "execution_count": 1,
   "id": "764e6cfb",
   "metadata": {},
   "outputs": [
    {
     "name": "stdout",
     "output_type": "stream",
     "text": [
      "*       *\n",
      "* *   * *\n",
      "*   *   *\n",
      "*       *\n",
      "*       *\n"
     ]
    }
   ],
   "source": [
    "#m\n",
    "x1=1\n",
    "x2=2\n",
    "x3=3\n",
    "x4=4\n",
    "x5=5\n",
    "if x1==1:\n",
    "    print(\"*       *\")\n",
    "if x2==2:\n",
    "    print(\"* *   * *\")\n",
    "if x3==3:\n",
    "    print(\"*   *   *\")\n",
    "if x4==4:\n",
    "    print(\"*       *\")\n",
    "if x5==5:\n",
    "    print(\"*       *\")"
   ]
  },
  {
   "cell_type": "code",
   "execution_count": 52,
   "id": "d504c1ca",
   "metadata": {},
   "outputs": [
    {
     "name": "stdout",
     "output_type": "stream",
     "text": [
      "*      *\n",
      "* *    *\n",
      "*  *   *\n",
      "*    * *\n",
      "*      *\n"
     ]
    }
   ],
   "source": [
    "#n\n",
    "x1=1\n",
    "x2=2\n",
    "x3=3\n",
    "x4=4\n",
    "x5=5\n",
    "if x1==1:\n",
    "    print(\"*      *\")\n",
    "if x2==2:\n",
    "    print(\"* *    *\")\n",
    "if x3==3:\n",
    "    print(\"*  *   *\")\n",
    "if x4==4:\n",
    "    print(\"*    * *\")\n",
    "if x5==5:\n",
    "    print(\"*      *\")"
   ]
  },
  {
   "cell_type": "code",
   "execution_count": 55,
   "id": "8a8d04b1",
   "metadata": {},
   "outputs": [
    {
     "name": "stdout",
     "output_type": "stream",
     "text": [
      "  *  \n",
      "*   *\n",
      "*   *\n",
      "*   *\n",
      "  *  \n"
     ]
    }
   ],
   "source": [
    "#o\n",
    "x1=1\n",
    "x2=2\n",
    "x3=3\n",
    "x4=4\n",
    "x5=5\n",
    "if x1==1:\n",
    "    print(\"  *  \")\n",
    "if x2==2:\n",
    "    print(\"*   *\")\n",
    "if x3==3:\n",
    "    print(\"*   *\")\n",
    "if x4==4:\n",
    "    print(\"*   *\")\n",
    "if x5==5:\n",
    "    print(\"  *  \")"
   ]
  },
  {
   "cell_type": "code",
   "execution_count": 48,
   "id": "66926f00",
   "metadata": {},
   "outputs": [
    {
     "name": "stdout",
     "output_type": "stream",
     "text": [
      "* *  \n",
      "*   *\n",
      "* *  \n",
      "*    \n",
      "*    \n"
     ]
    }
   ],
   "source": [
    "#p\n",
    "x1=1\n",
    "x2=2\n",
    "x3=3\n",
    "x4=4\n",
    "x5=5\n",
    "if x1==1:\n",
    "    print(\"* *  \")\n",
    "if x2==2:\n",
    "    print(\"*   *\")\n",
    "if x3==3:\n",
    "    print(\"* *  \")\n",
    "if x4==4:\n",
    "    print(\"*    \")\n",
    "if x5==5:\n",
    "    print(\"*    \")"
   ]
  },
  {
   "cell_type": "code",
   "execution_count": 58,
   "id": "403b45fa",
   "metadata": {},
   "outputs": [
    {
     "name": "stdout",
     "output_type": "stream",
     "text": [
      "  *  \n",
      "*    *\n",
      "*    *\n",
      "*  \\ *\n",
      "   *\\ \n"
     ]
    }
   ],
   "source": [
    "#q\n",
    "x1=1\n",
    "x2=2\n",
    "x3=3\n",
    "x4=4\n",
    "x5=5\n",
    "if x1==1:\n",
    "    print(\"  *  \")\n",
    "if x2==2:\n",
    "    print(\"*    *\")\n",
    "if x3==3:\n",
    "    print(\"*    *\")\n",
    "if x4==4:\n",
    "    print(\"*  \\ *\")\n",
    "if x5==5:\n",
    "    print(\"   *\\ \")"
   ]
  },
  {
   "cell_type": "code",
   "execution_count": 52,
   "id": "848d09b9",
   "metadata": {},
   "outputs": [
    {
     "name": "stdout",
     "output_type": "stream",
     "text": [
      "* *  \n",
      "*   *\n",
      "* * \n",
      "*   *\n",
      "*   *\n"
     ]
    }
   ],
   "source": [
    "#r\n",
    "x1=1\n",
    "x2=2\n",
    "x3=3\n",
    "x4=4\n",
    "x5=5\n",
    "if x1==1:\n",
    "    print(\"* *  \")\n",
    "if x2==2:\n",
    "    print(\"*   *\")\n",
    "if x3==3:\n",
    "    print(\"* * \")\n",
    "if x4==4:\n",
    "    print(\"*   *\")\n",
    "if x5==5:\n",
    "    print(\"*   *\")"
   ]
  },
  {
   "cell_type": "code",
   "execution_count": 53,
   "id": "9901d56e",
   "metadata": {},
   "outputs": [
    {
     "name": "stdout",
     "output_type": "stream",
     "text": [
      "  * *\n",
      "*    \n",
      "  * \n",
      "    *\n",
      "* * \n"
     ]
    }
   ],
   "source": [
    "#s\n",
    "x1=1\n",
    "x2=2\n",
    "x3=3\n",
    "x4=4\n",
    "x5=5\n",
    "if x1==1:\n",
    "    print(\"  * *\")\n",
    "if x2==2:\n",
    "    print(\"*    \")\n",
    "if x3==3:\n",
    "    print(\"  * \")\n",
    "if x4==4:\n",
    "    print(\"    *\")\n",
    "if x5==5:\n",
    "    print(\"* * \")"
   ]
  },
  {
   "cell_type": "code",
   "execution_count": 54,
   "id": "8bb31f47",
   "metadata": {},
   "outputs": [
    {
     "name": "stdout",
     "output_type": "stream",
     "text": [
      "* * *\n",
      "  *  \n",
      "  * \n",
      "  *\n",
      "  *\n"
     ]
    }
   ],
   "source": [
    "#t\n",
    "x1=1\n",
    "x2=2\n",
    "x3=3\n",
    "x4=4\n",
    "x5=5\n",
    "if x1==1:\n",
    "    print(\"* * *\")\n",
    "if x2==2:\n",
    "    print(\"  *  \")\n",
    "if x3==3:\n",
    "    print(\"  * \")\n",
    "if x4==4:\n",
    "    print(\"  *\")\n",
    "if x5==5:\n",
    "    print(\"  *\")"
   ]
  },
  {
   "cell_type": "code",
   "execution_count": 2,
   "id": "03665302",
   "metadata": {},
   "outputs": [
    {
     "name": "stdout",
     "output_type": "stream",
     "text": [
      "*   *\n",
      "*   *\n",
      "*   *\n",
      "*   *\n",
      "  *  \n"
     ]
    }
   ],
   "source": [
    "#u\n",
    "x1=1\n",
    "x2=2\n",
    "x3=3\n",
    "x4=4\n",
    "x5=5\n",
    "if x1==1:\n",
    "    print(\"*   *\")\n",
    "if x2==2:\n",
    "    print(\"*   *\")\n",
    "if x3==3:\n",
    "    print(\"*   *\")\n",
    "if x4==4:\n",
    "    print(\"*   *\")\n",
    "if x5==5:\n",
    "    print(\"  *  \")"
   ]
  },
  {
   "cell_type": "code",
   "execution_count": 13,
   "id": "ea122f77",
   "metadata": {},
   "outputs": [
    {
     "name": "stdout",
     "output_type": "stream",
     "text": [
      "*   *\n",
      "*   *\n",
      "*   *\n",
      " * *\n",
      "  *  \n"
     ]
    }
   ],
   "source": [
    "#v\n",
    "x1=1\n",
    "x2=2\n",
    "x3=3\n",
    "x4=4\n",
    "x5=5\n",
    "if x1==1:\n",
    "    print(\"*   *\")\n",
    "if x2==2:\n",
    "    print(\"*   *\")\n",
    "if x3==3:\n",
    "    print(\"*   *\")\n",
    "if x4==4:\n",
    "    print(\" * *\")\n",
    "if x5==5:\n",
    "    print(\"  *  \")"
   ]
  },
  {
   "cell_type": "code",
   "execution_count": 14,
   "id": "da210e81",
   "metadata": {},
   "outputs": [
    {
     "name": "stdout",
     "output_type": "stream",
     "text": [
      "*     *\n",
      "*     *\n",
      "*  *  *\n",
      "* * * *\n",
      "*     *\n"
     ]
    }
   ],
   "source": [
    "#w\n",
    "x1=1\n",
    "x2=2\n",
    "x3=3\n",
    "x4=4\n",
    "x5=5\n",
    "if x1==1:\n",
    "    print(\"*     *\")\n",
    "if x2==2:\n",
    "    print(\"*     *\")\n",
    "if x3==3:\n",
    "    print(\"*  *  *\")\n",
    "if x4==4:\n",
    "    print(\"* * * *\")\n",
    "if x5==5:\n",
    "    print(\"*     *\")"
   ]
  },
  {
   "cell_type": "code",
   "execution_count": 62,
   "id": "9e410c96",
   "metadata": {},
   "outputs": [
    {
     "name": "stdout",
     "output_type": "stream",
     "text": [
      "*   *\n",
      " * * \n",
      "  *  \n",
      " * *\n",
      "*   *\n"
     ]
    }
   ],
   "source": [
    "#x\n",
    "x1=1\n",
    "x2=2\n",
    "x3=3\n",
    "x4=4\n",
    "x5=5\n",
    "if x1==1:\n",
    "    print(\"*   *\")\n",
    "if x2==2:\n",
    "    print(\" * * \")\n",
    "if x3==3:\n",
    "    print(\"  *  \")\n",
    "if x4==4:\n",
    "    print(\" * *\")\n",
    "if x5==5:\n",
    "    print(\"*   *\")"
   ]
  },
  {
   "cell_type": "code",
   "execution_count": 68,
   "id": "c295a489",
   "metadata": {},
   "outputs": [
    {
     "name": "stdout",
     "output_type": "stream",
     "text": [
      "*   *\n",
      " *  *\n",
      "  * *\n",
      "    *\n",
      "    * \n"
     ]
    }
   ],
   "source": [
    "#y\n",
    "x1=1\n",
    "x2=2\n",
    "x3=3\n",
    "x4=4\n",
    "x5=5\n",
    "if x1==1:\n",
    "    print(\"*   *\")\n",
    "if x2==2:\n",
    "    print(\" *  *\")\n",
    "if x3==3:\n",
    "    print(\"  * \")\n",
    "if x4==4:\n",
    "    print(\"  *\")\n",
    "if x5==5:\n",
    "    print(\"    * \")"
   ]
  },
  {
   "cell_type": "code",
   "execution_count": 72,
   "id": "c12d0670",
   "metadata": {},
   "outputs": [
    {
     "name": "stdout",
     "output_type": "stream",
     "text": [
      "* * *\n",
      "   *  \n",
      "  * \n",
      " *  \n",
      "* * *\n"
     ]
    }
   ],
   "source": [
    "#z\n",
    "x1=1\n",
    "x2=2\n",
    "x3=3\n",
    "x4=4\n",
    "x5=5\n",
    "if x1==1:\n",
    "    print(\"* * *\")\n",
    "if x2==2:\n",
    "    print(\"   *  \")\n",
    "if x3==3:\n",
    "    print(\"  * \")\n",
    "if x4==4:\n",
    "    print(\" *  \")\n",
    "if x5==5:\n",
    "    print(\"* * *\")"
   ]
  },
  {
   "cell_type": "code",
   "execution_count": null,
   "id": "7f24322e",
   "metadata": {},
   "outputs": [],
   "source": []
  }
 ],
 "metadata": {
  "kernelspec": {
   "display_name": "Python 3 (ipykernel)",
   "language": "python",
   "name": "python3"
  },
  "language_info": {
   "codemirror_mode": {
    "name": "ipython",
    "version": 3
   },
   "file_extension": ".py",
   "mimetype": "text/x-python",
   "name": "python",
   "nbconvert_exporter": "python",
   "pygments_lexer": "ipython3",
   "version": "3.10.9"
  }
 },
 "nbformat": 4,
 "nbformat_minor": 5
}
